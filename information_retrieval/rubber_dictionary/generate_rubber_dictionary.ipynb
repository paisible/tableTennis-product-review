{
 "cells": [
  {
   "cell_type": "code",
   "execution_count": 1,
   "metadata": {},
   "outputs": [],
   "source": [
    "# generate abbreviations using some fixed ordering combinations\n",
    "# returns dictionary of abbrev:rubber\n",
    "import re\n",
    "def gen_abbrevs(s):\n",
    "    \n",
    "    w = s.split(' ')\n",
    "\n",
    "    brand = w[0]\n",
    "    series = w[1]\n",
    "    combos = []\n",
    "    if len(w) > 4:\n",
    "        combos = []\n",
    "    elif len(w) == 2:\n",
    "        combos.append(series)\n",
    "    elif len(w) >= 3:\n",
    "        name = w[2]\n",
    "        if len(w) == 3:\n",
    "            combos.append(series+' '+name)\n",
    "            if '-' in name:\n",
    "                combos.append(name)\n",
    "                combos.append(name.replace('-',''))\n",
    "                combos.append(series + ' ' + name.replace('-',''))\n",
    "            if name.isnumeric():\n",
    "                if series.lower() != 'skyline':\n",
    "                    combos.append(series[0]+name)\n",
    "                combos.append(series+name)\n",
    "            if series.lower()=='tenergy' \\\n",
    "                or (brand.lower()=='donic' \\\n",
    "                and re.search(r'\\d', name) \\\n",
    "                and re.search(r'.*[a-zA-Z].*',name)):\n",
    "                combos.append(name)\n",
    "        elif len(w) == 4:\n",
    "            quant = w[3]\n",
    "            combos.append(name+'-'+quant)\n",
    "            combos.append(name+quant)\n",
    "            combos.append(name+' '+quant)    \n",
    "            combos.append(series + ' ' + name + '-' + quant)\n",
    "            combos.append(series + ' ' + name + ' ' + quant)\n",
    "            combos.append(series + ' ' + name + '' + quant)\n",
    "            if name.isnumeric():\n",
    "                combos.append(series[0]+name+quant)\n",
    "                combos.append(series[0]+name+'-'+quant)\n",
    "\n",
    "    w_brand = []\n",
    "    for c in combos:\n",
    "        w_brand.append(brand + ' ' + c)\n",
    "    combos = combos + w_brand\n",
    "\n",
    "    s_compact = '-'.join(w)\n",
    "    \n",
    "    return {c:s_compact for c in combos}, combos, s_compact\n"
   ]
  },
  {
   "cell_type": "code",
   "execution_count": 8,
   "metadata": {},
   "outputs": [
    {
     "name": "stdout",
     "output_type": "stream",
     "text": [
      "['Baracuda', 'Donic Baracuda']\n",
      "['Acuda S2', 'S2', 'Donic Acuda S2', 'Donic S2']\n",
      "['Tenergy 05', 'T05', 'Tenergy05', '05', 'Butterfly Tenergy 05', 'Butterfly T05', 'Butterfly Tenergy05', 'Butterfly 05']\n"
     ]
    }
   ],
   "source": [
    "# examples\n",
    "print(gen_abbrevs('Donic Baracuda')[1])\n",
    "print(gen_abbrevs('Donic Acuda S2')[1])\n",
    "print(gen_abbrevs('Butterfly Tenergy 05')[1])"
   ]
  },
  {
   "cell_type": "code",
   "execution_count": 3,
   "metadata": {},
   "outputs": [],
   "source": [
    "# do this on the list of rubbers we are interested in for now\n",
    "\n",
    "import csv\n",
    "\n",
    "with open('rub_master_list.csv', newline='') as f:\n",
    "    reader = csv.reader(f)\n",
    "    rub_list = list(reader)\n",
    "\n",
    "rub_dict = {}\n",
    "rub_name_list = []\n",
    "\n",
    "for rub in rub_list:\n",
    "    d, _, n = gen_abbrevs(rub[0])\n",
    "    rub_dict.update(d)\n",
    "    rub_name_list.append(n)\n",
    "    \n",
    "# other miscellaneous items\n",
    "with open('rub_list_misc.csv') as f:\n",
    "    reader = csv.reader(f)\n",
    "    rub_list_misc = list(reader)\n",
    "rub_dict.update({k:v for (k,v) in rub_list_misc})\n",
    "\n",
    "rub_name_list = rub_name_list + [v for (_,v) in rub_list_misc]\n",
    "rub_name_list = set(rub_name_list)\n",
    "\n",
    "# make all lower case\n",
    "rub_dict = {k.lower(): v for k, v in rub_dict.items()}"
   ]
  },
  {
   "cell_type": "code",
   "execution_count": 4,
   "metadata": {},
   "outputs": [
    {
     "data": {
      "text/plain": [
       "'i love Tibhar-Evolution-EL-P and Butterfly-Tenergy-05 and Tibhar-Evolution-EL-P and Butterfly-Tenergy-05-FX and Tensor-rubbers and Butterfly-Tenergy and Donic-Bluestorm-Z1 and speed'"
      ]
     },
     "execution_count": 4,
     "metadata": {},
     "output_type": "execute_result"
    }
   ],
   "source": [
    "# check to see if substitutions make sense\n",
    "import re\n",
    "\n",
    "regex = re.compile(r'(?<!\\w)(' + '|'.join(re.escape(key) for key in rub_dict.keys()) + r')(?!\\w)',re.IGNORECASE)\n",
    "\n",
    "def sub_rubber_names(s):\n",
    "    if isinstance(s, str):\n",
    "        return regex.sub(lambda m: rub_dict[m.group(0).lower()],s)\n",
    "    else:\n",
    "        return ''\n",
    "\n",
    "sub_rubber_names('i love evolution elp and t05 and el-p and T05FX and tensor rubbers and ten and z1 and speed')"
   ]
  },
  {
   "cell_type": "code",
   "execution_count": 5,
   "metadata": {},
   "outputs": [],
   "source": [
    "# save to csv file\n",
    "with open('rub_dict.csv', 'w') as f:\n",
    "    for key in rub_dict.keys():\n",
    "        f.write(\"%s,%s\\n\"%(key,rub_dict[key]))\n",
    "        \n",
    "with open('rub_name_list.csv', 'w') as f:\n",
    "    for rub in rub_name_list:\n",
    "        f.write(\"%s\\n\"%(rub))"
   ]
  },
  {
   "cell_type": "code",
   "execution_count": 6,
   "metadata": {},
   "outputs": [
    {
     "data": {
      "text/plain": [
       "2834"
      ]
     },
     "execution_count": 6,
     "metadata": {},
     "output_type": "execute_result"
    }
   ],
   "source": [
    "len(rub_dict)"
   ]
  }
 ],
 "metadata": {
  "kernelspec": {
   "display_name": "Python 3",
   "language": "python",
   "name": "python3"
  },
  "language_info": {
   "codemirror_mode": {
    "name": "ipython",
    "version": 3
   },
   "file_extension": ".py",
   "mimetype": "text/x-python",
   "name": "python",
   "nbconvert_exporter": "python",
   "pygments_lexer": "ipython3",
   "version": "3.6.7"
  }
 },
 "nbformat": 4,
 "nbformat_minor": 2
}
