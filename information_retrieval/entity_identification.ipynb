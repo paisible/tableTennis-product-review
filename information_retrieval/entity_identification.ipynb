{
 "cells": [
  {
   "cell_type": "code",
   "execution_count": 71,
   "metadata": {
    "scrolled": false
   },
   "outputs": [
    {
     "data": {
      "text/html": [
       "<div>\n",
       "<style scoped>\n",
       "    .dataframe tbody tr th:only-of-type {\n",
       "        vertical-align: middle;\n",
       "    }\n",
       "\n",
       "    .dataframe tbody tr th {\n",
       "        vertical-align: top;\n",
       "    }\n",
       "\n",
       "    .dataframe thead th {\n",
       "        text-align: right;\n",
       "    }\n",
       "</style>\n",
       "<table border=\"1\" class=\"dataframe\">\n",
       "  <thead>\n",
       "    <tr style=\"text-align: right;\">\n",
       "      <th></th>\n",
       "      <th>id</th>\n",
       "      <th>thread_title</th>\n",
       "      <th>reply_split</th>\n",
       "      <th>classification</th>\n",
       "      <th>Entity 1</th>\n",
       "      <th>Entity 2</th>\n",
       "      <th>Attribute</th>\n",
       "      <th>Direction</th>\n",
       "    </tr>\n",
       "  </thead>\n",
       "  <tbody>\n",
       "    <tr>\n",
       "      <th>2</th>\n",
       "      <td>5f686bc7b59794ca78c70902</td>\n",
       "      <td>Tenergy 05FX vs Tenergy 64FX</td>\n",
       "      <td>I used T05fx before and I really appreciate th...</td>\n",
       "      <td>1</td>\n",
       "      <td>NaN</td>\n",
       "      <td>NaN</td>\n",
       "      <td>NaN</td>\n",
       "      <td>NaN</td>\n",
       "    </tr>\n",
       "    <tr>\n",
       "      <th>3</th>\n",
       "      <td>5f686bc7b59794ca78c70902</td>\n",
       "      <td>Tenergy 05FX vs Tenergy 64FX</td>\n",
       "      <td>On the other hand less spin too.</td>\n",
       "      <td>2</td>\n",
       "      <td>NaN</td>\n",
       "      <td>NaN</td>\n",
       "      <td>NaN</td>\n",
       "      <td>NaN</td>\n",
       "    </tr>\n",
       "    <tr>\n",
       "      <th>4</th>\n",
       "      <td>5f686bc7b59794ca78c70902</td>\n",
       "      <td>Tenergy 05FX vs Tenergy 64FX</td>\n",
       "      <td>Very good for block.</td>\n",
       "      <td>4</td>\n",
       "      <td>NaN</td>\n",
       "      <td>NaN</td>\n",
       "      <td>NaN</td>\n",
       "      <td>NaN</td>\n",
       "    </tr>\n",
       "    <tr>\n",
       "      <th>5</th>\n",
       "      <td>5f686bc7b59794ca78c70902</td>\n",
       "      <td>Tenergy 05FX vs Tenergy 64FX</td>\n",
       "      <td>For my style I really prefer T64fx than T05fx ...</td>\n",
       "      <td>1</td>\n",
       "      <td>NaN</td>\n",
       "      <td>NaN</td>\n",
       "      <td>NaN</td>\n",
       "      <td>NaN</td>\n",
       "    </tr>\n",
       "    <tr>\n",
       "      <th>42</th>\n",
       "      <td>5f686bdbb59794ca78c7090b</td>\n",
       "      <td>Tenergy 05 vs Tenergy 80</td>\n",
       "      <td>If you loop everything and are active in the s...</td>\n",
       "      <td>2</td>\n",
       "      <td>NaN</td>\n",
       "      <td>NaN</td>\n",
       "      <td>NaN</td>\n",
       "      <td>NaN</td>\n",
       "    </tr>\n",
       "  </tbody>\n",
       "</table>\n",
       "</div>"
      ],
      "text/plain": [
       "                          id                  thread_title  \\\n",
       "2   5f686bc7b59794ca78c70902  Tenergy 05FX vs Tenergy 64FX   \n",
       "3   5f686bc7b59794ca78c70902  Tenergy 05FX vs Tenergy 64FX   \n",
       "4   5f686bc7b59794ca78c70902  Tenergy 05FX vs Tenergy 64FX   \n",
       "5   5f686bc7b59794ca78c70902  Tenergy 05FX vs Tenergy 64FX   \n",
       "42  5f686bdbb59794ca78c7090b      Tenergy 05 vs Tenergy 80   \n",
       "\n",
       "                                          reply_split classification Entity 1  \\\n",
       "2   I used T05fx before and I really appreciate th...              1      NaN   \n",
       "3                    On the other hand less spin too.              2      NaN   \n",
       "4                                Very good for block.              4      NaN   \n",
       "5   For my style I really prefer T64fx than T05fx ...              1      NaN   \n",
       "42  If you loop everything and are active in the s...              2      NaN   \n",
       "\n",
       "   Entity 2 Attribute Direction  \n",
       "2       NaN       NaN       NaN  \n",
       "3       NaN       NaN       NaN  \n",
       "4       NaN       NaN       NaN  \n",
       "5       NaN       NaN       NaN  \n",
       "42      NaN       NaN       NaN  "
      ]
     },
     "execution_count": 71,
     "metadata": {},
     "output_type": "execute_result"
    }
   ],
   "source": [
    "import pandas as pd\n",
    "pd.options.mode.chained_assignment = None \n",
    "\n",
    "df1 = pd.read_csv('labels0.csv',index_col=0)\n",
    "df2 = pd.read_csv('and_or_labels0_annotated.csv',encoding='cp1252',index_col=0)\n",
    "df2.drop(df2.columns[df2.columns.str.contains('unnamed',case = False)],axis = 1, inplace = True)\n",
    "\n",
    "df_all = pd.concat([df1,df2])\n",
    "rel_class = [1,2,3,4]\n",
    "df = df_all.loc[df_all['classification'].isin(rel_class)]\n",
    "#df = df_all.copy()\n",
    "df.head()"
   ]
  },
  {
   "cell_type": "code",
   "execution_count": 17,
   "metadata": {},
   "outputs": [
    {
     "data": {
      "text/html": [
       "<div>\n",
       "<style scoped>\n",
       "    .dataframe tbody tr th:only-of-type {\n",
       "        vertical-align: middle;\n",
       "    }\n",
       "\n",
       "    .dataframe tbody tr th {\n",
       "        vertical-align: top;\n",
       "    }\n",
       "\n",
       "    .dataframe thead th {\n",
       "        text-align: right;\n",
       "    }\n",
       "</style>\n",
       "<table border=\"1\" class=\"dataframe\">\n",
       "  <thead>\n",
       "    <tr style=\"text-align: right;\">\n",
       "      <th></th>\n",
       "      <th>id</th>\n",
       "      <th>thread_title</th>\n",
       "      <th>reply_split</th>\n",
       "      <th>classification</th>\n",
       "      <th>Entity 1</th>\n",
       "      <th>Entity 2</th>\n",
       "      <th>Attribute</th>\n",
       "      <th>Direction</th>\n",
       "      <th>reply_sub</th>\n",
       "    </tr>\n",
       "  </thead>\n",
       "  <tbody>\n",
       "    <tr>\n",
       "      <th>2</th>\n",
       "      <td>5f686bc7b59794ca78c70902</td>\n",
       "      <td>Tenergy 05FX vs Tenergy 64FX</td>\n",
       "      <td>I used T05fx before and I really appreciate th...</td>\n",
       "      <td>1</td>\n",
       "      <td>NaN</td>\n",
       "      <td>NaN</td>\n",
       "      <td>NaN</td>\n",
       "      <td>NaN</td>\n",
       "      <td>I used Butterfly-Tenergy-05-FX before and I re...</td>\n",
       "    </tr>\n",
       "    <tr>\n",
       "      <th>3</th>\n",
       "      <td>5f686bc7b59794ca78c70902</td>\n",
       "      <td>Tenergy 05FX vs Tenergy 64FX</td>\n",
       "      <td>On the other hand less spin too.</td>\n",
       "      <td>2</td>\n",
       "      <td>NaN</td>\n",
       "      <td>NaN</td>\n",
       "      <td>NaN</td>\n",
       "      <td>NaN</td>\n",
       "      <td>On the other hand less spin too.</td>\n",
       "    </tr>\n",
       "    <tr>\n",
       "      <th>4</th>\n",
       "      <td>5f686bc7b59794ca78c70902</td>\n",
       "      <td>Tenergy 05FX vs Tenergy 64FX</td>\n",
       "      <td>Very good for block.</td>\n",
       "      <td>4</td>\n",
       "      <td>NaN</td>\n",
       "      <td>NaN</td>\n",
       "      <td>NaN</td>\n",
       "      <td>NaN</td>\n",
       "      <td>Very good for block.</td>\n",
       "    </tr>\n",
       "    <tr>\n",
       "      <th>5</th>\n",
       "      <td>5f686bc7b59794ca78c70902</td>\n",
       "      <td>Tenergy 05FX vs Tenergy 64FX</td>\n",
       "      <td>For my style I really prefer T64fx than T05fx ...</td>\n",
       "      <td>1</td>\n",
       "      <td>NaN</td>\n",
       "      <td>NaN</td>\n",
       "      <td>NaN</td>\n",
       "      <td>NaN</td>\n",
       "      <td>For my style I really prefer Butterfly-Tenergy...</td>\n",
       "    </tr>\n",
       "    <tr>\n",
       "      <th>42</th>\n",
       "      <td>5f686bdbb59794ca78c7090b</td>\n",
       "      <td>Tenergy 05 vs Tenergy 80</td>\n",
       "      <td>If you loop everything and are active in the s...</td>\n",
       "      <td>2</td>\n",
       "      <td>NaN</td>\n",
       "      <td>NaN</td>\n",
       "      <td>NaN</td>\n",
       "      <td>NaN</td>\n",
       "      <td>If you loop everything and are active in the s...</td>\n",
       "    </tr>\n",
       "  </tbody>\n",
       "</table>\n",
       "</div>"
      ],
      "text/plain": [
       "                          id                  thread_title  \\\n",
       "2   5f686bc7b59794ca78c70902  Tenergy 05FX vs Tenergy 64FX   \n",
       "3   5f686bc7b59794ca78c70902  Tenergy 05FX vs Tenergy 64FX   \n",
       "4   5f686bc7b59794ca78c70902  Tenergy 05FX vs Tenergy 64FX   \n",
       "5   5f686bc7b59794ca78c70902  Tenergy 05FX vs Tenergy 64FX   \n",
       "42  5f686bdbb59794ca78c7090b      Tenergy 05 vs Tenergy 80   \n",
       "\n",
       "                                          reply_split classification Entity 1  \\\n",
       "2   I used T05fx before and I really appreciate th...              1      NaN   \n",
       "3                    On the other hand less spin too.              2      NaN   \n",
       "4                                Very good for block.              4      NaN   \n",
       "5   For my style I really prefer T64fx than T05fx ...              1      NaN   \n",
       "42  If you loop everything and are active in the s...              2      NaN   \n",
       "\n",
       "   Entity 2 Attribute Direction  \\\n",
       "2       NaN       NaN       NaN   \n",
       "3       NaN       NaN       NaN   \n",
       "4       NaN       NaN       NaN   \n",
       "5       NaN       NaN       NaN   \n",
       "42      NaN       NaN       NaN   \n",
       "\n",
       "                                            reply_sub  \n",
       "2   I used Butterfly-Tenergy-05-FX before and I re...  \n",
       "3                    On the other hand less spin too.  \n",
       "4                                Very good for block.  \n",
       "5   For my style I really prefer Butterfly-Tenergy...  \n",
       "42  If you loop everything and are active in the s...  "
      ]
     },
     "execution_count": 17,
     "metadata": {},
     "output_type": "execute_result"
    }
   ],
   "source": [
    "# substitute the rubber names using dictionary\n",
    "import re\n",
    "import csv\n",
    "\n",
    "# load the dictionary\n",
    "def csv2dict(fn):\n",
    "    with open(fn) as f:\n",
    "        reader = csv.reader(f)\n",
    "        d = list(reader)\n",
    "    return {k:v for (k,v) in d}\n",
    "rub_dict = csv2dict('rub_dict.csv')\n",
    "\n",
    "regex = re.compile(r'(?<!\\w)(' + '|'.join(re.escape(key) for key in rub_dict.keys()) + r')(?!\\w)',re.IGNORECASE)\n",
    "\n",
    "def sub_rubber_names(s):\n",
    "    if isinstance(s, str):\n",
    "        return regex.sub(lambda m: rub_dict[m.group(0).lower()],s)\n",
    "    else:\n",
    "        return ''\n",
    "\n",
    "df.loc[:,'reply_sub'] = df['reply_split'].apply(sub_rubber_names)\n",
    "df.head()"
   ]
  },
  {
   "cell_type": "code",
   "execution_count": null,
   "metadata": {},
   "outputs": [],
   "source": []
  },
  {
   "cell_type": "code",
   "execution_count": 18,
   "metadata": {},
   "outputs": [],
   "source": [
    "import nltk\n",
    "\n",
    "# tokenize words, and remove stop words (if b_rm)\n",
    "# then do pos tagging\n",
    "def word_process(s, b_rm=0):\n",
    "    wo = nltk.word_tokenize(s)\n",
    "#    sw_include_list = 'than, as'    \n",
    "#    if b_rm:\n",
    "#        wo = [w for w in wo if w not in nltk.corpus.stopwords.words('english') or w in sw_include_list]\n",
    "    wo_pt = nltk.pos_tag(wo)\n",
    "    return wo_pt\n"
   ]
  },
  {
   "cell_type": "code",
   "execution_count": 19,
   "metadata": {},
   "outputs": [],
   "source": [
    "df['reply_words'] = ''\n",
    "df.loc[:,'reply_words'] = df['reply_sub'].apply(word_process)"
   ]
  },
  {
   "cell_type": "code",
   "execution_count": 20,
   "metadata": {},
   "outputs": [],
   "source": [
    "# pick out the rubber names\n",
    "\n",
    "# load the rubber list names\n",
    "def csv2list(fn):\n",
    "    with open(fn) as f:\n",
    "        reader = csv.reader(f)\n",
    "        d = list(reader)\n",
    "    return [r[0] for r in d]\n",
    "rub_list = csv2list('rub_name_list.csv')\n",
    "\n",
    "def find_rubbers(s_words):\n",
    "    l = []\n",
    "    for (w, t) in s_words:\n",
    "        if t == 'NNP' and w not in l:\n",
    "            l.append(w)\n",
    "        elif w in rub_list and w not in l:\n",
    "            l.append(w)\n",
    "    return l\n",
    "\n",
    "df.loc[:,'entity'] = df['reply_words'].apply(find_rubbers)"
   ]
  },
  {
   "cell_type": "code",
   "execution_count": 21,
   "metadata": {},
   "outputs": [
    {
     "name": "stdout",
     "output_type": "stream",
     "text": [
      "99\n",
      "87\n"
     ]
    }
   ],
   "source": [
    "# want to see of the ones that are labelled as 1, how many actually identify two rubbers\n",
    "\n",
    "df.loc[:,'num_entity'] = df['entity'].apply(lambda l: len(l))\n",
    "\n",
    "sum(df.loc[:].classification == 1)\n",
    "b1 = df['classification'] == 1\n",
    "b2 = df['num_entity'] >= 2\n",
    "df_good = df[df['classification'] == 1 & (df['num_entity'] >= 2)]\n",
    "df_bad = df[df['classification'] == 1 & (df['num_entity'] < 2)]\n",
    "print(sum(b1))\n",
    "print(sum(b2 & b1))"
   ]
  },
  {
   "cell_type": "code",
   "execution_count": 22,
   "metadata": {},
   "outputs": [
    {
     "name": "stdout",
     "output_type": "stream",
     "text": [
      "But rakza 7is equally opp to rakza x in terms of feel and durability.\n",
      "But rakza 7is equally opp to rakza x in terms of feel and durability.\n",
      "[('But', 'CC'), ('rakza', 'VBZ'), ('7is', 'CD'), ('equally', 'RB'), ('opp', 'JJ'), ('to', 'TO'), ('rakza', 'VB'), ('x', 'NNP'), ('in', 'IN'), ('terms', 'NNS'), ('of', 'IN'), ('feel', 'NN'), ('and', 'CC'), ('durability', 'NN'), ('.', '.')]\n",
      "['x']\n"
     ]
    }
   ],
   "source": [
    "def print_all(p):\n",
    "    print(p.reply_split)\n",
    "    print(p.reply_sub)   \n",
    "    print(p.reply_words)   \n",
    "    print(p.entity)\n",
    "print_all(df_bad.iloc[6])"
   ]
  },
  {
   "cell_type": "code",
   "execution_count": 23,
   "metadata": {},
   "outputs": [
    {
     "name": "stdout",
     "output_type": "stream",
     "text": [
      "H3 has much better spin (like 2x of b2) and control.\n",
      "['DHS-Hurricane-3']\n"
     ]
    }
   ],
   "source": [
    "i = 200\n",
    "print(df.iloc[i].reply_split)\n",
    "print(df.iloc[i].entity)"
   ]
  },
  {
   "cell_type": "code",
   "execution_count": 25,
   "metadata": {},
   "outputs": [
    {
     "data": {
      "image/png": "[encoded data removed]",
      "text/plain": [
       "<Figure size 1080x216 with 1 Axes>"
      ]
     },
     "metadata": {
      "needs_background": "light"
     },
     "output_type": "display_data"
    }
   ],
   "source": [
    "from collections import Counter\n",
    "import seaborn as sns\n",
    "import matplotlib.pyplot as plt\n",
    "\n",
    "p = []\n",
    "df[df['classification']==1].entity.apply(lambda l: p.extend(l))\n",
    "most = Counter(p).most_common()\n",
    "\n",
    "x, y= [], []\n",
    "for word,count in most[:10]:\n",
    "    x.append(word)\n",
    "    y.append(count)\n",
    "\n",
    "plt.figure(figsize=(15,3))\n",
    "ax = sns.barplot(x=y,y=x)"
   ]
  },
  {
   "cell_type": "code",
   "execution_count": 26,
   "metadata": {},
   "outputs": [
    {
     "data": {
      "image/png": "[encoded data removed]",
      "text/plain": [
       "<Figure size 1080x504 with 1 Axes>"
      ]
     },
     "metadata": {
      "needs_background": "light"
     },
     "output_type": "display_data"
    }
   ],
   "source": [
    "p = []\n",
    "df.entity.apply(lambda l: p.extend(l))\n",
    "most = Counter(p).most_common()\n",
    "\n",
    "x, y= [], []\n",
    "for word,count in most[:20]:\n",
    "    x.append(word)\n",
    "    y.append(count)\n",
    "\n",
    "plt.figure(figsize=(15,7))\n",
    "ax = sns.barplot(x=y,y=x)"
   ]
  },
  {
   "cell_type": "code",
   "execution_count": 33,
   "metadata": {},
   "outputs": [],
   "source": [
    "comps = []\n",
    "for ind, row in df[df['classification']==1].iterrows():\n",
    "    entities = row.entity\n",
    "    temp = []\n",
    "    b = False\n",
    "    for e in entities:\n",
    "        if e == 'Donic-Baracuda':\n",
    "            b = True\n",
    "        else:\n",
    "            temp.append(e)\n",
    "    if b:\n",
    "        comps.append(temp)\n",
    "comps = [s for l in comps for s in l]\n"
   ]
  },
  {
   "cell_type": "code",
   "execution_count": 34,
   "metadata": {},
   "outputs": [
    {
     "data": {
      "image/png": "[encoded data removed]",
      "text/plain": [
       "<Figure size 1080x216 with 1 Axes>"
      ]
     },
     "metadata": {
      "needs_background": "light"
     },
     "output_type": "display_data"
    }
   ],
   "source": [
    "most = Counter(comps).most_common()\n",
    "\n",
    "x, y= [], []\n",
    "for word,count in most[:10]:\n",
    "    x.append(word)\n",
    "    y.append(count)\n",
    "\n",
    "plt.figure(figsize=(15,3))\n",
    "ax = sns.barplot(x=y,y=x)"
   ]
  },
  {
   "cell_type": "code",
   "execution_count": 122,
   "metadata": {},
   "outputs": [
    {
     "data": {
      "text/plain": [
       "[['Butterfly-Tenergy'],\n",
       " ['Butterfly-Tenergy', 'Ten'],\n",
       " ['Butterfly-Tenergy'],\n",
       " ['Ten05'],\n",
       " ['Butterfly-Tenergy-80', 'Butterfly-Tenergy'],\n",
       " ['Butterfly-Tenergy'],\n",
       " ['Butterfly-Tenergy', 'Ten'],\n",
       " ['Butterfly-Tenergy'],\n",
       " ['Ten05'],\n",
       " ['Butterfly-Tenergy-80', 'Butterfly-Tenergy'],\n",
       " ['Butterfly-Tenergy'],\n",
       " ['Butterfly-Tenergy', 'Ten'],\n",
       " ['Butterfly-Tenergy'],\n",
       " ['Ten05'],\n",
       " ['Butterfly-Tenergy-80', 'Butterfly-Tenergy'],\n",
       " ['Nittaku-Fastarc-G-1'],\n",
       " [],\n",
       " ['Xiom-Vega-Pro', 'Acuda', 'S2'],\n",
       " [],\n",
       " ['Nittaku-Fastarc-G-1', 'Hexer', 'Genius', 'Xplode', 'Xiom-Vega-Pro'],\n",
       " ['Genius'],\n",
       " [],\n",
       " ['Butterfly-Tenergy-05']]"
      ]
     },
     "execution_count": 122,
     "metadata": {},
     "output_type": "execute_result"
    }
   ],
   "source": [
    "comps"
   ]
  },
  {
   "cell_type": "code",
   "execution_count": null,
   "metadata": {},
   "outputs": [],
   "source": []
  },
  {
   "cell_type": "code",
   "execution_count": 39,
   "metadata": {},
   "outputs": [
    {
     "name": "stdout",
     "output_type": "stream",
     "text": [
      "[224, 226, 240, 255, 258, 260, 274, 289, 292, 294, 308, 323, 350, 425, 428, 1168, 2215]\n",
      "['Tenenergy 05 vs Donic Baracuda', 'Tenenergy 05 vs Donic Baracuda', 'Tenenergy 05 vs Donic Baracuda', 'Tenenergy 05 vs Donic Baracuda', 'Tenenergy 05 vs Donic Baracuda', 'Tenenergy 05 vs Donic Baracuda', 'Tenenergy 05 vs Donic Baracuda', 'Tenenergy 05 vs Donic Baracuda', 'Tenenergy 05 vs Donic Baracuda', 'Tenenergy 05 vs Donic Baracuda', 'Tenenergy 05 vs Donic Baracuda', 'Tenenergy 05 vs Donic Baracuda', 'Tibhar Evo EL-P vs FX-P for flicks and brushing loops', 'Need a new BH rubber: O7P vs DNA Pro M?', 'Need a new BH rubber: O7P vs DNA Pro M?', 'Tibhar Genius (vs Donic Baracuda)', 'backhand advice T05fx vs. T64']\n"
     ]
    }
   ],
   "source": [
    "# wanna figure out what butterfly-tenergy refers to\n",
    "ten_ind = []\n",
    "ten_tit = []\n",
    "for ind, row in df[df['classification']==1].iterrows():\n",
    "    entities = row.entity\n",
    "    for e in entities:\n",
    "        if e == 'Butterfly-Tenergy':\n",
    "            ten_ind.append(ind)\n",
    "            ten_tit.append(row.thread_title)\n",
    "            \n",
    "print(ten_ind)\n",
    "print(ten_tit)"
   ]
  },
  {
   "cell_type": "code",
   "execution_count": 57,
   "metadata": {},
   "outputs": [
    {
     "data": {
      "text/plain": [
       "'Mx-p VS Xiom Sigma 2 Europe Europe'"
      ]
     },
     "execution_count": 57,
     "metadata": {},
     "output_type": "execute_result"
    }
   ],
   "source": [
    "df_c2 = df[df['classification']==2]\n",
    "df_c2.iloc[130].reply_sub\n",
    "df_c2.iloc[130].thread_title"
   ]
  },
  {
   "cell_type": "code",
   "execution_count": 55,
   "metadata": {},
   "outputs": [
    {
     "data": {
      "text/plain": [
       "(148, 12)"
      ]
     },
     "execution_count": 55,
     "metadata": {},
     "output_type": "execute_result"
    }
   ],
   "source": [
    "df_c2.shape"
   ]
  },
  {
   "cell_type": "code",
   "execution_count": 54,
   "metadata": {},
   "outputs": [
    {
     "ename": "SyntaxError",
     "evalue": "invalid syntax (<ipython-input-54-256ca61d3d9f>, line 3)",
     "output_type": "error",
     "traceback": [
      "\u001b[0;36m  File \u001b[0;32m\"<ipython-input-54-256ca61d3d9f>\"\u001b[0;36m, line \u001b[0;32m3\u001b[0m\n\u001b[0;31m    'handler': function(env, event) {\u001b[0m\n\u001b[0m                                    ^\u001b[0m\n\u001b[0;31mSyntaxError\u001b[0m\u001b[0;31m:\u001b[0m invalid syntax\n"
     ]
    }
   ],
   "source": [
    " "
   ]
  },
  {
   "cell_type": "code",
   "execution_count": null,
   "metadata": {},
   "outputs": [],
   "source": []
  },
  {
   "cell_type": "code",
   "execution_count": null,
   "metadata": {},
   "outputs": [],
   "source": []
  },
  {
   "cell_type": "code",
   "execution_count": null,
   "metadata": {},
   "outputs": [],
   "source": [
    "w_tagged = df.iloc[0].reply_words\n",
    "ent = nltk.ne_chunk(w_tagged, binary=True)\n",
    "print(ent)"
   ]
  },
  {
   "cell_type": "code",
   "execution_count": null,
   "metadata": {},
   "outputs": [],
   "source": [
    "import svgling\n",
    "svgling.draw_tree(ent)\n"
   ]
  },
  {
   "cell_type": "code",
   "execution_count": null,
   "metadata": {},
   "outputs": [],
   "source": [
    "from IPython.display import display\n",
    "\n",
    "\n",
    "ent = nltk.ne_chunk(w_tagged, binary=True)\n",
    "from IPython.display import Image\n",
    "\n",
    "IPython.core.display.display(ent)\n"
   ]
  },
  {
   "cell_type": "code",
   "execution_count": null,
   "metadata": {},
   "outputs": [],
   "source": [
    "# find the pronouns and comparative words\n",
    "def isolate_words(s):\n",
    "    l = []\n",
    "    abb_list = ['CD','NNP','JJR','JJS','RBR','RBS']\n",
    "    feat_list = ['spin','durable','heavy','weight','weigh','block']\n",
    "    \n",
    "    for w in s:\n",
    "        if w[1] in abb_list:\n",
    "            l.append(w)\n",
    "            \n",
    "    return l"
   ]
  },
  {
   "cell_type": "code",
   "execution_count": null,
   "metadata": {},
   "outputs": [],
   "source": [
    "i = 5\n",
    "print(df_test.iloc[i].reply_split)\n",
    "print(df_test.iloc[i].reply_words)\n",
    "print(isolate_words(df_test.iloc[i].reply_words))"
   ]
  },
  {
   "cell_type": "code",
   "execution_count": null,
   "metadata": {},
   "outputs": [],
   "source": [
    "import nltk\n",
    "nltk.download('wordnet')"
   ]
  },
  {
   "cell_type": "code",
   "execution_count": null,
   "metadata": {},
   "outputs": [],
   "source": [
    "nltk.stem.WordNetLemmatizer().lemmatize(\"weight\",'n')"
   ]
  },
  {
   "cell_type": "code",
   "execution_count": null,
   "metadata": {},
   "outputs": [],
   "source": [
    "import re\n",
    "\n",
    "rub_dict = {'t05':'tenergy','t-05':'tenergy','h3':'hurricane'}\n",
    "rub_dict = {k.lower(): v for k, v in rub_dict.items()}\n",
    "\n",
    "regex = re.compile('|'.join(map(re.escape,rub_dict.keys())),re.IGNORECASE)\n",
    "\n",
    "s = 'i love t05 and t-05, H3'\n",
    "# m = regex.findall(s)\n",
    "# print(m)\n",
    "regex.sub(lambda m: rub_dict[m.group(0).lower()],s)"
   ]
  },
  {
   "cell_type": "code",
   "execution_count": null,
   "metadata": {},
   "outputs": [],
   "source": []
  },
  {
   "cell_type": "code",
   "execution_count": null,
   "metadata": {},
   "outputs": [],
   "source": []
  },
  {
   "cell_type": "code",
   "execution_count": null,
   "metadata": {},
   "outputs": [],
   "source": [
    "nltk.download('maxent_ne_chunker')\n",
    "nltk.download('words')"
   ]
  },
  {
   "cell_type": "code",
   "execution_count": null,
   "metadata": {},
   "outputs": [],
   "source": [
    "# check if contains:\n",
    "# 1. comparative adjective\n",
    "# 2. word from comparative lexicon\n",
    "comp_abb_list = ['JJR','JJS','RBR','RBS']\n",
    "def b_comp_adj(w_pt):\n",
    "    # input pos tag    \n",
    "    b = 0\n",
    "    if type(w_pt) is list:\n",
    "        for w_tag in w_pt:\n",
    "            if w_tag[1] in comp_abb_list:\n",
    "                b = 1\n",
    "    return b\n",
    "\n",
    "# more, most, less, least, better, best, worse, worst, further/farther and furthest/farthest.\n",
    "# beat, defeat, destroy, decimate, equal, equally, kill, lead, obliterate, outclass (out class and out-class),\n",
    "# outdo, outperform, outplay, overtake (over take and over-take), smack, subdue, subpar, surpass, top,\n",
    "# trump, unmated, win."
   ]
  },
  {
   "cell_type": "code",
   "execution_count": null,
   "metadata": {},
   "outputs": [],
   "source": [
    "rub_dict"
   ]
  },
  {
   "cell_type": "code",
   "execution_count": 70,
   "metadata": {},
   "outputs": [
    {
     "data": {
      "text/html": [
       "<div>\n",
       "<style scoped>\n",
       "    .dataframe tbody tr th:only-of-type {\n",
       "        vertical-align: middle;\n",
       "    }\n",
       "\n",
       "    .dataframe tbody tr th {\n",
       "        vertical-align: top;\n",
       "    }\n",
       "\n",
       "    .dataframe thead th {\n",
       "        text-align: right;\n",
       "    }\n",
       "</style>\n",
       "<table border=\"1\" class=\"dataframe\">\n",
       "  <thead>\n",
       "    <tr style=\"text-align: right;\">\n",
       "      <th></th>\n",
       "      <th>id</th>\n",
       "      <th>thread_title</th>\n",
       "      <th>reply_split</th>\n",
       "      <th>classification</th>\n",
       "      <th>Entity 1</th>\n",
       "      <th>Entity 2</th>\n",
       "      <th>Attribute</th>\n",
       "      <th>Direction</th>\n",
       "      <th>reply_sub</th>\n",
       "    </tr>\n",
       "  </thead>\n",
       "  <tbody>\n",
       "    <tr>\n",
       "      <th>2</th>\n",
       "      <td>5f686bc7b59794ca78c70902</td>\n",
       "      <td>Tenergy 05FX vs Tenergy 64FX</td>\n",
       "      <td>I used T05fx before and I really appreciate th...</td>\n",
       "      <td>1</td>\n",
       "      <td>NaN</td>\n",
       "      <td>NaN</td>\n",
       "      <td>NaN</td>\n",
       "      <td>NaN</td>\n",
       "      <td>I used Butterfly-Tenergy-05-FX before and I re...</td>\n",
       "    </tr>\n",
       "    <tr>\n",
       "      <th>3</th>\n",
       "      <td>5f686bc7b59794ca78c70902</td>\n",
       "      <td>Tenergy 05FX vs Tenergy 64FX</td>\n",
       "      <td>On the other hand less spin too.</td>\n",
       "      <td>2</td>\n",
       "      <td>NaN</td>\n",
       "      <td>NaN</td>\n",
       "      <td>NaN</td>\n",
       "      <td>NaN</td>\n",
       "      <td>On the other hand less spin too.</td>\n",
       "    </tr>\n",
       "    <tr>\n",
       "      <th>4</th>\n",
       "      <td>5f686bc7b59794ca78c70902</td>\n",
       "      <td>Tenergy 05FX vs Tenergy 64FX</td>\n",
       "      <td>Very good for block.</td>\n",
       "      <td>4</td>\n",
       "      <td>NaN</td>\n",
       "      <td>NaN</td>\n",
       "      <td>NaN</td>\n",
       "      <td>NaN</td>\n",
       "      <td>Very good for block.</td>\n",
       "    </tr>\n",
       "    <tr>\n",
       "      <th>5</th>\n",
       "      <td>5f686bc7b59794ca78c70902</td>\n",
       "      <td>Tenergy 05FX vs Tenergy 64FX</td>\n",
       "      <td>For my style I really prefer T64fx than T05fx ...</td>\n",
       "      <td>1</td>\n",
       "      <td>NaN</td>\n",
       "      <td>NaN</td>\n",
       "      <td>NaN</td>\n",
       "      <td>NaN</td>\n",
       "      <td>For my style I really prefer Butterfly-Tenergy...</td>\n",
       "    </tr>\n",
       "    <tr>\n",
       "      <th>42</th>\n",
       "      <td>5f686bdbb59794ca78c7090b</td>\n",
       "      <td>Tenergy 05 vs Tenergy 80</td>\n",
       "      <td>If you loop everything and are active in the s...</td>\n",
       "      <td>2</td>\n",
       "      <td>NaN</td>\n",
       "      <td>NaN</td>\n",
       "      <td>NaN</td>\n",
       "      <td>NaN</td>\n",
       "      <td>If you loop everything and are active in the s...</td>\n",
       "    </tr>\n",
       "  </tbody>\n",
       "</table>\n",
       "</div>"
      ],
      "text/plain": [
       "                          id                  thread_title  \\\n",
       "2   5f686bc7b59794ca78c70902  Tenergy 05FX vs Tenergy 64FX   \n",
       "3   5f686bc7b59794ca78c70902  Tenergy 05FX vs Tenergy 64FX   \n",
       "4   5f686bc7b59794ca78c70902  Tenergy 05FX vs Tenergy 64FX   \n",
       "5   5f686bc7b59794ca78c70902  Tenergy 05FX vs Tenergy 64FX   \n",
       "42  5f686bdbb59794ca78c7090b      Tenergy 05 vs Tenergy 80   \n",
       "\n",
       "                                          reply_split classification Entity 1  \\\n",
       "2   I used T05fx before and I really appreciate th...              1      NaN   \n",
       "3                    On the other hand less spin too.              2      NaN   \n",
       "4                                Very good for block.              4      NaN   \n",
       "5   For my style I really prefer T64fx than T05fx ...              1      NaN   \n",
       "42  If you loop everything and are active in the s...              2      NaN   \n",
       "\n",
       "   Entity 2 Attribute Direction  \\\n",
       "2       NaN       NaN       NaN   \n",
       "3       NaN       NaN       NaN   \n",
       "4       NaN       NaN       NaN   \n",
       "5       NaN       NaN       NaN   \n",
       "42      NaN       NaN       NaN   \n",
       "\n",
       "                                            reply_sub  \n",
       "2   I used Butterfly-Tenergy-05-FX before and I re...  \n",
       "3                    On the other hand less spin too.  \n",
       "4                                Very good for block.  \n",
       "5   For my style I really prefer Butterfly-Tenergy...  \n",
       "42  If you loop everything and are active in the s...  "
      ]
     },
     "execution_count": 70,
     "metadata": {},
     "output_type": "execute_result"
    }
   ],
   "source": [
    "# substitute the rubber names using dictionary\n",
    "import re\n",
    "import csv\n",
    "\n",
    "# load the dictionary\n",
    "def csv2dict(fn):\n",
    "    with open(fn) as f:\n",
    "        reader = csv.reader(f)\n",
    "        d = list(reader)\n",
    "    return {k:v for (k,v) in d}\n",
    "rub_dict = csv2dict('rub_dict.csv')\n",
    "\n",
    "regex = re.compile(r'(?<!\\w)(' + '|'.join(re.escape(key) for key in rub_dict.keys()) + r')(?!\\w)',re.IGNORECASE)\n",
    "\n",
    "def sub_rubber_names(s):\n",
    "    if isinstance(s, str):\n",
    "        return regex.sub(lambda m: rub_dict[m.group(0).lower()],s)\n",
    "    else:\n",
    "        return ''\n",
    "    \n",
    "def sub_rubber_names_2(s):\n",
    "    if isinstance(s, str):\n",
    "        for v in rub_dict:\n",
    "            if v in s:\n",
    "                s = s.replace(v, rub_dict[v]) \n",
    "    return s\n",
    "\n",
    "df.loc[:,'reply_sub'] = df['reply_split'].apply(sub_rubber_names)\n",
    "df.head()"
   ]
  },
  {
   "cell_type": "code",
   "execution_count": 58,
   "metadata": {},
   "outputs": [
    {
     "data": {
      "text/plain": [
       "(407, 12)"
      ]
     },
     "execution_count": 58,
     "metadata": {},
     "output_type": "execute_result"
    }
   ],
   "source": [
    "df.shape\n"
   ]
  },
  {
   "cell_type": "code",
   "execution_count": 79,
   "metadata": {},
   "outputs": [
    {
     "data": {
      "text/plain": [
       "[('it', 'PRP'),\n",
       " ('is', 'VBZ'),\n",
       " ('not', 'RB'),\n",
       " ('as', 'RB'),\n",
       " ('good', 'JJ'),\n",
       " ('as', 'IN'),\n",
       " ('rakza', 'NN')]"
      ]
     },
     "execution_count": 79,
     "metadata": {},
     "output_type": "execute_result"
    }
   ],
   "source": [
    "nltk.pos_tag(str.split('it is not as good as rakza'))"
   ]
  },
  {
   "cell_type": "code",
   "execution_count": 81,
   "metadata": {},
   "outputs": [
    {
     "data": {
      "text/plain": [
       "231"
      ]
     },
     "execution_count": 81,
     "metadata": {},
     "output_type": "execute_result"
    }
   ],
   "source": [
    "len(rub_dict)"
   ]
  },
  {
   "cell_type": "code",
   "execution_count": null,
   "metadata": {},
   "outputs": [],
   "source": []
  }
 ],
 "metadata": {
  "kernelspec": {
   "display_name": "Python 3",
   "language": "python",
   "name": "python3"
  },
  "language_info": {
   "codemirror_mode": {
    "name": "ipython",
    "version": 3
   },
   "file_extension": ".py",
   "mimetype": "text/x-python",
   "name": "python",
   "nbconvert_exporter": "python",
   "pygments_lexer": "ipython3",
   "version": "3.6.7"
  }
 },
 "nbformat": 4,
 "nbformat_minor": 2
}
