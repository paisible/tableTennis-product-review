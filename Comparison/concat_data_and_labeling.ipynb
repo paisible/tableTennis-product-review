{
 "cells": [
  {
   "cell_type": "code",
   "execution_count": 40,
   "metadata": {},
   "outputs": [],
   "source": [
    "import pandas as pd\n",
    "import numpy as np\n",
    "import matplotlib.pyplot as plt\n",
    "%matplotlib inline"
   ]
  },
  {
   "cell_type": "code",
   "execution_count": 2,
   "metadata": {},
   "outputs": [
    {
     "data": {
      "text/html": [
       "<div>\n",
       "<style scoped>\n",
       "    .dataframe tbody tr th:only-of-type {\n",
       "        vertical-align: middle;\n",
       "    }\n",
       "\n",
       "    .dataframe tbody tr th {\n",
       "        vertical-align: top;\n",
       "    }\n",
       "\n",
       "    .dataframe thead th {\n",
       "        text-align: right;\n",
       "    }\n",
       "</style>\n",
       "<table border=\"1\" class=\"dataframe\">\n",
       "  <thead>\n",
       "    <tr style=\"text-align: right;\">\n",
       "      <th></th>\n",
       "      <th>id</th>\n",
       "      <th>thread_title</th>\n",
       "      <th>reply_split</th>\n",
       "      <th>classification</th>\n",
       "    </tr>\n",
       "  </thead>\n",
       "  <tbody>\n",
       "    <tr>\n",
       "      <td>0</td>\n",
       "      <td>5f686bc7b59794ca78c70902</td>\n",
       "      <td>Tenergy 05FX vs Tenergy 64FX</td>\n",
       "      <td>Hi stao, the response of the T64fx changes dep...</td>\n",
       "      <td>0</td>\n",
       "    </tr>\n",
       "    <tr>\n",
       "      <td>1</td>\n",
       "      <td>5f686bc7b59794ca78c70902</td>\n",
       "      <td>Tenergy 05FX vs Tenergy 64FX</td>\n",
       "      <td>Usually I have a Primorac Carbon and I'm offen...</td>\n",
       "      <td>0</td>\n",
       "    </tr>\n",
       "    <tr>\n",
       "      <td>2</td>\n",
       "      <td>5f686bc7b59794ca78c70902</td>\n",
       "      <td>Tenergy 05FX vs Tenergy 64FX</td>\n",
       "      <td>I used T05fx before and I really appreciate th...</td>\n",
       "      <td>1</td>\n",
       "    </tr>\n",
       "    <tr>\n",
       "      <td>3</td>\n",
       "      <td>5f686bc7b59794ca78c70902</td>\n",
       "      <td>Tenergy 05FX vs Tenergy 64FX</td>\n",
       "      <td>On the other hand less spin too.</td>\n",
       "      <td>2</td>\n",
       "    </tr>\n",
       "    <tr>\n",
       "      <td>4</td>\n",
       "      <td>5f686bc7b59794ca78c70902</td>\n",
       "      <td>Tenergy 05FX vs Tenergy 64FX</td>\n",
       "      <td>Very good for block.</td>\n",
       "      <td>4</td>\n",
       "    </tr>\n",
       "  </tbody>\n",
       "</table>\n",
       "</div>"
      ],
      "text/plain": [
       "                         id                  thread_title  \\\n",
       "0  5f686bc7b59794ca78c70902  Tenergy 05FX vs Tenergy 64FX   \n",
       "1  5f686bc7b59794ca78c70902  Tenergy 05FX vs Tenergy 64FX   \n",
       "2  5f686bc7b59794ca78c70902  Tenergy 05FX vs Tenergy 64FX   \n",
       "3  5f686bc7b59794ca78c70902  Tenergy 05FX vs Tenergy 64FX   \n",
       "4  5f686bc7b59794ca78c70902  Tenergy 05FX vs Tenergy 64FX   \n",
       "\n",
       "                                         reply_split  classification  \n",
       "0  Hi stao, the response of the T64fx changes dep...               0  \n",
       "1  Usually I have a Primorac Carbon and I'm offen...               0  \n",
       "2  I used T05fx before and I really appreciate th...               1  \n",
       "3                   On the other hand less spin too.               2  \n",
       "4                               Very good for block.               4  "
      ]
     },
     "execution_count": 2,
     "metadata": {},
     "output_type": "execute_result"
    }
   ],
   "source": [
    "df1 = pd.read_csv(\"labels0.csv\", encoding= 'unicode_escape')\n",
    "df1.head()"
   ]
  },
  {
   "cell_type": "code",
   "execution_count": 3,
   "metadata": {},
   "outputs": [
    {
     "data": {
      "text/plain": [
       "id                  66\n",
       "thread_title        64\n",
       "reply_split       2696\n",
       "classification       8\n",
       "dtype: int64"
      ]
     },
     "execution_count": 3,
     "metadata": {},
     "output_type": "execute_result"
    }
   ],
   "source": [
    "df1.nunique()"
   ]
  },
  {
   "cell_type": "code",
   "execution_count": 4,
   "metadata": {},
   "outputs": [
    {
     "data": {
      "text/html": [
       "<div>\n",
       "<style scoped>\n",
       "    .dataframe tbody tr th:only-of-type {\n",
       "        vertical-align: middle;\n",
       "    }\n",
       "\n",
       "    .dataframe tbody tr th {\n",
       "        vertical-align: top;\n",
       "    }\n",
       "\n",
       "    .dataframe thead th {\n",
       "        text-align: right;\n",
       "    }\n",
       "</style>\n",
       "<table border=\"1\" class=\"dataframe\">\n",
       "  <thead>\n",
       "    <tr style=\"text-align: right;\">\n",
       "      <th></th>\n",
       "      <th>id</th>\n",
       "      <th>thread_title</th>\n",
       "      <th>reply_split</th>\n",
       "      <th>classification</th>\n",
       "      <th>Entity 1</th>\n",
       "      <th>Entity 2</th>\n",
       "      <th>Attribute</th>\n",
       "      <th>Direction</th>\n",
       "      <th>Unnamed: 8</th>\n",
       "      <th>Unnamed: 9</th>\n",
       "      <th>Unnamed: 10</th>\n",
       "      <th>Unnamed: 11</th>\n",
       "      <th>Unnamed: 12</th>\n",
       "      <th>Unnamed: 13</th>\n",
       "      <th>Unnamed: 14</th>\n",
       "      <th>Unnamed: 15</th>\n",
       "    </tr>\n",
       "  </thead>\n",
       "  <tbody>\n",
       "    <tr>\n",
       "      <td>0</td>\n",
       "      <td>5f6c218829a893d240caed5e</td>\n",
       "      <td>Inverted Rubber review format / proforma - PLE...</td>\n",
       "      <td>This is a great idea, it will make it easier f...</td>\n",
       "      <td>-1</td>\n",
       "      <td>NaN</td>\n",
       "      <td>NaN</td>\n",
       "      <td>NaN</td>\n",
       "      <td>NaN</td>\n",
       "      <td>NaN</td>\n",
       "      <td>NaN</td>\n",
       "      <td>NaN</td>\n",
       "      <td>NaN</td>\n",
       "      <td>NaN</td>\n",
       "      <td>NaN</td>\n",
       "      <td>NaN</td>\n",
       "      <td>NaN</td>\n",
       "    </tr>\n",
       "    <tr>\n",
       "      <td>1</td>\n",
       "      <td>5f6c218829a893d240caed5e</td>\n",
       "      <td>Inverted Rubber review format / proforma - PLE...</td>\n",
       "      <td>Thus, it will be easier to compare different e...</td>\n",
       "      <td>-1</td>\n",
       "      <td>NaN</td>\n",
       "      <td>NaN</td>\n",
       "      <td>NaN</td>\n",
       "      <td>NaN</td>\n",
       "      <td>NaN</td>\n",
       "      <td>NaN</td>\n",
       "      <td>NaN</td>\n",
       "      <td>NaN</td>\n",
       "      <td>NaN</td>\n",
       "      <td>NaN</td>\n",
       "      <td>NaN</td>\n",
       "      <td>NaN</td>\n",
       "    </tr>\n",
       "    <tr>\n",
       "      <td>2</td>\n",
       "      <td>5f6c218829a893d240caed5e</td>\n",
       "      <td>Inverted Rubber review format / proforma - PLE...</td>\n",
       "      <td>All for it,It would make comparisons much easi...</td>\n",
       "      <td>-1</td>\n",
       "      <td>NaN</td>\n",
       "      <td>NaN</td>\n",
       "      <td>NaN</td>\n",
       "      <td>NaN</td>\n",
       "      <td>NaN</td>\n",
       "      <td>NaN</td>\n",
       "      <td>NaN</td>\n",
       "      <td>NaN</td>\n",
       "      <td>NaN</td>\n",
       "      <td>NaN</td>\n",
       "      <td>NaN</td>\n",
       "      <td>NaN</td>\n",
       "    </tr>\n",
       "    <tr>\n",
       "      <td>3</td>\n",
       "      <td>5f6c218829a893d240caed5e</td>\n",
       "      <td>Inverted Rubber review format / proforma - PLE...</td>\n",
       "      <td>Excellent haggisv.</td>\n",
       "      <td>-1</td>\n",
       "      <td>NaN</td>\n",
       "      <td>NaN</td>\n",
       "      <td>NaN</td>\n",
       "      <td>NaN</td>\n",
       "      <td>NaN</td>\n",
       "      <td>NaN</td>\n",
       "      <td>NaN</td>\n",
       "      <td>NaN</td>\n",
       "      <td>NaN</td>\n",
       "      <td>NaN</td>\n",
       "      <td>NaN</td>\n",
       "      <td>NaN</td>\n",
       "    </tr>\n",
       "    <tr>\n",
       "      <td>4</td>\n",
       "      <td>5f6c218829a893d240caed5e</td>\n",
       "      <td>Inverted Rubber review format / proforma - PLE...</td>\n",
       "      <td>Some consistency at last in how reviews are do...</td>\n",
       "      <td>-1</td>\n",
       "      <td>NaN</td>\n",
       "      <td>NaN</td>\n",
       "      <td>NaN</td>\n",
       "      <td>NaN</td>\n",
       "      <td>NaN</td>\n",
       "      <td>NaN</td>\n",
       "      <td>NaN</td>\n",
       "      <td>NaN</td>\n",
       "      <td>NaN</td>\n",
       "      <td>NaN</td>\n",
       "      <td>NaN</td>\n",
       "      <td>NaN</td>\n",
       "    </tr>\n",
       "  </tbody>\n",
       "</table>\n",
       "</div>"
      ],
      "text/plain": [
       "                         id  \\\n",
       "0  5f6c218829a893d240caed5e   \n",
       "1  5f6c218829a893d240caed5e   \n",
       "2  5f6c218829a893d240caed5e   \n",
       "3  5f6c218829a893d240caed5e   \n",
       "4  5f6c218829a893d240caed5e   \n",
       "\n",
       "                                        thread_title  \\\n",
       "0  Inverted Rubber review format / proforma - PLE...   \n",
       "1  Inverted Rubber review format / proforma - PLE...   \n",
       "2  Inverted Rubber review format / proforma - PLE...   \n",
       "3  Inverted Rubber review format / proforma - PLE...   \n",
       "4  Inverted Rubber review format / proforma - PLE...   \n",
       "\n",
       "                                         reply_split classification Entity 1  \\\n",
       "0  This is a great idea, it will make it easier f...             -1      NaN   \n",
       "1  Thus, it will be easier to compare different e...             -1      NaN   \n",
       "2  All for it,It would make comparisons much easi...             -1      NaN   \n",
       "3                                 Excellent haggisv.             -1      NaN   \n",
       "4  Some consistency at last in how reviews are do...             -1      NaN   \n",
       "\n",
       "  Entity 2 Attribute Direction Unnamed: 8 Unnamed: 9 Unnamed: 10 Unnamed: 11  \\\n",
       "0      NaN       NaN       NaN        NaN        NaN         NaN         NaN   \n",
       "1      NaN       NaN       NaN        NaN        NaN         NaN         NaN   \n",
       "2      NaN       NaN       NaN        NaN        NaN         NaN         NaN   \n",
       "3      NaN       NaN       NaN        NaN        NaN         NaN         NaN   \n",
       "4      NaN       NaN       NaN        NaN        NaN         NaN         NaN   \n",
       "\n",
       "  Unnamed: 12 Unnamed: 13 Unnamed: 14 Unnamed: 15  \n",
       "0         NaN         NaN         NaN         NaN  \n",
       "1         NaN         NaN         NaN         NaN  \n",
       "2         NaN         NaN         NaN         NaN  \n",
       "3         NaN         NaN         NaN         NaN  \n",
       "4         NaN         NaN         NaN         NaN  "
      ]
     },
     "execution_count": 4,
     "metadata": {},
     "output_type": "execute_result"
    }
   ],
   "source": [
    "df2 = pd.read_csv(\"and_or_labels0_annotated.csv\", encoding= 'unicode_escape')\n",
    "df2.head()"
   ]
  },
  {
   "cell_type": "code",
   "execution_count": 5,
   "metadata": {},
   "outputs": [
    {
     "data": {
      "text/plain": [
       "id                  440\n",
       "thread_title        440\n",
       "reply_split       16885\n",
       "classification       50\n",
       "Entity 1             44\n",
       "Entity 2             42\n",
       "Attribute            21\n",
       "Direction             3\n",
       "Unnamed: 8           13\n",
       "Unnamed: 9           13\n",
       "Unnamed: 10           9\n",
       "Unnamed: 11           2\n",
       "Unnamed: 12           2\n",
       "Unnamed: 13           2\n",
       "Unnamed: 14           2\n",
       "Unnamed: 15           1\n",
       "dtype: int64"
      ]
     },
     "execution_count": 5,
     "metadata": {},
     "output_type": "execute_result"
    }
   ],
   "source": [
    "df2.nunique()"
   ]
  },
  {
   "cell_type": "code",
   "execution_count": 6,
   "metadata": {},
   "outputs": [
    {
     "data": {
      "text/plain": [
       "Index(['id', 'thread_title', 'reply_split', 'classification', 'Entity 1',\n",
       "       'Entity 2', 'Attribute', 'Direction', 'Unnamed: 8', 'Unnamed: 9',\n",
       "       'Unnamed: 10', 'Unnamed: 11', 'Unnamed: 12', 'Unnamed: 13',\n",
       "       'Unnamed: 14', 'Unnamed: 15'],\n",
       "      dtype='object')"
      ]
     },
     "execution_count": 6,
     "metadata": {},
     "output_type": "execute_result"
    }
   ],
   "source": [
    "df2.columns"
   ]
  },
  {
   "cell_type": "code",
   "execution_count": 7,
   "metadata": {},
   "outputs": [
    {
     "data": {
      "text/html": [
       "<div>\n",
       "<style scoped>\n",
       "    .dataframe tbody tr th:only-of-type {\n",
       "        vertical-align: middle;\n",
       "    }\n",
       "\n",
       "    .dataframe tbody tr th {\n",
       "        vertical-align: top;\n",
       "    }\n",
       "\n",
       "    .dataframe thead th {\n",
       "        text-align: right;\n",
       "    }\n",
       "</style>\n",
       "<table border=\"1\" class=\"dataframe\">\n",
       "  <thead>\n",
       "    <tr style=\"text-align: right;\">\n",
       "      <th></th>\n",
       "      <th>id</th>\n",
       "      <th>thread_title</th>\n",
       "      <th>reply_split</th>\n",
       "      <th>classification</th>\n",
       "    </tr>\n",
       "  </thead>\n",
       "  <tbody>\n",
       "    <tr>\n",
       "      <td>0</td>\n",
       "      <td>5f6c218829a893d240caed5e</td>\n",
       "      <td>Inverted Rubber review format / proforma - PLE...</td>\n",
       "      <td>This is a great idea, it will make it easier f...</td>\n",
       "      <td>-1</td>\n",
       "    </tr>\n",
       "    <tr>\n",
       "      <td>1</td>\n",
       "      <td>5f6c218829a893d240caed5e</td>\n",
       "      <td>Inverted Rubber review format / proforma - PLE...</td>\n",
       "      <td>Thus, it will be easier to compare different e...</td>\n",
       "      <td>-1</td>\n",
       "    </tr>\n",
       "    <tr>\n",
       "      <td>2</td>\n",
       "      <td>5f6c218829a893d240caed5e</td>\n",
       "      <td>Inverted Rubber review format / proforma - PLE...</td>\n",
       "      <td>All for it,It would make comparisons much easi...</td>\n",
       "      <td>-1</td>\n",
       "    </tr>\n",
       "    <tr>\n",
       "      <td>3</td>\n",
       "      <td>5f6c218829a893d240caed5e</td>\n",
       "      <td>Inverted Rubber review format / proforma - PLE...</td>\n",
       "      <td>Excellent haggisv.</td>\n",
       "      <td>-1</td>\n",
       "    </tr>\n",
       "    <tr>\n",
       "      <td>4</td>\n",
       "      <td>5f6c218829a893d240caed5e</td>\n",
       "      <td>Inverted Rubber review format / proforma - PLE...</td>\n",
       "      <td>Some consistency at last in how reviews are do...</td>\n",
       "      <td>-1</td>\n",
       "    </tr>\n",
       "  </tbody>\n",
       "</table>\n",
       "</div>"
      ],
      "text/plain": [
       "                         id  \\\n",
       "0  5f6c218829a893d240caed5e   \n",
       "1  5f6c218829a893d240caed5e   \n",
       "2  5f6c218829a893d240caed5e   \n",
       "3  5f6c218829a893d240caed5e   \n",
       "4  5f6c218829a893d240caed5e   \n",
       "\n",
       "                                        thread_title  \\\n",
       "0  Inverted Rubber review format / proforma - PLE...   \n",
       "1  Inverted Rubber review format / proforma - PLE...   \n",
       "2  Inverted Rubber review format / proforma - PLE...   \n",
       "3  Inverted Rubber review format / proforma - PLE...   \n",
       "4  Inverted Rubber review format / proforma - PLE...   \n",
       "\n",
       "                                         reply_split classification  \n",
       "0  This is a great idea, it will make it easier f...             -1  \n",
       "1  Thus, it will be easier to compare different e...             -1  \n",
       "2  All for it,It would make comparisons much easi...             -1  \n",
       "3                                 Excellent haggisv.             -1  \n",
       "4  Some consistency at last in how reviews are do...             -1  "
      ]
     },
     "execution_count": 7,
     "metadata": {},
     "output_type": "execute_result"
    }
   ],
   "source": [
    "df2 = df2[['id', 'thread_title', 'reply_split', 'classification']]\n",
    "df2.head()"
   ]
  },
  {
   "cell_type": "code",
   "execution_count": 8,
   "metadata": {},
   "outputs": [
    {
     "data": {
      "text/plain": [
       "(2812, 4)"
      ]
     },
     "execution_count": 8,
     "metadata": {},
     "output_type": "execute_result"
    }
   ],
   "source": [
    "df1.shape"
   ]
  },
  {
   "cell_type": "code",
   "execution_count": 9,
   "metadata": {},
   "outputs": [
    {
     "data": {
      "text/plain": [
       "(17705, 4)"
      ]
     },
     "execution_count": 9,
     "metadata": {},
     "output_type": "execute_result"
    }
   ],
   "source": [
    "df2.shape"
   ]
  },
  {
   "cell_type": "code",
   "execution_count": 10,
   "metadata": {},
   "outputs": [
    {
     "data": {
      "text/plain": [
       "Index(['id', 'thread_title', 'reply_split', 'classification'], dtype='object')"
      ]
     },
     "execution_count": 10,
     "metadata": {},
     "output_type": "execute_result"
    }
   ],
   "source": [
    "df1.columns"
   ]
  },
  {
   "cell_type": "code",
   "execution_count": 11,
   "metadata": {},
   "outputs": [
    {
     "data": {
      "text/plain": [
       "Index(['id', 'thread_title', 'reply_split', 'classification'], dtype='object')"
      ]
     },
     "execution_count": 11,
     "metadata": {},
     "output_type": "execute_result"
    }
   ],
   "source": [
    "df2.columns"
   ]
  },
  {
   "cell_type": "code",
   "execution_count": 12,
   "metadata": {},
   "outputs": [
    {
     "data": {
      "text/plain": [
       "id                0\n",
       "thread_title      0\n",
       "reply_split       0\n",
       "classification    0\n",
       "dtype: int64"
      ]
     },
     "execution_count": 12,
     "metadata": {},
     "output_type": "execute_result"
    }
   ],
   "source": [
    "df1.isna().sum()"
   ]
  },
  {
   "cell_type": "code",
   "execution_count": 13,
   "metadata": {},
   "outputs": [
    {
     "data": {
      "text/plain": [
       "id                 0\n",
       "thread_title       0\n",
       "reply_split       29\n",
       "classification     0\n",
       "dtype: int64"
      ]
     },
     "execution_count": 13,
     "metadata": {},
     "output_type": "execute_result"
    }
   ],
   "source": [
    "df2.isna().sum()"
   ]
  },
  {
   "cell_type": "code",
   "execution_count": 14,
   "metadata": {},
   "outputs": [
    {
     "data": {
      "text/html": [
       "<div>\n",
       "<style scoped>\n",
       "    .dataframe tbody tr th:only-of-type {\n",
       "        vertical-align: middle;\n",
       "    }\n",
       "\n",
       "    .dataframe tbody tr th {\n",
       "        vertical-align: top;\n",
       "    }\n",
       "\n",
       "    .dataframe thead th {\n",
       "        text-align: right;\n",
       "    }\n",
       "</style>\n",
       "<table border=\"1\" class=\"dataframe\">\n",
       "  <thead>\n",
       "    <tr style=\"text-align: right;\">\n",
       "      <th></th>\n",
       "      <th>id</th>\n",
       "      <th>thread_title</th>\n",
       "      <th>reply_split</th>\n",
       "      <th>classification</th>\n",
       "    </tr>\n",
       "  </thead>\n",
       "  <tbody>\n",
       "    <tr>\n",
       "      <td>0</td>\n",
       "      <td>5f686bc7b59794ca78c70902</td>\n",
       "      <td>Tenergy 05FX vs Tenergy 64FX</td>\n",
       "      <td>Hi stao, the response of the T64fx changes dep...</td>\n",
       "      <td>0</td>\n",
       "    </tr>\n",
       "    <tr>\n",
       "      <td>1</td>\n",
       "      <td>5f686bc7b59794ca78c70902</td>\n",
       "      <td>Tenergy 05FX vs Tenergy 64FX</td>\n",
       "      <td>Usually I have a Primorac Carbon and I'm offen...</td>\n",
       "      <td>0</td>\n",
       "    </tr>\n",
       "    <tr>\n",
       "      <td>2</td>\n",
       "      <td>5f686bc7b59794ca78c70902</td>\n",
       "      <td>Tenergy 05FX vs Tenergy 64FX</td>\n",
       "      <td>I used T05fx before and I really appreciate th...</td>\n",
       "      <td>1</td>\n",
       "    </tr>\n",
       "    <tr>\n",
       "      <td>3</td>\n",
       "      <td>5f686bc7b59794ca78c70902</td>\n",
       "      <td>Tenergy 05FX vs Tenergy 64FX</td>\n",
       "      <td>On the other hand less spin too.</td>\n",
       "      <td>2</td>\n",
       "    </tr>\n",
       "    <tr>\n",
       "      <td>4</td>\n",
       "      <td>5f686bc7b59794ca78c70902</td>\n",
       "      <td>Tenergy 05FX vs Tenergy 64FX</td>\n",
       "      <td>Very good for block.</td>\n",
       "      <td>4</td>\n",
       "    </tr>\n",
       "  </tbody>\n",
       "</table>\n",
       "</div>"
      ],
      "text/plain": [
       "                         id                  thread_title  \\\n",
       "0  5f686bc7b59794ca78c70902  Tenergy 05FX vs Tenergy 64FX   \n",
       "1  5f686bc7b59794ca78c70902  Tenergy 05FX vs Tenergy 64FX   \n",
       "2  5f686bc7b59794ca78c70902  Tenergy 05FX vs Tenergy 64FX   \n",
       "3  5f686bc7b59794ca78c70902  Tenergy 05FX vs Tenergy 64FX   \n",
       "4  5f686bc7b59794ca78c70902  Tenergy 05FX vs Tenergy 64FX   \n",
       "\n",
       "                                         reply_split classification  \n",
       "0  Hi stao, the response of the T64fx changes dep...              0  \n",
       "1  Usually I have a Primorac Carbon and I'm offen...              0  \n",
       "2  I used T05fx before and I really appreciate th...              1  \n",
       "3                   On the other hand less spin too.              2  \n",
       "4                               Very good for block.              4  "
      ]
     },
     "execution_count": 14,
     "metadata": {},
     "output_type": "execute_result"
    }
   ],
   "source": [
    "df = pd.concat([df1,df2], axis=0)\n",
    "df.head()"
   ]
  },
  {
   "cell_type": "code",
   "execution_count": 15,
   "metadata": {
    "scrolled": true
   },
   "outputs": [
    {
     "data": {
      "text/plain": [
       "(20517, 4)"
      ]
     },
     "execution_count": 15,
     "metadata": {},
     "output_type": "execute_result"
    }
   ],
   "source": [
    "df.shape"
   ]
  },
  {
   "cell_type": "code",
   "execution_count": 16,
   "metadata": {},
   "outputs": [
    {
     "data": {
      "text/plain": [
       "Index(['id', 'thread_title', 'reply_split', 'classification'], dtype='object')"
      ]
     },
     "execution_count": 16,
     "metadata": {},
     "output_type": "execute_result"
    }
   ],
   "source": [
    "df.columns"
   ]
  },
  {
   "cell_type": "code",
   "execution_count": 17,
   "metadata": {},
   "outputs": [],
   "source": [
    "df = df.dropna()"
   ]
  },
  {
   "cell_type": "code",
   "execution_count": 18,
   "metadata": {},
   "outputs": [
    {
     "data": {
      "text/plain": [
       "id                0\n",
       "thread_title      0\n",
       "reply_split       0\n",
       "classification    0\n",
       "dtype: int64"
      ]
     },
     "execution_count": 18,
     "metadata": {},
     "output_type": "execute_result"
    }
   ],
   "source": [
    "df.isna().sum()"
   ]
  },
  {
   "cell_type": "code",
   "execution_count": 19,
   "metadata": {},
   "outputs": [
    {
     "data": {
      "text/plain": [
       "(20488, 4)"
      ]
     },
     "execution_count": 19,
     "metadata": {},
     "output_type": "execute_result"
    }
   ],
   "source": [
    "df.shape"
   ]
  },
  {
   "cell_type": "code",
   "execution_count": 20,
   "metadata": {},
   "outputs": [
    {
     "data": {
      "text/plain": [
       "id                  484\n",
       "thread_title        482\n",
       "reply_split       19553\n",
       "classification       58\n",
       "dtype: int64"
      ]
     },
     "execution_count": 20,
     "metadata": {},
     "output_type": "execute_result"
    }
   ],
   "source": [
    "df.nunique()"
   ]
  },
  {
   "cell_type": "code",
   "execution_count": 21,
   "metadata": {},
   "outputs": [
    {
     "data": {
      "text/plain": [
       "array([0, 1, 2, 4, -2, 5, 3, -1, '-1', '0', '3', '1', '2', '5', '4',\n",
       "       ' that is the very concern I have.', '-2',\n",
       "       ' everything else was better.)',\n",
       "       ' practically need to glue every time before play.',\n",
       "       ' can cut down gluing frequency to once a month.',\n",
       "       ' it is not a slow rubber.', \" or it's a different one.\",\n",
       "       ' what about G666?',\n",
       "       ' I could have played happily with a 2.0.1.8?',\n",
       "       ' Boost rubbers are more durable than Tensors.',\n",
       "       ' just letting you know!',\n",
       "       ' a lot of times a faster ball with equal spin requires a more open racket.',\n",
       "       ' maybe I had a bad one.', ' very euro-like .',\n",
       "       ' there seems to be no sacrifice in control for all the extra power.',\n",
       "       'DRIVA SMASH?ATTACKING?TYPEDRIVA SMASH?SV(SOFT VERSION)?DRIVA SMASH?(SUPER SOFT)?DRIVA SMASH ULTIMADRIVA SMASH ULTIMA SV',\n",
       "       ' not so much an off-the-bounce blockers rubber.',\n",
       "       \" i've known players who speedglued f1 and f3.\",\n",
       "       ' perhaps I might be able to try theres!EDIT: I also see you have a defplay setup.',\n",
       "       ' relatively short swings', ' I think it is not as durable.',\n",
       "       ' the throw is medium to medium low.', '#NAME?',\n",
       "       ' or sometimes they might start next to their knee and other times they might start behind their backs etc.',\n",
       "       \" it's peel-off.\", ' speed is avarage.',\n",
       "       ' 802-40 has more service spin than all of those inverted including 999t?',\n",
       "       ' the blue being second.',\n",
       "       \" maybe more booster and an inner tension (well that's what they say).\",\n",
       "       ' probably will play better with it with more time  .',\n",
       "       ' Andro Roxon 330 black 2.0 on FH',\n",
       "       ' slow and spinny is how I like it.',\n",
       "       \" it just didn't strike ~me~ as spinny or offering much variation.\",\n",
       "       ' I almost had no unforced errors.', 'D',\n",
       "       \" even if you can't feel it there will be a big performance difference.\",\n",
       "       ' First off this looks a great video.',\n",
       "       ' primarily grip but also wrist and/or a slight backward motion if necessary to take a little pace off the ball.',\n",
       "       ' firstly do I hit the ball extremely hard (most sheets get scrapped by a broken pip or two in the centre) and secondly I do catch the table a little in the short game (minor tears and chipping at the edges - not enough to scrap a sheet).',\n",
       "       \"1: One thing I especially like about Outlaw is that it feels to me as if it needs little or no 'breaking in'.\",\n",
       "       ' I got it in 1.9mm red due to a couple of reviews saying it was hard to control so I erred on side of caution.',\n",
       "       ' plus its durability.', ' but since you asked .....'],\n",
       "      dtype=object)"
      ]
     },
     "execution_count": 21,
     "metadata": {},
     "output_type": "execute_result"
    }
   ],
   "source": [
    "df.classification.unique()"
   ]
  },
  {
   "cell_type": "code",
   "execution_count": 22,
   "metadata": {},
   "outputs": [
    {
     "data": {
      "text/plain": [
       "array([ 0,  1,  2,  4, -2,  5,  3, -1], dtype=int64)"
      ]
     },
     "execution_count": 22,
     "metadata": {},
     "output_type": "execute_result"
    }
   ],
   "source": [
    "df1.classification.unique()"
   ]
  },
  {
   "cell_type": "code",
   "execution_count": 23,
   "metadata": {},
   "outputs": [
    {
     "data": {
      "text/plain": [
       "array(['-1', '0', '3', '1', '2', '5', '4',\n",
       "       ' that is the very concern I have.', '-2',\n",
       "       ' everything else was better.)',\n",
       "       ' practically need to glue every time before play.',\n",
       "       ' can cut down gluing frequency to once a month.',\n",
       "       ' it is not a slow rubber.', \" or it's a different one.\",\n",
       "       ' what about G666?',\n",
       "       ' I could have played happily with a 2.0.1.8?',\n",
       "       ' Boost rubbers are more durable than Tensors.',\n",
       "       ' just letting you know!',\n",
       "       ' a lot of times a faster ball with equal spin requires a more open racket.',\n",
       "       ' maybe I had a bad one.', ' very euro-like .',\n",
       "       ' there seems to be no sacrifice in control for all the extra power.',\n",
       "       'DRIVA SMASH?ATTACKING?TYPEDRIVA SMASH?SV(SOFT VERSION)?DRIVA SMASH?(SUPER SOFT)?DRIVA SMASH ULTIMADRIVA SMASH ULTIMA SV',\n",
       "       ' not so much an off-the-bounce blockers rubber.',\n",
       "       \" i've known players who speedglued f1 and f3.\",\n",
       "       ' perhaps I might be able to try theres!EDIT: I also see you have a defplay setup.',\n",
       "       ' relatively short swings', ' I think it is not as durable.',\n",
       "       ' the throw is medium to medium low.', '#NAME?',\n",
       "       ' or sometimes they might start next to their knee and other times they might start behind their backs etc.',\n",
       "       \" it's peel-off.\", ' speed is avarage.',\n",
       "       ' 802-40 has more service spin than all of those inverted including 999t?',\n",
       "       ' the blue being second.',\n",
       "       \" maybe more booster and an inner tension (well that's what they say).\",\n",
       "       ' probably will play better with it with more time  .',\n",
       "       ' Andro Roxon 330 black 2.0 on FH',\n",
       "       ' slow and spinny is how I like it.',\n",
       "       \" it just didn't strike ~me~ as spinny or offering much variation.\",\n",
       "       ' I almost had no unforced errors.', 'D',\n",
       "       \" even if you can't feel it there will be a big performance difference.\",\n",
       "       ' First off this looks a great video.',\n",
       "       ' primarily grip but also wrist and/or a slight backward motion if necessary to take a little pace off the ball.',\n",
       "       ' firstly do I hit the ball extremely hard (most sheets get scrapped by a broken pip or two in the centre) and secondly I do catch the table a little in the short game (minor tears and chipping at the edges - not enough to scrap a sheet).',\n",
       "       \"1: One thing I especially like about Outlaw is that it feels to me as if it needs little or no 'breaking in'.\",\n",
       "       ' I got it in 1.9mm red due to a couple of reviews saying it was hard to control so I erred on side of caution.',\n",
       "       ' plus its durability.', ' but since you asked .....'],\n",
       "      dtype=object)"
      ]
     },
     "execution_count": 23,
     "metadata": {},
     "output_type": "execute_result"
    }
   ],
   "source": [
    "df2.classification.unique()"
   ]
  },
  {
   "cell_type": "code",
   "execution_count": 24,
   "metadata": {},
   "outputs": [
    {
     "data": {
      "text/plain": [
       "(2925, 4)"
      ]
     },
     "execution_count": 24,
     "metadata": {},
     "output_type": "execute_result"
    }
   ],
   "source": [
    "df2.loc[df2['classification'] == '-2'].shape"
   ]
  },
  {
   "cell_type": "code",
   "execution_count": 25,
   "metadata": {},
   "outputs": [
    {
     "data": {
      "text/html": [
       "<div>\n",
       "<style scoped>\n",
       "    .dataframe tbody tr th:only-of-type {\n",
       "        vertical-align: middle;\n",
       "    }\n",
       "\n",
       "    .dataframe tbody tr th {\n",
       "        vertical-align: top;\n",
       "    }\n",
       "\n",
       "    .dataframe thead th {\n",
       "        text-align: right;\n",
       "    }\n",
       "</style>\n",
       "<table border=\"1\" class=\"dataframe\">\n",
       "  <thead>\n",
       "    <tr style=\"text-align: right;\">\n",
       "      <th></th>\n",
       "      <th>id</th>\n",
       "      <th>thread_title</th>\n",
       "      <th>reply_split</th>\n",
       "      <th>classification</th>\n",
       "    </tr>\n",
       "  </thead>\n",
       "  <tbody>\n",
       "    <tr>\n",
       "      <td>810</td>\n",
       "      <td>5f6c27276d99ef02106d72b5</td>\n",
       "      <td>Sanwei T88-Taiji Plus/New (Pink sponge) - any ...</td>\n",
       "      <td>I have yet to try the new version but I am sur...</td>\n",
       "      <td>-2</td>\n",
       "    </tr>\n",
       "    <tr>\n",
       "      <td>811</td>\n",
       "      <td>5f6c27276d99ef02106d72b5</td>\n",
       "      <td>Sanwei T88-Taiji Plus/New (Pink sponge) - any ...</td>\n",
       "      <td>And like the sheep I am i will purchase the ne...</td>\n",
       "      <td>-2</td>\n",
       "    </tr>\n",
       "    <tr>\n",
       "      <td>812</td>\n",
       "      <td>5f6c27276d99ef02106d72b5</td>\n",
       "      <td>Sanwei T88-Taiji Plus/New (Pink sponge) - any ...</td>\n",
       "      <td>Wait about six months, the price will probably...</td>\n",
       "      <td>-2</td>\n",
       "    </tr>\n",
       "    <tr>\n",
       "      <td>969</td>\n",
       "      <td>5f6c27436d99ef02106d72c5</td>\n",
       "      <td>Modern rubber with THIN sponge 1.0mm or less?</td>\n",
       "      <td>One rubber I'm looking at is Mark V in 1.0mm.</td>\n",
       "      <td>-2</td>\n",
       "    </tr>\n",
       "    <tr>\n",
       "      <td>970</td>\n",
       "      <td>5f6c27436d99ef02106d72c5</td>\n",
       "      <td>Modern rubber with THIN sponge 1.0mm or less?</td>\n",
       "      <td>Kinda pricey, but only one i know of so far.</td>\n",
       "      <td>-2</td>\n",
       "    </tr>\n",
       "    <tr>\n",
       "      <td>...</td>\n",
       "      <td>...</td>\n",
       "      <td>...</td>\n",
       "      <td>...</td>\n",
       "      <td>...</td>\n",
       "    </tr>\n",
       "    <tr>\n",
       "      <td>4637</td>\n",
       "      <td>5f6c2e587da9e46ccbe1563b</td>\n",
       "      <td>Galaxy / Yin-He Venus II</td>\n",
       "      <td>The Palio Thor is a very great rubber but I'm ...</td>\n",
       "      <td>-2</td>\n",
       "    </tr>\n",
       "    <tr>\n",
       "      <td>4638</td>\n",
       "      <td>5f6c2e587da9e46ccbe1563b</td>\n",
       "      <td>Galaxy / Yin-He Venus II</td>\n",
       "      <td>(currently the 999 Blue Lucifer)I'll probably ...</td>\n",
       "      <td>-2</td>\n",
       "    </tr>\n",
       "    <tr>\n",
       "      <td>4639</td>\n",
       "      <td>5f6c2e587da9e46ccbe1563b</td>\n",
       "      <td>Galaxy / Yin-He Venus II</td>\n",
       "      <td>Could someone please compare Venus 2 with othe...</td>\n",
       "      <td>-2</td>\n",
       "    </tr>\n",
       "    <tr>\n",
       "      <td>4640</td>\n",
       "      <td>5f6c2e587da9e46ccbe1563b</td>\n",
       "      <td>Galaxy / Yin-He Venus II</td>\n",
       "      <td>Especially in speed, throw, and hardness.</td>\n",
       "      <td>-2</td>\n",
       "    </tr>\n",
       "    <tr>\n",
       "      <td>4641</td>\n",
       "      <td>5f6c2e587da9e46ccbe1563b</td>\n",
       "      <td>Galaxy / Yin-He Venus II</td>\n",
       "      <td>Seguso, I am following your question hoping a ...</td>\n",
       "      <td>-2</td>\n",
       "    </tr>\n",
       "  </tbody>\n",
       "</table>\n",
       "<p>2925 rows × 4 columns</p>\n",
       "</div>"
      ],
      "text/plain": [
       "                            id  \\\n",
       "810   5f6c27276d99ef02106d72b5   \n",
       "811   5f6c27276d99ef02106d72b5   \n",
       "812   5f6c27276d99ef02106d72b5   \n",
       "969   5f6c27436d99ef02106d72c5   \n",
       "970   5f6c27436d99ef02106d72c5   \n",
       "...                        ...   \n",
       "4637  5f6c2e587da9e46ccbe1563b   \n",
       "4638  5f6c2e587da9e46ccbe1563b   \n",
       "4639  5f6c2e587da9e46ccbe1563b   \n",
       "4640  5f6c2e587da9e46ccbe1563b   \n",
       "4641  5f6c2e587da9e46ccbe1563b   \n",
       "\n",
       "                                           thread_title  \\\n",
       "810   Sanwei T88-Taiji Plus/New (Pink sponge) - any ...   \n",
       "811   Sanwei T88-Taiji Plus/New (Pink sponge) - any ...   \n",
       "812   Sanwei T88-Taiji Plus/New (Pink sponge) - any ...   \n",
       "969       Modern rubber with THIN sponge 1.0mm or less?   \n",
       "970       Modern rubber with THIN sponge 1.0mm or less?   \n",
       "...                                                 ...   \n",
       "4637                           Galaxy / Yin-He Venus II   \n",
       "4638                           Galaxy / Yin-He Venus II   \n",
       "4639                           Galaxy / Yin-He Venus II   \n",
       "4640                           Galaxy / Yin-He Venus II   \n",
       "4641                           Galaxy / Yin-He Venus II   \n",
       "\n",
       "                                            reply_split classification  \n",
       "810   I have yet to try the new version but I am sur...             -2  \n",
       "811   And like the sheep I am i will purchase the ne...             -2  \n",
       "812   Wait about six months, the price will probably...             -2  \n",
       "969       One rubber I'm looking at is Mark V in 1.0mm.             -2  \n",
       "970        Kinda pricey, but only one i know of so far.             -2  \n",
       "...                                                 ...            ...  \n",
       "4637  The Palio Thor is a very great rubber but I'm ...             -2  \n",
       "4638  (currently the 999 Blue Lucifer)I'll probably ...             -2  \n",
       "4639  Could someone please compare Venus 2 with othe...             -2  \n",
       "4640          Especially in speed, throw, and hardness.             -2  \n",
       "4641  Seguso, I am following your question hoping a ...             -2  \n",
       "\n",
       "[2925 rows x 4 columns]"
      ]
     },
     "execution_count": 25,
     "metadata": {},
     "output_type": "execute_result"
    }
   ],
   "source": [
    "df2.loc[df2['classification'] == '-2']"
   ]
  },
  {
   "cell_type": "code",
   "execution_count": 26,
   "metadata": {},
   "outputs": [
    {
     "data": {
      "text/plain": [
       "(20443, 4)"
      ]
     },
     "execution_count": 26,
     "metadata": {},
     "output_type": "execute_result"
    }
   ],
   "source": [
    "df = df.loc[df['classification'].isin([0,1,2,3,4,5,-1,-2,'-1', '0', '3', '1', '2', '5', '4','-2'])]\n",
    "df.shape"
   ]
  },
  {
   "cell_type": "code",
   "execution_count": 27,
   "metadata": {},
   "outputs": [
    {
     "data": {
      "text/plain": [
       "id                  484\n",
       "thread_title        482\n",
       "reply_split       19511\n",
       "classification       16\n",
       "dtype: int64"
      ]
     },
     "execution_count": 27,
     "metadata": {},
     "output_type": "execute_result"
    }
   ],
   "source": [
    "df.nunique()"
   ]
  },
  {
   "cell_type": "code",
   "execution_count": 28,
   "metadata": {},
   "outputs": [
    {
     "data": {
      "text/html": [
       "<div>\n",
       "<style scoped>\n",
       "    .dataframe tbody tr th:only-of-type {\n",
       "        vertical-align: middle;\n",
       "    }\n",
       "\n",
       "    .dataframe tbody tr th {\n",
       "        vertical-align: top;\n",
       "    }\n",
       "\n",
       "    .dataframe thead th {\n",
       "        text-align: right;\n",
       "    }\n",
       "</style>\n",
       "<table border=\"1\" class=\"dataframe\">\n",
       "  <thead>\n",
       "    <tr style=\"text-align: right;\">\n",
       "      <th></th>\n",
       "      <th>id</th>\n",
       "      <th>thread_title</th>\n",
       "      <th>reply_split</th>\n",
       "      <th>classification</th>\n",
       "    </tr>\n",
       "  </thead>\n",
       "  <tbody>\n",
       "    <tr>\n",
       "      <td>0</td>\n",
       "      <td>5f686bc7b59794ca78c70902</td>\n",
       "      <td>Tenergy 05FX vs Tenergy 64FX</td>\n",
       "      <td>Hi stao, the response of the T64fx changes dep...</td>\n",
       "      <td>0</td>\n",
       "    </tr>\n",
       "    <tr>\n",
       "      <td>1</td>\n",
       "      <td>5f686bc7b59794ca78c70902</td>\n",
       "      <td>Tenergy 05FX vs Tenergy 64FX</td>\n",
       "      <td>Usually I have a Primorac Carbon and I'm offen...</td>\n",
       "      <td>0</td>\n",
       "    </tr>\n",
       "    <tr>\n",
       "      <td>2</td>\n",
       "      <td>5f686bc7b59794ca78c70902</td>\n",
       "      <td>Tenergy 05FX vs Tenergy 64FX</td>\n",
       "      <td>I used T05fx before and I really appreciate th...</td>\n",
       "      <td>1</td>\n",
       "    </tr>\n",
       "    <tr>\n",
       "      <td>3</td>\n",
       "      <td>5f686bc7b59794ca78c70902</td>\n",
       "      <td>Tenergy 05FX vs Tenergy 64FX</td>\n",
       "      <td>On the other hand less spin too.</td>\n",
       "      <td>2</td>\n",
       "    </tr>\n",
       "    <tr>\n",
       "      <td>4</td>\n",
       "      <td>5f686bc7b59794ca78c70902</td>\n",
       "      <td>Tenergy 05FX vs Tenergy 64FX</td>\n",
       "      <td>Very good for block.</td>\n",
       "      <td>4</td>\n",
       "    </tr>\n",
       "  </tbody>\n",
       "</table>\n",
       "</div>"
      ],
      "text/plain": [
       "                         id                  thread_title  \\\n",
       "0  5f686bc7b59794ca78c70902  Tenergy 05FX vs Tenergy 64FX   \n",
       "1  5f686bc7b59794ca78c70902  Tenergy 05FX vs Tenergy 64FX   \n",
       "2  5f686bc7b59794ca78c70902  Tenergy 05FX vs Tenergy 64FX   \n",
       "3  5f686bc7b59794ca78c70902  Tenergy 05FX vs Tenergy 64FX   \n",
       "4  5f686bc7b59794ca78c70902  Tenergy 05FX vs Tenergy 64FX   \n",
       "\n",
       "                                         reply_split  classification  \n",
       "0  Hi stao, the response of the T64fx changes dep...               0  \n",
       "1  Usually I have a Primorac Carbon and I'm offen...               0  \n",
       "2  I used T05fx before and I really appreciate th...               1  \n",
       "3                   On the other hand less spin too.               2  \n",
       "4                               Very good for block.               4  "
      ]
     },
     "execution_count": 28,
     "metadata": {},
     "output_type": "execute_result"
    }
   ],
   "source": [
    "df = df.replace({'classification': {'-1':-1,'-2':-2,'0':0,'1':1,'2':2,'3':3,'4':4,'5':5}})\n",
    "df.head()"
   ]
  },
  {
   "cell_type": "code",
   "execution_count": 29,
   "metadata": {},
   "outputs": [
    {
     "data": {
      "text/plain": [
       "id                object\n",
       "thread_title      object\n",
       "reply_split       object\n",
       "classification     int64\n",
       "dtype: object"
      ]
     },
     "execution_count": 29,
     "metadata": {},
     "output_type": "execute_result"
    }
   ],
   "source": [
    "df.dtypes"
   ]
  },
  {
   "cell_type": "code",
   "execution_count": 32,
   "metadata": {},
   "outputs": [
    {
     "data": {
      "text/plain": [
       "id                  484\n",
       "thread_title        482\n",
       "reply_split       19511\n",
       "classification        8\n",
       "dtype: int64"
      ]
     },
     "execution_count": 32,
     "metadata": {},
     "output_type": "execute_result"
    }
   ],
   "source": [
    "df.nunique()"
   ]
  },
  {
   "cell_type": "code",
   "execution_count": 35,
   "metadata": {},
   "outputs": [
    {
     "data": {
      "text/plain": [
       "array([ 0,  1,  2,  4, -2, -1,  3], dtype=int64)"
      ]
     },
     "execution_count": 35,
     "metadata": {},
     "output_type": "execute_result"
    }
   ],
   "source": [
    "# replacing 5 label to -1\n",
    "df = df.replace({'classification': {5:-1}})\n",
    "df.classification.unique()"
   ]
  },
  {
   "cell_type": "code",
   "execution_count": 37,
   "metadata": {},
   "outputs": [
    {
     "data": {
      "text/plain": [
       "array(['irrelevant', 'comparative', 'descriptive', -2, -1], dtype=object)"
      ]
     },
     "execution_count": 37,
     "metadata": {},
     "output_type": "execute_result"
    }
   ],
   "source": [
    "# replacing 0 label to irrelevant and 1,2 to comparative, 3,4 to descriptive\n",
    "\n",
    "df = df.replace({'classification': {0:'irrelevant',1:'comparative',2:'comparative',\n",
    "                                    3:'descriptive',4:'descriptive'}})\n",
    "df.classification.unique()"
   ]
  },
  {
   "cell_type": "code",
   "execution_count": 38,
   "metadata": {},
   "outputs": [
    {
     "data": {
      "text/html": [
       "<div>\n",
       "<style scoped>\n",
       "    .dataframe tbody tr th:only-of-type {\n",
       "        vertical-align: middle;\n",
       "    }\n",
       "\n",
       "    .dataframe tbody tr th {\n",
       "        vertical-align: top;\n",
       "    }\n",
       "\n",
       "    .dataframe thead th {\n",
       "        text-align: right;\n",
       "    }\n",
       "</style>\n",
       "<table border=\"1\" class=\"dataframe\">\n",
       "  <thead>\n",
       "    <tr style=\"text-align: right;\">\n",
       "      <th></th>\n",
       "      <th>id</th>\n",
       "      <th>thread_title</th>\n",
       "      <th>reply_split</th>\n",
       "      <th>classification</th>\n",
       "    </tr>\n",
       "  </thead>\n",
       "  <tbody>\n",
       "    <tr>\n",
       "      <td>0</td>\n",
       "      <td>5f686bc7b59794ca78c70902</td>\n",
       "      <td>Tenergy 05FX vs Tenergy 64FX</td>\n",
       "      <td>Hi stao, the response of the T64fx changes dep...</td>\n",
       "      <td>irrelevant</td>\n",
       "    </tr>\n",
       "    <tr>\n",
       "      <td>1</td>\n",
       "      <td>5f686bc7b59794ca78c70902</td>\n",
       "      <td>Tenergy 05FX vs Tenergy 64FX</td>\n",
       "      <td>Usually I have a Primorac Carbon and I'm offen...</td>\n",
       "      <td>irrelevant</td>\n",
       "    </tr>\n",
       "    <tr>\n",
       "      <td>2</td>\n",
       "      <td>5f686bc7b59794ca78c70902</td>\n",
       "      <td>Tenergy 05FX vs Tenergy 64FX</td>\n",
       "      <td>I used T05fx before and I really appreciate th...</td>\n",
       "      <td>comparative</td>\n",
       "    </tr>\n",
       "    <tr>\n",
       "      <td>3</td>\n",
       "      <td>5f686bc7b59794ca78c70902</td>\n",
       "      <td>Tenergy 05FX vs Tenergy 64FX</td>\n",
       "      <td>On the other hand less spin too.</td>\n",
       "      <td>comparative</td>\n",
       "    </tr>\n",
       "    <tr>\n",
       "      <td>4</td>\n",
       "      <td>5f686bc7b59794ca78c70902</td>\n",
       "      <td>Tenergy 05FX vs Tenergy 64FX</td>\n",
       "      <td>Very good for block.</td>\n",
       "      <td>descriptive</td>\n",
       "    </tr>\n",
       "    <tr>\n",
       "      <td>5</td>\n",
       "      <td>5f686bc7b59794ca78c70902</td>\n",
       "      <td>Tenergy 05FX vs Tenergy 64FX</td>\n",
       "      <td>For my style I really prefer T64fx than T05fx ...</td>\n",
       "      <td>comparative</td>\n",
       "    </tr>\n",
       "  </tbody>\n",
       "</table>\n",
       "</div>"
      ],
      "text/plain": [
       "                         id                  thread_title  \\\n",
       "0  5f686bc7b59794ca78c70902  Tenergy 05FX vs Tenergy 64FX   \n",
       "1  5f686bc7b59794ca78c70902  Tenergy 05FX vs Tenergy 64FX   \n",
       "2  5f686bc7b59794ca78c70902  Tenergy 05FX vs Tenergy 64FX   \n",
       "3  5f686bc7b59794ca78c70902  Tenergy 05FX vs Tenergy 64FX   \n",
       "4  5f686bc7b59794ca78c70902  Tenergy 05FX vs Tenergy 64FX   \n",
       "5  5f686bc7b59794ca78c70902  Tenergy 05FX vs Tenergy 64FX   \n",
       "\n",
       "                                         reply_split classification  \n",
       "0  Hi stao, the response of the T64fx changes dep...     irrelevant  \n",
       "1  Usually I have a Primorac Carbon and I'm offen...     irrelevant  \n",
       "2  I used T05fx before and I really appreciate th...    comparative  \n",
       "3                   On the other hand less spin too.    comparative  \n",
       "4                               Very good for block.    descriptive  \n",
       "5  For my style I really prefer T64fx than T05fx ...    comparative  "
      ]
     },
     "execution_count": 38,
     "metadata": {},
     "output_type": "execute_result"
    }
   ],
   "source": [
    "df.head(6)"
   ]
  },
  {
   "cell_type": "code",
   "execution_count": 43,
   "metadata": {},
   "outputs": [
    {
     "data": {
      "text/plain": [
       "-1             15023\n",
       "-2              3244\n",
       "irrelevant      1652\n",
       "descriptive      264\n",
       "comparative      260\n",
       "Name: classification, dtype: int64"
      ]
     },
     "execution_count": 43,
     "metadata": {},
     "output_type": "execute_result"
    }
   ],
   "source": [
    "df['classification'].value_counts()"
   ]
  },
  {
   "cell_type": "code",
   "execution_count": 41,
   "metadata": {},
   "outputs": [
    {
     "data": {
      "text/plain": [
       "<matplotlib.axes._subplots.AxesSubplot at 0x2393845b588>"
      ]
     },
     "execution_count": 41,
     "metadata": {},
     "output_type": "execute_result"
    },
    {
     "data": {
      "image/png": "[encoded data removed]",
      "text/plain": [
       "<Figure size 432x288 with 1 Axes>"
      ]
     },
     "metadata": {
      "needs_background": "light"
     },
     "output_type": "display_data"
    }
   ],
   "source": [
    "pd.value_counts(df.classification).plot(kind=\"bar\")"
   ]
  },
  {
   "cell_type": "code",
   "execution_count": 45,
   "metadata": {},
   "outputs": [],
   "source": [
    "df.to_csv(\"labels_data.csv\")"
   ]
  },
  {
   "cell_type": "code",
   "execution_count": null,
   "metadata": {},
   "outputs": [],
   "source": []
  }
 ],
 "metadata": {
  "kernelspec": {
   "display_name": "Python 3",
   "language": "python",
   "name": "python3"
  },
  "language_info": {
   "codemirror_mode": {
    "name": "ipython",
    "version": 3
   },
   "file_extension": ".py",
   "mimetype": "text/x-python",
   "name": "python",
   "nbconvert_exporter": "python",
   "pygments_lexer": "ipython3",
   "version": "3.7.4"
  }
 },
 "nbformat": 4,
 "nbformat_minor": 2
}
