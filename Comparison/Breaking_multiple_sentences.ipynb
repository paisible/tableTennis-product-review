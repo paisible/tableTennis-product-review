{
 "cells": [
  {
   "cell_type": "code",
   "execution_count": 1,
   "metadata": {},
   "outputs": [],
   "source": [
    "import pandas as pd\n",
    "import numpy as np\n"
   ]
  },
  {
   "cell_type": "code",
   "execution_count": 2,
   "metadata": {},
   "outputs": [
    {
     "data": {
      "text/html": [
       "<div>\n",
       "<style scoped>\n",
       "    .dataframe tbody tr th:only-of-type {\n",
       "        vertical-align: middle;\n",
       "    }\n",
       "\n",
       "    .dataframe tbody tr th {\n",
       "        vertical-align: top;\n",
       "    }\n",
       "\n",
       "    .dataframe thead th {\n",
       "        text-align: right;\n",
       "    }\n",
       "</style>\n",
       "<table border=\"1\" class=\"dataframe\">\n",
       "  <thead>\n",
       "    <tr style=\"text-align: right;\">\n",
       "      <th></th>\n",
       "      <th>id</th>\n",
       "      <th>thread_title</th>\n",
       "      <th>reply</th>\n",
       "    </tr>\n",
       "  </thead>\n",
       "  <tbody>\n",
       "    <tr>\n",
       "      <td>0</td>\n",
       "      <td>5f686bc7b59794ca78c70902</td>\n",
       "      <td>Tenergy 05FX vs Tenergy 64FX</td>\n",
       "      <td>Hi stao, the response of the T64fx changes dep...</td>\n",
       "    </tr>\n",
       "    <tr>\n",
       "      <td>1</td>\n",
       "      <td>5f686bc8b59794ca78c70903</td>\n",
       "      <td>Butterfly Impartial XS vs 802-40 vs spinlord w...</td>\n",
       "      <td>I'm also interested.</td>\n",
       "    </tr>\n",
       "    <tr>\n",
       "      <td>2</td>\n",
       "      <td>5f686bc8b59794ca78c70903</td>\n",
       "      <td>Butterfly Impartial XS vs 802-40 vs spinlord w...</td>\n",
       "      <td>maybe TTD can start reviewing some sp rubbers?</td>\n",
       "    </tr>\n",
       "    <tr>\n",
       "      <td>3</td>\n",
       "      <td>5f686bc8b59794ca78c70903</td>\n",
       "      <td>Butterfly Impartial XS vs 802-40 vs spinlord w...</td>\n",
       "      <td>I do not know if tabletennisdaily can reiview ...</td>\n",
       "    </tr>\n",
       "    <tr>\n",
       "      <td>4</td>\n",
       "      <td>5f686bc8b59794ca78c70903</td>\n",
       "      <td>Butterfly Impartial XS vs 802-40 vs spinlord w...</td>\n",
       "      <td>I`ve used to play for several months with 802-...</td>\n",
       "    </tr>\n",
       "  </tbody>\n",
       "</table>\n",
       "</div>"
      ],
      "text/plain": [
       "                         id  \\\n",
       "0  5f686bc7b59794ca78c70902   \n",
       "1  5f686bc8b59794ca78c70903   \n",
       "2  5f686bc8b59794ca78c70903   \n",
       "3  5f686bc8b59794ca78c70903   \n",
       "4  5f686bc8b59794ca78c70903   \n",
       "\n",
       "                                        thread_title  \\\n",
       "0                       Tenergy 05FX vs Tenergy 64FX   \n",
       "1  Butterfly Impartial XS vs 802-40 vs spinlord w...   \n",
       "2  Butterfly Impartial XS vs 802-40 vs spinlord w...   \n",
       "3  Butterfly Impartial XS vs 802-40 vs spinlord w...   \n",
       "4  Butterfly Impartial XS vs 802-40 vs spinlord w...   \n",
       "\n",
       "                                               reply  \n",
       "0  Hi stao, the response of the T64fx changes dep...  \n",
       "1                               I'm also interested.  \n",
       "2     maybe TTD can start reviewing some sp rubbers?  \n",
       "3  I do not know if tabletennisdaily can reiview ...  \n",
       "4  I`ve used to play for several months with 802-...  "
      ]
     },
     "execution_count": 2,
     "metadata": {},
     "output_type": "execute_result"
    }
   ],
   "source": [
    "df = pd.read_csv(\"replies.csv\", encoding= 'unicode_escape')\n",
    "df.head()"
   ]
  },
  {
   "cell_type": "code",
   "execution_count": 3,
   "metadata": {},
   "outputs": [
    {
     "data": {
      "text/plain": [
       "(1809, 3)"
      ]
     },
     "execution_count": 3,
     "metadata": {},
     "output_type": "execute_result"
    }
   ],
   "source": [
    "df.shape"
   ]
  },
  {
   "cell_type": "code",
   "execution_count": 4,
   "metadata": {},
   "outputs": [
    {
     "data": {
      "text/html": [
       "<div>\n",
       "<style scoped>\n",
       "    .dataframe tbody tr th:only-of-type {\n",
       "        vertical-align: middle;\n",
       "    }\n",
       "\n",
       "    .dataframe tbody tr th {\n",
       "        vertical-align: top;\n",
       "    }\n",
       "\n",
       "    .dataframe thead th {\n",
       "        text-align: right;\n",
       "    }\n",
       "</style>\n",
       "<table border=\"1\" class=\"dataframe\">\n",
       "  <thead>\n",
       "    <tr style=\"text-align: right;\">\n",
       "      <th></th>\n",
       "      <th>id</th>\n",
       "      <th>thread_title</th>\n",
       "      <th>reply</th>\n",
       "    </tr>\n",
       "  </thead>\n",
       "  <tbody>\n",
       "    <tr>\n",
       "      <td>0</td>\n",
       "      <td>5f686bc7b59794ca78c70902</td>\n",
       "      <td>Tenergy 05FX vs Tenergy 64FX</td>\n",
       "      <td>Hi stao, the response of the T64fx changes dep...</td>\n",
       "    </tr>\n",
       "    <tr>\n",
       "      <td>1</td>\n",
       "      <td>5f686bc8b59794ca78c70903</td>\n",
       "      <td>Butterfly Impartial XS vs 802-40 vs spinlord w...</td>\n",
       "      <td>I'm also interested.</td>\n",
       "    </tr>\n",
       "    <tr>\n",
       "      <td>2</td>\n",
       "      <td>5f686bc8b59794ca78c70903</td>\n",
       "      <td>Butterfly Impartial XS vs 802-40 vs spinlord w...</td>\n",
       "      <td>maybe TTD can start reviewing some sp rubbers?</td>\n",
       "    </tr>\n",
       "    <tr>\n",
       "      <td>3</td>\n",
       "      <td>5f686bc8b59794ca78c70903</td>\n",
       "      <td>Butterfly Impartial XS vs 802-40 vs spinlord w...</td>\n",
       "      <td>I do not know if tabletennisdaily can reiview ...</td>\n",
       "    </tr>\n",
       "    <tr>\n",
       "      <td>4</td>\n",
       "      <td>5f686bc8b59794ca78c70903</td>\n",
       "      <td>Butterfly Impartial XS vs 802-40 vs spinlord w...</td>\n",
       "      <td>I`ve used to play for several months with 802-...</td>\n",
       "    </tr>\n",
       "    <tr>\n",
       "      <td>5</td>\n",
       "      <td>5f686bcdb59794ca78c70905</td>\n",
       "      <td>What is the difference between Apalonia ZLC vs...</td>\n",
       "      <td>apolonia weight more, u can find between 85-90...</td>\n",
       "    </tr>\n",
       "    <tr>\n",
       "      <td>6</td>\n",
       "      <td>5f686bcdb59794ca78c70905</td>\n",
       "      <td>What is the difference between Apalonia ZLC vs...</td>\n",
       "      <td>thanks Konrad. Is the apalonia faster then the...</td>\n",
       "    </tr>\n",
       "    <tr>\n",
       "      <td>7</td>\n",
       "      <td>5f686bcdb59794ca78c70905</td>\n",
       "      <td>What is the difference between Apalonia ZLC vs...</td>\n",
       "      <td>Apolonia is also innerforce...</td>\n",
       "    </tr>\n",
       "    <tr>\n",
       "      <td>8</td>\n",
       "      <td>5f686bcdb59794ca78c70905</td>\n",
       "      <td>What is the difference between Apalonia ZLC vs...</td>\n",
       "      <td>If you want to save money.I think DHS fang bo ...</td>\n",
       "    </tr>\n",
       "    <tr>\n",
       "      <td>9</td>\n",
       "      <td>5f686bdbb59794ca78c7090b</td>\n",
       "      <td>Tenergy 05 vs Tenergy 80</td>\n",
       "      <td>Sent from my SM-G900F using Tapatalk</td>\n",
       "    </tr>\n",
       "  </tbody>\n",
       "</table>\n",
       "</div>"
      ],
      "text/plain": [
       "                         id  \\\n",
       "0  5f686bc7b59794ca78c70902   \n",
       "1  5f686bc8b59794ca78c70903   \n",
       "2  5f686bc8b59794ca78c70903   \n",
       "3  5f686bc8b59794ca78c70903   \n",
       "4  5f686bc8b59794ca78c70903   \n",
       "5  5f686bcdb59794ca78c70905   \n",
       "6  5f686bcdb59794ca78c70905   \n",
       "7  5f686bcdb59794ca78c70905   \n",
       "8  5f686bcdb59794ca78c70905   \n",
       "9  5f686bdbb59794ca78c7090b   \n",
       "\n",
       "                                        thread_title  \\\n",
       "0                       Tenergy 05FX vs Tenergy 64FX   \n",
       "1  Butterfly Impartial XS vs 802-40 vs spinlord w...   \n",
       "2  Butterfly Impartial XS vs 802-40 vs spinlord w...   \n",
       "3  Butterfly Impartial XS vs 802-40 vs spinlord w...   \n",
       "4  Butterfly Impartial XS vs 802-40 vs spinlord w...   \n",
       "5  What is the difference between Apalonia ZLC vs...   \n",
       "6  What is the difference between Apalonia ZLC vs...   \n",
       "7  What is the difference between Apalonia ZLC vs...   \n",
       "8  What is the difference between Apalonia ZLC vs...   \n",
       "9                           Tenergy 05 vs Tenergy 80   \n",
       "\n",
       "                                               reply  \n",
       "0  Hi stao, the response of the T64fx changes dep...  \n",
       "1                               I'm also interested.  \n",
       "2     maybe TTD can start reviewing some sp rubbers?  \n",
       "3  I do not know if tabletennisdaily can reiview ...  \n",
       "4  I`ve used to play for several months with 802-...  \n",
       "5  apolonia weight more, u can find between 85-90...  \n",
       "6  thanks Konrad. Is the apalonia faster then the...  \n",
       "7                     Apolonia is also innerforce...  \n",
       "8  If you want to save money.I think DHS fang bo ...  \n",
       "9               Sent from my SM-G900F using Tapatalk  "
      ]
     },
     "execution_count": 4,
     "metadata": {},
     "output_type": "execute_result"
    }
   ],
   "source": [
    "# Getting s as pandas series which has split on full stop and new sentence a new line\n",
    "s = df[\"reply\"].str.split('.').apply(pd.Series,1).stack()\n",
    "s = df[\"reply\"].str.split('?').apply(pd.Series,1).stack()\n",
    "s = df[\"reply\"].str.split('!').apply(pd.Series,1).stack()\n",
    "s.index = s.index.droplevel(-1) # to line up with df's index\n",
    "s.name = 'reply' # needs a name to join\n",
    "\n",
    "# There are blank or emplty cell values after above process. Removing them\n",
    "s.replace('', np.nan, inplace=True)\n",
    "s.dropna(inplace=True)\n",
    "\n",
    "# Joining should ideally get me proper output. But I am getting original dataframe instead of split one.\n",
    "del df['reply']\n",
    "df = df.join(s)\n",
    "df.head(10)"
   ]
  },
  {
   "cell_type": "code",
   "execution_count": 5,
   "metadata": {},
   "outputs": [
    {
     "data": {
      "text/plain": [
       "(1950, 3)"
      ]
     },
     "execution_count": 5,
     "metadata": {},
     "output_type": "execute_result"
    }
   ],
   "source": [
    "df.shape"
   ]
  },
  {
   "cell_type": "code",
   "execution_count": 6,
   "metadata": {},
   "outputs": [],
   "source": [
    "df.to_csv(\"split_sentences.csv\")"
   ]
  },
  {
   "cell_type": "code",
   "execution_count": null,
   "metadata": {},
   "outputs": [],
   "source": []
  }
 ],
 "metadata": {
  "kernelspec": {
   "display_name": "Python 3",
   "language": "python",
   "name": "python3"
  },
  "language_info": {
   "codemirror_mode": {
    "name": "ipython",
    "version": 3
   },
   "file_extension": ".py",
   "mimetype": "text/x-python",
   "name": "python",
   "nbconvert_exporter": "python",
   "pygments_lexer": "ipython3",
   "version": "3.7.4"
  }
 },
 "nbformat": 4,
 "nbformat_minor": 2
}
