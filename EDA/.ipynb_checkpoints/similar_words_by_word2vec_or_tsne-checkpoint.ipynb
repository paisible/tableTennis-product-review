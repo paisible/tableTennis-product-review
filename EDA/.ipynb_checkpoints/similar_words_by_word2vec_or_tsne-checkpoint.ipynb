{
 "cells": [
  {
   "cell_type": "code",
   "execution_count": 2,
   "metadata": {},
   "outputs": [],
   "source": [
    "import numpy as np\n",
    "import pandas as pd\n",
    "import os\n",
    "import re\n",
    "import time\n",
    "\n",
    "from gensim.models import Word2Vec\n",
    "from tqdm import tqdm"
   ]
  },
  {
   "cell_type": "code",
   "execution_count": 3,
   "metadata": {},
   "outputs": [],
   "source": [
    "replies_df = pd.read_csv('./replies_df.csv')"
   ]
  },
  {
   "cell_type": "code",
   "execution_count": 6,
   "metadata": {},
   "outputs": [],
   "source": [
    "import nltk\n",
    "from nltk.stem import PorterStemmer, WordNetLemmatizer\n",
    "from nltk.tokenize import sent_tokenize, word_tokenize\n",
    "from nltk.corpus import stopwords\n",
    "\n",
    "\n",
    "# from wordcloud import STOPWORDS\n",
    "def get_stopwords():\n",
    "    # stop = set(STOPWORDS)\n",
    "    stop = stopwords.words('english')\n",
    "    custom_words_sen = 'really, like, way, much , still, but, find, need, you, many, lot, always, say, could, well, even, the'\n",
    "\n",
    "    custom_words = custom_words_sen.split(', ')\n",
    "\n",
    "    custom_stop = stop + custom_words\n",
    "    return custom_stop"
   ]
  },
  {
   "cell_type": "code",
   "execution_count": 8,
   "metadata": {},
   "outputs": [],
   "source": [
    "def preprocess_news(df=replies_df,lowercase=False):\n",
    "    corpus=[]\n",
    "    stem=PorterStemmer()\n",
    "    lem=WordNetLemmatizer()\n",
    "    stop = get_stopwords()\n",
    "    for threads in replies_df['reply']:\n",
    "        if lowercase == True:\n",
    "            words=[str.lower(w) for w in word_tokenize(threads) if (w not in stop)]\n",
    "        else:\n",
    "            words=[w for w in word_tokenize(threads) if (w not in stop)]\n",
    "        words=[lem.lemmatize(w) for w in words if len(w)>2]\n",
    "        corpus.append(words)\n",
    "    return corpus\n",
    "\n",
    "corpus_lowercase =preprocess_news(replies_df, True)"
   ]
  },
  {
   "cell_type": "code",
   "execution_count": 11,
   "metadata": {},
   "outputs": [
    {
     "name": "stdout",
     "output_type": "stream",
     "text": [
      "[['stao', 'response', 't64fx', 'change', 'depending', 'blade', \"'re\", 'using', 'usually', 'primorac', 'carbon', 'offensive', 'player', 'agressive', 'top', 'spin', 'used', 't05fx', 'appreciate', 'general', 'feeling', 't64fx', 'softer', 'faster', '05fx', 'hand', 'le', 'spin', 'very', 'good', 'block', 'for', 'style', 'prefer', 't64fx', 't05fx', '2.1', 'bought', 'recently', 'complete', 'garaydia', 'family', 'see', 'blade', 'possibility', 'improve', 'skill', 'would', 'no.with', 'alc', 'soft', 'slow', 't5000', 'fast', 'zlc', 'softer', 'touch', 'alternative', 'truly', 'amazed', 'huge', 'difference', 'blades.to', 'finish', 'currently', 'glueing', 'dignics', 'primorac', 'carbon', 'test', 'season', 'ended', 'training', \"'ll\", 'see', 'fit', 'test', 'garaydia', 't5000', 'garaydia', 'zlc', 'seeking', 'spin', '...'], ['also', 'interested']]\n"
     ]
    }
   ],
   "source": [
    "print(corpus_lowercase[:2])"
   ]
  },
  {
   "cell_type": "code",
   "execution_count": 36,
   "metadata": {},
   "outputs": [],
   "source": [
    "# https://www.kaggle.com/chewzy/tutorial-how-to-train-your-custom-word-embedding\n",
    "\n",
    "model = Word2Vec(sentences=corpus_lowercase, min_count=1,size= 50,workers=3, window =3, sg = 1)"
   ]
  },
  {
   "cell_type": "code",
   "execution_count": 16,
   "metadata": {},
   "outputs": [
    {
     "data": {
      "text/plain": [
       "1399"
      ]
     },
     "execution_count": 16,
     "metadata": {},
     "output_type": "execute_result"
    }
   ],
   "source": [
    "len(model.wv.vocab.keys())"
   ]
  },
  {
   "cell_type": "code",
   "execution_count": 27,
   "metadata": {},
   "outputs": [
    {
     "name": "stdout",
     "output_type": "stream",
     "text": [
      "dict_keys(['response', 't64fx', 'change', 'depending', 'blade', \"'re\", 'using', 'usually', 'primorac', 'carbon', 'offensive', 'player', 'top', 'spin', 'used', 't05fx', 'appreciate', 'general', 'feeling', 'softer', 'faster', '05fx', 'hand', 'le', 'very', 'good', 'block', 'for', 'style', 'prefer', '2.1', 'bought', 'recently', 'family', 'see', 'improve', 'skill', 'would', 'alc', 'soft', 'slow', 'fast', 'zlc', 'touch', 'alternative', 'huge', 'difference', 'currently', 'dignics', 'test', 'season', 'ended', 'training', \"'ll\", 'fit', '...', 'also', 'interested', 'maybe', 'ttd', 'start', 'rubber', 'know', 'short', 'pip', 'think', 'someone', 'play', 'three', 'considered', 'grippy', 'create', 'effect', '802', 'glue', 'two', 'bit', 'hardest', 'feel', 'hard', 'try', 'google', 'alot', 'ask', 'forum', 'they', 'pimple', 'guy', 'how', 'want', 'use', 'pretty', 'different', 'some', 'one', 'better', 'another', 'several', 'month', 'degree', 'sponge', 'heavy', 'boosted', 'tested', 'both', 'reacts', 'much', 'incoming', 'flat', 'hit', 'predictable', 'suppose', 'cpen', 'balanced', 'shot', 'suggest', 'ever', 'tried', 'weight', 'outer', 'ply', 'love', 'quality', 'something', 'special', 'best', 'right', 'money', 'problem', 'thanks', 'innerforce', 'save', 'dhs', 'choice', 'limba', 'koto', 'sent', 'tapatalk', 'loop', 'everything', 'active', 'game', 'tenergy', 'passive', 'linear', 't64', 't80', 'might', 'liking', 'sure', 'blocking', \"n't\", 'anything', 'though', 'buy', 't05', 'first', 'wear', 'this', 'learn', 'and', 'big', 'adjustment', 'depend', 'favorite', 'the', 't25', 'longer', 'thinner', 'space', 'give', 'little', 'shorter', 'thicker', 'closer', 'together', 'harder', 'but', 'topsheet', 'just', 'mean', 'word', 'comment', 'great', 'there', 'people', 'may', 'work', 'slightly', 'others', 'video', 'able', 'search', 'post', 'posted', 'time', 'already', 'that', 'help', 'decent', 'amount', 'info', 'slower', 'more', 'higher', 'throw', 'angle', 'lower', 'half', 'bigger', 'arc', 'person', 'table', 'speed', 'come', 'easier', 'counter', 'extreme', 'every', 'especially', 'since', 'enough', 'deep', 'here', 'most', 'including', 'butterfly', 'discus', 'tenergies', 'similar', 'along', 'with', 'term', 'actually', 'experience', 'mentioned', 'familiar', 'information', 'series', 'spinny', 'topspin', 'example', 'serf', 'found', 'sensitive', 'etc', 'vanaf', 'mijn', 'met', 'suit', 'control', 'spinnier', 'yes', 'return', 'push', 'reaction', 'benefit', 'serve', 'without', 'acceleration', 'preference', 'like', 'forehand', 'backhand', 'worked', 'fine', 'remember', 'long', 'chance', 'extra', 'seems', 'important', 'error', 'result', 'will', \"'ve\", 'year', 'ago', 'market', 'due', 'hardness', 'switched', 'opinion', 'based', 'stroke', 'after', 'testing', 'end', 'last', 'back', 'combination', 'looking', 'clear', 'perfectly', 'strange', 'wrote', 'particular', 'reason', 'old', 'thread', 'said', 'actual', 'started', 'solution', 'easily', 'instead', 'buying', 'set', '....', 'becomes', 'tends', 'far', 'new', 'all', 'black', 'today', 'not', 'water', 'wood', 'zjk', 'tb', 'blue', 'dragon', 'viscaria', 'larger', 'sweet', 'despite', 'lighter', '.....', 'plastic', 'ball', 'never', 'exactly', 'you', 'name', 'matter', 'reply', 'must', 'gave', 'why', 'master', 'yet', 'weigh', 'question', 'member', 'double', 'percentage', 'alive', 'true', 'past', 'powerful', 'match', 'felt', 'sold', 'stiga', 'clipper', 'main', 'handle', 'small', 'thin', 'power', 'plus', 'highest', 'level', 'case', 'equipment', 'btw', 'rating', 'around', 'wondering', 'day', 'sell', 'idea', 'upgrade', 'beast', 'der_echte', 'playing', 'done', 'light', 'real', 'gram', 'amazing', 'then', 'add', 'take', 'beyond', 'got', 'made', 'standard', 'let', 'toss', 'quickly', 'produce', 'remove', 'pick', 'count', 'gluing', 'carl', 'given', 'row', 'sometimes', 'hold', 'grip', 'tape', 'call', 'next', 'korea', 'played', 'glued', 'sigma', 'euro', 'bet', 'make', 'iphone', 'getting', 'knowing', 'forgiving', 'flick', 'win', 'point', 'probably', 'besides', 'anyway', 'too', 'off', 'going', '3rd', 'sound', 'chopping', 'rally', 'suited', 'close', 'session', 'easy', 'what', 'service', 'nowadays', 'side', 'allround', '1.9mm', 'compare', 'thank', 'everyone', 'boll', 'timo', 'spirit', 'tell', 'world', 'exact', 'tennis', 'get', 'price', 'unless', 'expensive', 'fastest', 'kid', '3-4', 'joola', 'which', 'mate', 'sriver', 'certain', 'step', 'your', 'current', 'quite', 'lack', 'choose', 'off-', 'setup', 'tibhar', 'trust', 'bty', 'offer', 'depends', 'distance', 'xiom', 'lasting', 'thats', 'pro', 'europe', 'baracuda', 'per', 'looping', 'chop', 'greater', 'however', 'personal', 'compared', 'often', 'complaint', 'sheet', 'review', 'worth', 'ultimately', 'heavier', 'adjust', 'layer', 'although', 'keep', 'bat', 'low', 'reviewer', 'claim', 'breaking', 'donic', 'either', 'noticeably', 'driving', 'thing', 'tend', 'lean', 'towards', 'conclusion', 'ten', 'durable', 'according', 'personally', 'hope', 'oriented', 'wing', 'surprise', 'ten05', 'expect', 'extremely', 'significantly', 'heard', '1.9', 'anyone', 'scale', 'well', 'check', 'http', 'nice', 'link', 'assume', 'equal', 'significant', 'fan', 'definitely', 'second', 'hurricane', 'now', 'waiting', 'direct', 'type', 'contact', 'elp', 'brush', 'fx-p', 'el-p', 'comparable', 'cheaper', 'place', 'couple', 'changed', 'inner', 'normally', 'high', 'flexible', 'from', 'mx-p', 'surprised', 'sorry', 'el-s', 'number', 'requires', 'brushing', 'kinda', 'indeed', 'input', 'finding', 'way', 'genesis', 'put', 'suitable', 'else', 'fake', 'mantra', 'supposed', 'moment', 'controllable', 'affect', 'happy', 'catapult', 'underspin', 'dwell', 'japanese', 'production', 'don´t', 'whether', 'hybrid', 'chinese', 'sticky', 'surface', 'kind', 'changing', 'it', 'difficult', 'cut', 'german', 'gold', 'progress', 'finally', 'potential', 'liked', 'thought', 'bluefire', 'generate', 'maximum', 'considering', 'possible', 'technique', 'fact', 'rate', '100', 'reliable', 'comparing', 'manufacturer', 'thickness', '2.0', 'red', 'wide', 'range', 'esn', 'vega', 'edge', 'created', 'advantage', 'condition', 'o7p', 'dna', 'solid', 'awesome', 'lacking', 'rasanter', 'really', 'omega', 'stay', 'away', 'tacky', 'excellent', 'stuff', 'agree', 'week', 'order', 'opposite', 'o7a', 'please', 'explain', 'perfect', 'read', 'asia', 'amateur', 'safety', 'hate', 'subjective', 'advice', 'dont', 'care', 'zhang', 'jike', 'super', 'look', 'brand', 'free', '999', 'globe', 'havent', 'club', 'vii', 'full', 'swing', 'gear', 'rotation', 'whatever', 'insight', 'believe', 'category', 'nittaku', 'simply', 'entire', 'impact', 'trying', 'impossible', 'asking', 'dan', 'tom', 'dynamic', 'man', '2-3', 'show', 'working', 'minute', 'answer', 'yogi', 'wait', 'write', 'typical', 'because', 'factory', 'tour', 'firm', 'sponged', 'situation', 'except', 'medium', 'older', 'modern', 'firmer', 'quick', 'understand', 'basically', 'hitting', 'structure', 'select', 'understanding', 'when', 'open', 'drive', 'class', 'improvement', 'mind', 'property', 'basic', 'erm', 'dude', 'original', 'selection', 'obviously', 'talk', 'happens', 'professional', 'wrong', 'came', 'aspect', 'large', 'factor', 'aware', 'adapt', 'version', 'germany', 'generation', 'stiff', 'even', 'turn', 'having', 'durability', 'go', 'hyper', 'boost', 'performance', 'need', 'practice', 'afraid', 'timing', 'softness', 'seem', 'skyline', 'tg2', 'neo', 'cleaning', 'lost', 'tack', 'looper', 'net', 'ill', 'hey', 'unfortunately', 'yeah', 'vs.', 'impression', 'thus', 'margin', 'generally', 'overall', 'accuracy', 'taking', 'trained', 'therefore', 'worse', 'energy', 'train', 'clearly', 'engage', 'aggressive', 'balance', 'controlled', 'fun', 'almost', 'characteristic', 'cool', 'mostly', 'softest', 'h3n', 'yinhe', 'dipper', 'paddle', 'national', 'available', 'normal', 'provincial', 'china', 'store', 'selling', 'gon', 'paying', 'boosting', 'least', 'booster', 'needed', 'provide', 'could', 'share', 'guess', 'tackiness', 'avoid', 'wanted', 'legend', 'issue', 'premade', 'completely', 'suggestion', 'pair', 'hoping', 'acuda', 'proper', 'ga8', 'serving', 'course', 'bouncy', 'max', 'sanwei', 'andro', 'opening', 'can', 'rakza', 'somewhat', 'racket', 'controlling', 'doesnt', 'tensor', 'okay', 'thinking', 'tenergy05', 'lesser', 'perform', 'early', 'mark', 'hour', 'hopefully', 'across', 'punch', 'part', 'bounciness', 'opponent', 'tight', 'esp', 'manage', '2.1mm', 'honest', 'bryce', 'japan', 'forgot', 'company', 'user', 'majority', 'properly', 'nothing', 'send', 'sale', 'certainly', 'interesting', 'area', 'focus', 'rather', 'usual', 'view', 'comparison', 'forget', 'produced', 'kick', 'released', 'par-lx9', 'jupiter', 'deg', 'effort', 'battle', 'stick', 'differently', 'bouncier', 'replace', 'worn', 'bad', 'falco', 'hmm', 'haifu', 'oil', 'initial', 'cover', 'playable', 'strong', 'reglue', 'bubble', 'twice', 'prott', 'likely', 'develop', 'prov', 'become', 'nat', 'commercial', 'non', 'tony', 'wow', 'have', 'haha', 'talking', 'yep', 'coz', 'orange', 'option', 'wang', 'turbo', 'absorb', 'none', 'additional', 'rest', 'topic', 'target', 'apply', 'hadou', '40+', 'tackier', 'ak47', 'imo', 'bounce', 'yellow', 'allow', 'lose', 'league', 'otherwise', 'middle', 'beginner', 'line', 'designed', 'totally', 'non-tacky', 'semi-tacky', 'backspin', 'regard', 'comfortable', 'tt11', 'fix', 'putting', 'lifting', 'consistently', 'european', 'tension', 'package', 'julian', 'suck', 'adidas', 'stronger', 'attack', 'fastarc', 'improved', 'r47', 'chopper', 'grab', 'list', 'prepared', 'cheap', 'ton', 'aside', 'damage', 'it´s', 'spread', 'hexer', 'genius', 'g-1', 'unlike', 'ranking', 'switch', 'era', 'rozena', 'hype', 'r42', 'closest', 'whereas', 'whole', 'absolutely', 'sensitivity', 'decision', 'fantastic', 'sort', 'attacking', 'joo', 'recommended', 'pay', 'dead', '47.5', 'only', 'correct', 'us', 'till', 'physical', 'intermediate', 'mx', 'saying', 'say', 'mxp', 'evolution', 'mx-s', 'average', 'newer', 'c-pen', 'these', 'gewo', 'nexxus', 'crazy', 'where', 'stock', 'loved', 'recommend', 'did', 'value', 'shine', 'making', 'period', 'preferred', 'lot', 'popular', 'deal', 'barracuda', 'achieve', 'many', 'marketing', 'rasant', 'recommendation', 'aurus', 'spend', 'mistake', 'rhyzer', 'wonder', 'sticking', 'about', 'friend', 'third', 'cost', 'mine', 'switching', 'relatively', '2.0mm', 'maxxx', 'risk', 'equally', 'biggest', 'force', 'body', 'while', 'nearly', 'require', 'took', 'isnt', 'h3-50', 'wont', 'optimum', 'cant', 'consider', 'increase', 'playstyle', 'hence', 'seamoon', '3-60', 'note', 'h3neo', '729', 'loose', 'movement', 'flip', 'somewhere', 'position', 'single', 'giving', 'imagine', 'ordered', '3-50', 'satisfied', 'update', 'r50', 'enjoy', 'dust', 'rare', 'wan', 'following', 'approach', 'mention', 'helped', 'anymore', 'previous', 'watch', 'learnt', 'adjusting', 'bring', 'coming', 'lol', 'decide', 'asked', 'four', 'effective', 'specific', 'meaning', 'clean', 'dry', 'air', 'footwork', 'mushy', 'ive', 'mx-s.', '2.2', 'trajectory', 'rhyzm', 'regular', 'white', 'elastic', 'safe', 'quantum', 'website', 'addition', 'among', 'meant', 'hear', 'evo', 'ideal', 'job', 'listed', 'tuned', 'coach', '2.15', 'mid', 'ease', 'doe', 'anybody', 'hahaha', 'mainly', 'form', 'euro/jap', 'maze', 'detail', 'move', 'near', 'those', 'shoulder', 'weak', 'lift', 'perhaps', 'friendship', 'forward', 'drop', 'flicking', 'sink', 'smashing', 'flatter', 'decided', 'secret', 'stop', 'statement', 'load', 'exercise', 'applied', 'wish', 'effectively', 'book', 'weird', 'ability', 'topsheets', 'consistent', 'speaking', 'beat', 'weekend', 'engine', 'act', 'later', 'reading', 'fair', 'tg3', 'airoc', 'seeing', 'keeping', 'cause', 'yasaka', 'honestly', 'attitude', 'fairly', 'cnt', 'cheer', 'expert', 'defender', 'somehow', 'spring', 'wouldnt', 'told', 'luck', 'notice', 'noticed', 'friendship/729', 'min', 'starting', 'placement', 'wrist', 'are', 'soon', 'shop', 'rosewood', 'astro', 'online', 'rising', 'classic', 'ebay', 'shipping', 'replacement', 'ttnpp', 'usd', '39°', 'email', 'site', 'seriously', 'product', 'legit', 'advise', 'ha', 'seen', 'spinniest', 'didnt', 'arm', 'tackiest', '//www.tabletennisdaily.co.uk/fo', 'vivo', 'x5max', 'calibra', 'doubt', 'smash', 'mechanical', 'technology', 'lkt', 'break', 'wipe', 'any', 'welcome', 'petr', 'korbel', 'discover', 'silver', 'coppa', 'controll', 'article', 'hitter', 'accurate', 'elite', 'upsidedowncarl', 'htc', 'saw', 'sense', 'whale', 'memo', 'feedback', 'noticeable', 'dianchi', 'center', 'tune', 'lasted', 'team', 'typically', 'process', 'developing', 'cleaner', 'plenty', 'curious', 'compress', 'jump', 'run', 'hao', 'went', '1-2', 'quicker', 'english', 'yosua', 'called', '2008', 'worry', 'galaxy', 'barely', 'illegal', 'tournament', 'nobody', 'voc', 't11+', 'tin', 'picture', 'finger', 'skip', 'follow', 'semi', 'regardless', 'dawei', 'palio', 'thor', 'nimbus', 'favourite', 'notch', 'yesterday', 'mizutani', 'combo', 'thick', 'rule', 'blocker', 'combi', '1.7', 'vote', 'def', 'iii', 'powergrip', 'his', 'missing', 'tickness', 'vibration', 'purpose', 'distributor', 'pull', 'express', 'allowed', '//www.tabletennisdaily.com/for', 'victas', 'c-1', 'r53', 'still', '1st', 'attribute', 'bottom', 'research', 'straight', 'princett', 'bloom', 'seller', 'packaging', 'oneplus', 'a6010', 'subject', 'helpful', 'tempo', 'baby', '290', 'ovum', 'clubmate', 'o7asia', 'ovasia', 'ovtour', 'identical', '45°', 'chart', 'ittf', 'begin', 'life', 't05h', 'car', 'substitute', 'roller', 'serbia', 'thx', 'glad', '755', 'corner', 'window', 'meu', 'ale-l21', 'através', 'moon', 'tompa', 'itc', 'sunny', 'korean', 'hedgehog', 'rubbers:1', '052', 'rpb', 'blah', 'green', 'babyoil', 'jp-01', 'domestic', 'jp01', 'foam', 'detergent', 'diffrent', 'wbg', 'watery', 'residue', 'azlan'])\n"
     ]
    }
   ],
   "source": [
    "print(model.wv.vocab.keys())"
   ]
  },
  {
   "cell_type": "code",
   "execution_count": 17,
   "metadata": {},
   "outputs": [
    {
     "data": {
      "text/plain": [
       "100"
      ]
     },
     "execution_count": 17,
     "metadata": {},
     "output_type": "execute_result"
    }
   ],
   "source": [
    "model.wv.vector_size"
   ]
  },
  {
   "cell_type": "code",
   "execution_count": 18,
   "metadata": {},
   "outputs": [
    {
     "data": {
      "text/plain": [
       "array([-0.16829066, -0.05715205, -0.06540787,  0.12007315, -0.04903476,\n",
       "        0.22983007, -0.14760633,  0.1600666 , -0.23573405,  0.03364509,\n",
       "        0.24682416,  0.15199186, -0.15821251, -0.06940357, -0.04192653,\n",
       "       -0.1509009 ,  0.07531299, -0.30070657,  0.03358845,  0.10145789,\n",
       "       -0.175297  , -0.02297324, -0.21395536,  0.06869911,  0.14575441,\n",
       "        0.18957736, -0.12513481, -0.06674452,  0.12062386, -0.13321027,\n",
       "       -0.10844035,  0.15176205, -0.00758308, -0.17613736, -0.00949936,\n",
       "       -0.02316132, -0.04202395,  0.01241096, -0.27382994,  0.11073865,\n",
       "        0.19628438, -0.21965736, -0.15647586,  0.28720513,  0.18930556,\n",
       "       -0.00783611,  0.01088891,  0.04728015,  0.0305271 ,  0.00902763,\n",
       "       -0.2518654 ,  0.1151575 ,  0.15687259, -0.2558326 , -0.03006678,\n",
       "        0.01943662,  0.13452484,  0.04449085, -0.04863555, -0.0466919 ,\n",
       "       -0.14497414,  0.0243115 , -0.04149826, -0.3457123 , -0.0691382 ,\n",
       "       -0.16142748,  0.07180093,  0.11925397,  0.11623839,  0.15770434,\n",
       "       -0.09632241, -0.08923829, -0.07427067,  0.29672906,  0.06372468,\n",
       "        0.15877682,  0.18418103, -0.09095929,  0.11864731, -0.15018034,\n",
       "        0.24798687,  0.10054085,  0.06757461,  0.0067212 ,  0.00768045,\n",
       "        0.03293583,  0.20540328, -0.06937679,  0.24167146, -0.11680978,\n",
       "       -0.08047117, -0.04435858,  0.11031434, -0.11900273,  0.13369414,\n",
       "       -0.07366055,  0.18327032,  0.11043838, -0.05363482, -0.3673675 ],\n",
       "      dtype=float32)"
      ]
     },
     "execution_count": 18,
     "metadata": {},
     "output_type": "execute_result"
    }
   ],
   "source": [
    "model.wv.get_vector('speed')"
   ]
  },
  {
   "cell_type": "code",
   "execution_count": 29,
   "metadata": {},
   "outputs": [
    {
     "data": {
      "text/plain": [
       "[('proper', 0.9994490742683411),\n",
       " ('noticeably', 0.9994410276412964),\n",
       " ('equal', 0.9994335174560547),\n",
       " ('reviewer', 0.9994073510169983),\n",
       " ('comparison', 0.999402642250061),\n",
       " ('still', 0.9993979334831238),\n",
       " ('area', 0.9993978142738342),\n",
       " ('more', 0.9993962049484253),\n",
       " ('increase', 0.9993873834609985),\n",
       " ('older', 0.9993853569030762)]"
      ]
     },
     "execution_count": 29,
     "metadata": {},
     "output_type": "execute_result"
    }
   ],
   "source": [
    "model.wv.most_similar('ten05')"
   ]
  },
  {
   "cell_type": "code",
   "execution_count": 19,
   "metadata": {},
   "outputs": [
    {
     "data": {
      "text/plain": [
       "[('easier', 0.9934545755386353),\n",
       " ('angle', 0.9923799633979797),\n",
       " ('power', 0.9911880493164062),\n",
       " ('hit', 0.9907858371734619),\n",
       " ('higher', 0.99042809009552),\n",
       " ('bit', 0.9901906251907349),\n",
       " ('low', 0.98968505859375),\n",
       " ('little', 0.9891588687896729),\n",
       " ('arc', 0.9885221719741821),\n",
       " ('stroke', 0.9881170392036438)]"
      ]
     },
     "execution_count": 19,
     "metadata": {},
     "output_type": "execute_result"
    }
   ],
   "source": [
    "model.wv.most_similar('speed')"
   ]
  },
  {
   "cell_type": "code",
   "execution_count": 20,
   "metadata": {},
   "outputs": [
    {
     "data": {
      "text/plain": [
       "[('quite', 0.9970472455024719),\n",
       " ('spinny', 0.9966941475868225),\n",
       " ('flat', 0.996411919593811),\n",
       " ('sensitive', 0.9961768984794617),\n",
       " ('serf', 0.9959430694580078),\n",
       " ('blocking', 0.9955519437789917),\n",
       " ('high', 0.9954133033752441),\n",
       " ('hitting', 0.9946086406707764),\n",
       " ('great', 0.9942514896392822),\n",
       " ('push', 0.9934906959533691)]"
      ]
     },
     "execution_count": 20,
     "metadata": {},
     "output_type": "execute_result"
    }
   ],
   "source": [
    "model.wv.most_similar('fast')"
   ]
  },
  {
   "cell_type": "code",
   "execution_count": 22,
   "metadata": {},
   "outputs": [
    {
     "data": {
      "text/plain": [
       "[('calibra', 0.9966277480125427),\n",
       " ('evolution', 0.9952017664909363),\n",
       " ('yasaka', 0.9950525164604187),\n",
       " ('tour', 0.9948242902755737),\n",
       " ('rakza', 0.9947068095207214),\n",
       " ('pretty', 0.9946892261505127),\n",
       " ('mark', 0.9939993619918823),\n",
       " ('recommend', 0.9939830899238586),\n",
       " ('look', 0.9939225316047668),\n",
       " ('series', 0.9933728575706482)]"
      ]
     },
     "execution_count": 22,
     "metadata": {},
     "output_type": "execute_result"
    }
   ],
   "source": [
    "model.wv.most_similar('tenergy')"
   ]
  },
  {
   "cell_type": "code",
   "execution_count": 28,
   "metadata": {},
   "outputs": [
    {
     "data": {
      "text/plain": [
       "[('sale', 0.9993939995765686),\n",
       " ('barracuda', 0.9993720650672913),\n",
       " ('friendship', 0.9993481636047363),\n",
       " ('lighter', 0.9993479251861572),\n",
       " ('us', 0.9993048310279846),\n",
       " ('following', 0.9993033409118652),\n",
       " ('super', 0.9992897510528564),\n",
       " ('3-60', 0.9992702007293701),\n",
       " ('popular', 0.9992560744285583),\n",
       " ('say', 0.9992340803146362)]"
      ]
     },
     "execution_count": 28,
     "metadata": {},
     "output_type": "execute_result"
    }
   ],
   "source": [
    "model.wv.most_similar('h3-50')"
   ]
  },
  {
   "cell_type": "code",
   "execution_count": 26,
   "metadata": {},
   "outputs": [
    {
     "data": {
      "text/plain": [
       "[('both', 0.9919931888580322),\n",
       " ('love', 0.9917461276054382),\n",
       " ('nimbus', 0.9913538098335266),\n",
       " ('type', 0.9913371801376343),\n",
       " ('think', 0.9912756681442261),\n",
       " ('basically', 0.9911566972732544),\n",
       " ('want', 0.9911171793937683),\n",
       " ('give', 0.9907335638999939),\n",
       " ('chinese', 0.9906983375549316),\n",
       " ('fact', 0.9905658960342407)]"
      ]
     },
     "execution_count": 26,
     "metadata": {},
     "output_type": "execute_result"
    }
   ],
   "source": [
    "model.wv.most_similar('rubber')"
   ]
  },
  {
   "cell_type": "code",
   "execution_count": 23,
   "metadata": {},
   "outputs": [],
   "source": [
    "model.wv.save_word2vec_format('custom_word2vec.txt')"
   ]
  },
  {
   "cell_type": "markdown",
   "metadata": {},
   "source": [
    "* not useful at all"
   ]
  },
  {
   "cell_type": "markdown",
   "metadata": {},
   "source": [
    "# tsne"
   ]
  },
  {
   "cell_type": "code",
   "execution_count": 58,
   "metadata": {},
   "outputs": [],
   "source": [
    "from sklearn.manifold import TSNE\n",
    "import matplotlib.pyplot as plt\n",
    "\n",
    "def display_closestwords_tsnescatterplot(model, word, size):\n",
    "    \n",
    "    arr = np.empty((0,size), dtype='f')\n",
    "    word_labels = [word]\n",
    "    word_vector = model.wv\n",
    "    close_words = word_vector.similar_by_word(word)\n",
    "    arr = np.append(arr, np.array([word_vector[word]]), axis=0)\n",
    "    for wrd_score in close_words:\n",
    "        wrd_vector = word_vector[wrd_score[0]]\n",
    "        word_labels.append(wrd_score[0])\n",
    "        arr = np.append(arr, np.array([wrd_vector]), axis=0)\n",
    "        \n",
    "    tsne = TSNE(n_components=2, random_state=0)\n",
    "    np.set_printoptions(suppress=True)\n",
    "    Y = tsne.fit_transform(arr)\n",
    "    x_coords = Y[:, 0]\n",
    "    y_coords = Y[:, 1]\n",
    "    plt.scatter(x_coords, y_coords)\n",
    "    \n",
    "    for label, x, y in zip(word_labels, x_coords, y_coords):\n",
    "        plt.annotate(label, xy=(x, y), xytext=(0, 0), textcoords='offset points')\n",
    "    plt.xlim(x_coords.min()+0.00005, x_coords.max()+0.00005)\n",
    "    plt.ylim(y_coords.min()+0.00005, y_coords.max()+0.00005)\n",
    "    plt.show()"
   ]
  },
  {
   "cell_type": "code",
   "execution_count": 59,
   "metadata": {},
   "outputs": [
    {
     "data": {
      "image/png": "[encoded data removed]",
      "text/plain": [
       "<Figure size 432x288 with 1 Axes>"
      ]
     },
     "metadata": {
      "needs_background": "light"
     },
     "output_type": "display_data"
    }
   ],
   "source": [
    "display_closestwords_tsnescatterplot(model, 'rubber', 50) "
   ]
  },
  {
   "cell_type": "code",
   "execution_count": null,
   "metadata": {},
   "outputs": [],
   "source": []
  }
 ],
 "metadata": {
  "kernelspec": {
   "display_name": "Python 3",
   "language": "python",
   "name": "python3"
  },
  "language_info": {
   "codemirror_mode": {
    "name": "ipython",
    "version": 3
   },
   "file_extension": ".py",
   "mimetype": "text/x-python",
   "name": "python",
   "nbconvert_exporter": "python",
   "pygments_lexer": "ipython3",
   "version": "3.7.7"
  }
 },
 "nbformat": 4,
 "nbformat_minor": 4
}
