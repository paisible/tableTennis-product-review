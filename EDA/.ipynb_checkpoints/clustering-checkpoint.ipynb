{
 "cells": [
  {
   "cell_type": "code",
   "execution_count": 1,
   "metadata": {},
   "outputs": [],
   "source": [
    "import pandas as pd"
   ]
  },
  {
   "cell_type": "code",
   "execution_count": 2,
   "metadata": {},
   "outputs": [],
   "source": [
    "replies_df = pd.read_csv('./replies_df.csv')"
   ]
  },
  {
   "cell_type": "code",
   "execution_count": 3,
   "metadata": {},
   "outputs": [],
   "source": [
    "sentences_arr = replies_df.reply.values.astype('U')"
   ]
  },
  {
   "cell_type": "code",
   "execution_count": 4,
   "metadata": {},
   "outputs": [
    {
     "data": {
      "text/plain": [
       "array([\"Hi stao, the response of the T64fx changes depending on the the blade you're using. Usually I have a Primorac Carbon and I'm offensive player with agressive top spin. I used T05fx before and I really appreciate the general feeling of the T64fx, which is more softer but faster than 05fx. On the other hand less spin too. Very good for block. For my style I really prefer T64fx than T05fx ( always 2.1 for me).I bought recently the complete Garaydia family to see if from the blade I had a possibility to improve my skills and I would say no.With the ALC it is too soft and slow for me, with the T5000 too fast and the ZLC has a softer touch and could be an alternative. I'm truly amazed about the huge difference between those 3 blades.To finish I'm currently glueing a Dignics 05 on my Primorac carbon to test as the season ended. after a training I'll see if it fits for me or if I have to test it with the garaydia T5000 or Garaydia ZLC as I'm seeking more spin...\",\n",
       "       \"I'm also interested.\"], dtype='<U4918')"
      ]
     },
     "execution_count": 4,
     "metadata": {},
     "output_type": "execute_result"
    }
   ],
   "source": [
    "sentences_arr[:2]"
   ]
  },
  {
   "cell_type": "code",
   "execution_count": 5,
   "metadata": {},
   "outputs": [
    {
     "data": {
      "text/plain": [
       "array([\"Thanks for your reply! I've used haifu whale II before, its definately heavier than H3 neo! Although I found the haifu is more powerful in speed, I prefer the H3 for its feel and spin. So I like to keep the H3 neo for f/h, but wonder what rubber would be spinny and light for the rpb side?\",\n",
       "       'Non-tacky rubbers are better for RPB usually.The Chinese like a tacky FH rubber and a non-tacky RPB rubber.Two tacky rubbers will also make the set up a bit heavy for CPen.'],\n",
       "      dtype='<U4918')"
      ]
     },
     "execution_count": 5,
     "metadata": {},
     "output_type": "execute_result"
    }
   ],
   "source": [
    "sentences_arr[-2:]"
   ]
  },
  {
   "cell_type": "code",
   "execution_count": 22,
   "metadata": {},
   "outputs": [],
   "source": [
    "# https://pythonprogramminglanguage.com/kmeans-text-clustering/\n",
    "# https://towardsdatascience.com/k-means-clustering-8e1e64c1561c\n",
    "\n",
    "# making idf vector then cluster\n",
    "\n",
    "from sklearn.preprocessing import normalize\n",
    "from sklearn.feature_extraction.text import TfidfVectorizer\n",
    "from sklearn.cluster import KMeans\n",
    "from sklearn.metrics import adjusted_rand_score\n",
    "\n",
    "tf_idf_vectorizor = TfidfVectorizer(stop_words = 'english',#tokenizer = tokenize_and_stem,\n",
    "                             max_features = 20000)\n",
    "tf_idf = tf_idf_vectorizor.fit_transform(sentences_arr)\n",
    "tf_idf_norm = normalize(tf_idf)\n",
    "tf_idf_array = tf_idf_norm.toarray()"
   ]
  },
  {
   "cell_type": "code",
   "execution_count": 36,
   "metadata": {
    "scrolled": true
   },
   "outputs": [
    {
     "data": {
      "image/png": "[encoded data removed]",
      "text/plain": [
       "<Figure size 432x288 with 1 Axes>"
      ]
     },
     "metadata": {
      "needs_background": "light"
     },
     "output_type": "display_data"
    }
   ],
   "source": [
    "# using elbow method to determine number of clusters\n",
    "\n",
    "number_clusters = range(2, 8)\n",
    "\n",
    "kmeans = [KMeans(n_clusters=i, max_iter = 100) for i in number_clusters]\n",
    "\n",
    "score = [kmeans[i].fit(tf_idf_array).score(tf_idf_array) for i in range(len(kmeans))]\n",
    "\n",
    "import matplotlib.pyplot as plt\n",
    "plt.plot(number_clusters, score)\n",
    "plt.xlabel('Number of Clusters')\n",
    "plt.ylabel('Score')\n",
    "plt.title('Elbow Method')\n",
    "plt.show()\n",
    "\n",
    "# need to be alot higher number of clusters"
   ]
  },
  {
   "cell_type": "code",
   "execution_count": 24,
   "metadata": {},
   "outputs": [],
   "source": [
    "# using elbow method to determine number of clusters\n",
    "\n",
    "number_clusters = range(5, 55,10)\n",
    "\n",
    "kmeans = [KMeans(n_clusters=i, max_iter = 100) for i in number_clusters]\n",
    "\n",
    "score = [kmeans[i].fit(tf_idf_array).score(tf_idf_array) for i in range(len(kmeans))]"
   ]
  },
  {
   "cell_type": "code",
   "execution_count": 25,
   "metadata": {},
   "outputs": [
    {
     "name": "stdout",
     "output_type": "stream",
     "text": [
      "[-1749.3218996820656, -1691.380715699877, -1657.869818116997, -1634.6304615494419, -1611.5559872491508]\n"
     ]
    }
   ],
   "source": [
    "print(score)"
   ]
  },
  {
   "cell_type": "code",
   "execution_count": 26,
   "metadata": {},
   "outputs": [
    {
     "data": {
      "image/png": "[encoded data removed]",
      "text/plain": [
       "<Figure size 432x288 with 1 Axes>"
      ]
     },
     "metadata": {
      "needs_background": "light"
     },
     "output_type": "display_data"
    }
   ],
   "source": [
    "plt.plot(number_clusters, score)\n",
    "plt.xlabel('Number of Clusters')\n",
    "plt.ylabel('Score')\n",
    "plt.title('Elbow Method')\n",
    "plt.show()\n",
    "\n",
    "# score still not really plateauing\n",
    "# let's just pick a cluster of 15"
   ]
  },
  {
   "cell_type": "code",
   "execution_count": 44,
   "metadata": {},
   "outputs": [
    {
     "name": "stdout",
     "output_type": "stream",
     "text": [
      "Top terms per cluster:\n"
     ]
    }
   ],
   "source": [
    "k = 15\n",
    "model = KMeans(n_clusters=k, init='k-means++', max_iter=100, n_init=1)\n",
    "model.fit(tf_idf_array)\n",
    "\n",
    "#print(\"Top terms per cluster:\")\n",
    "\n",
    "# argsort with desc - so the first few terms are the top terms\n",
    "order_centroids = model.cluster_centers_.argsort()[:, ::-1]\n",
    "terms = vectorizer.get_feature_names()\n",
    "\n",
    "cluster_terms = []\n",
    "\n",
    "for i in range(k):\n",
    "    # print(\"Cluster %d:\" % i),\n",
    "    cluster_i = []\n",
    "    for ind in order_centroids[i, :]:\n",
    "        cluster_i.append(terms[ind])\n",
    "        # print(' %s' % terms[ind]),\n",
    "    cluster_terms.append(cluster_i)\n",
    "    #print()"
   ]
  },
  {
   "cell_type": "code",
   "execution_count": 52,
   "metadata": {},
   "outputs": [
    {
     "name": "stdout",
     "output_type": "stream",
     "text": [
      "Cluster 0:\n",
      " neo\n",
      " h3\n",
      " commercial\n",
      " sponge\n",
      " boost\n",
      " rubber\n",
      " boosted\n",
      " use\n",
      " hurricane\n",
      " provincial\n",
      " national\n",
      " tg3\n",
      " non\n",
      " rubbers\n",
      " battle\n",
      " china\n",
      " better\n",
      " tacky\n",
      " like\n",
      " blue\n",
      "\n",
      "Cluster 1:\n",
      " thanks\n",
      " rubbers\n",
      " try\n",
      " good\n",
      " don\n",
      " like\n",
      " think\n",
      " thank\n",
      " know\n",
      " just\n",
      " really\n",
      " tried\n",
      " new\n",
      " time\n",
      " people\n",
      " lot\n",
      " ok\n",
      " ll\n",
      " yes\n",
      " difference\n",
      "\n",
      "Cluster 2:\n",
      " mx\n",
      " t05\n",
      " like\n",
      " play\n",
      " t80\n",
      " t64\n",
      " rubber\n",
      " t05h\n",
      " rubbers\n",
      " hard\n",
      " good\n",
      " used\n",
      " use\n",
      " way\n",
      " try\n",
      " h3\n",
      " spin\n",
      " backhand\n",
      " better\n",
      " don\n",
      "\n",
      "Cluster 3:\n",
      " spin\n",
      " rubbers\n",
      " speed\n",
      " ball\n",
      " hard\n",
      " soft\n",
      " sponge\n",
      " harder\n",
      " better\n",
      " rubber\n",
      " like\n",
      " good\n",
      " easier\n",
      " control\n",
      " softer\n",
      " sound\n",
      " bit\n",
      " chinese\n",
      " play\n",
      " backhand\n",
      "\n",
      "Cluster 4:\n",
      " glue\n",
      " layers\n",
      " layer\n",
      " blade\n",
      " rubber\n",
      " watery\n",
      " use\n",
      " gluing\n",
      " water\n",
      " speed\n",
      " residue\n",
      " oil\n",
      " need\n",
      " wbg\n",
      " ox\n",
      " process\n",
      " ga\n",
      " roller\n",
      " neo\n",
      " based\n",
      "\n",
      "Cluster 5:\n",
      " sponge\n",
      " blue\n",
      " version\n",
      " www\n",
      " national\n",
      " battle\n",
      " com\n",
      " provincial\n",
      " http\n",
      " orange\n",
      " 729\n",
      " h3\n",
      " hardness\n",
      " versions\n",
      " tabletennisdaily\n",
      " 40\n",
      " rubber\n",
      " commercial\n",
      " better\n",
      " ttnpp\n",
      "\n",
      "Cluster 6:\n",
      " blade\n",
      " hurricane\n",
      " dhs\n",
      " rubbers\n",
      " like\n",
      " rubber\n",
      " fast\n",
      " good\n",
      " blades\n",
      " fh\n",
      " use\n",
      " want\n",
      " skyline\n",
      " 60\n",
      " really\n",
      " technique\n",
      " play\n",
      " boll\n",
      " just\n",
      " control\n",
      "\n",
      "Cluster 7:\n",
      " tenergy\n",
      " 05\n",
      " good\n",
      " rubbers\n",
      " like\n",
      " 64\n",
      " rubber\n",
      " spin\n",
      " 80\n",
      " best\n",
      " better\n",
      " baracuda\n",
      " try\n",
      " used\n",
      " fx\n",
      " want\n",
      " little\n",
      " ve\n",
      " play\n",
      " just\n",
      "\n",
      "Cluster 8:\n",
      " mantra\n",
      " genesis\n",
      " rubber\n",
      " different\n",
      " fast\n",
      " like\n",
      " ak47\n",
      " think\n",
      " chinese\n",
      " stiga\n",
      " speed\n",
      " quite\n",
      " rakza\n",
      " ii\n",
      " just\n",
      " japanese\n",
      " good\n",
      " dhs\n",
      " recommend\n",
      " sure\n",
      "\n",
      "Cluster 9:\n",
      " el\n",
      " rubber\n",
      " pro\n",
      " gewo\n",
      " different\n",
      " fx\n",
      " 48\n",
      " mx\n",
      " topsheet\n",
      " better\n",
      " fast\n",
      " prefer\n",
      " quite\n",
      " 50\n",
      " bit\n",
      " feels\n",
      " hype\n",
      " bh\n",
      " grippier\n",
      " r42\n",
      "\n",
      "Cluster 10:\n",
      " rubber\n",
      " use\n",
      " tacky\n",
      " chinese\n",
      " rubbers\n",
      " just\n",
      " like\n",
      " water\n",
      " think\n",
      " ball\n",
      " good\n",
      " cleaner\n",
      " want\n",
      " backhand\n",
      " euro\n",
      " sponge\n",
      " new\n",
      " hard\n",
      " play\n",
      " using\n",
      "\n",
      "Cluster 11:\n",
      " xiom\n",
      " vega\n",
      " omega\n",
      " pro\n",
      " europe\n",
      " asia\n",
      " tenergy\n",
      " iv\n",
      " rubbers\n",
      " good\n",
      " better\n",
      " like\n",
      " try\n",
      " really\n",
      " sigma\n",
      " butterfly\n",
      " rubber\n",
      " donic\n",
      " fh\n",
      " think\n",
      "\n",
      "Cluster 12:\n",
      " bh\n",
      " fh\n",
      " rubber\n",
      " turbo\n",
      " good\n",
      " like\n",
      " soft\n",
      " jp\n",
      " used\n",
      " nice\n",
      " hard\n",
      " using\n",
      " 80fx\n",
      " really\n",
      " choice\n",
      " sounds\n",
      " fastarc\n",
      " m1\n",
      " best\n",
      " dhs\n",
      "\n",
      "Cluster 13:\n",
      " tapatalk\n",
      " using\n",
      " sent\n",
      " iphone\n",
      " sm\n",
      " vanaf\n",
      " mijn\n",
      " met\n",
      " verzonden\n",
      " vivo\n",
      " x5max\n",
      " meu\n",
      " l21\n",
      " através\n",
      " ale\n",
      " sponge\n",
      " mx\n",
      " g900f\n",
      " oneplus\n",
      " a6010\n",
      "\n",
      "Cluster 14:\n",
      " nan\n",
      " using\n",
      " bh\n",
      " used\n",
      " xiom\n",
      " hard\n",
      " think\n",
      " good\n",
      " backhand\n",
      " chinese\n",
      " quite\n",
      " make\n",
      " don\n",
      " did\n",
      " el\n",
      " neo\n",
      " version\n",
      " time\n",
      " ok\n",
      " thread\n",
      "\n"
     ]
    }
   ],
   "source": [
    "# get the top 20 terms for each cluster\n",
    "\n",
    "for idx,val in enumerate(cluster_terms):\n",
    "    print(\"Cluster %d:\" % idx)\n",
    "    for ind in val[:20]: # top 20\n",
    "        print(' %s' % ind)\n",
    "    print()"
   ]
  },
  {
   "cell_type": "code",
   "execution_count": 62,
   "metadata": {
    "scrolled": false
   },
   "outputs": [
    {
     "name": "stdout",
     "output_type": "stream",
     "text": [
      "['neo', 'h3', 'commercial', 'sponge', 'boost', 'rubber', 'boosted', 'use', 'hurricane', 'provincial', 'national', 'tg3', 'non', 'rubbers', 'battle', 'china', 'better', 'tacky', 'like', 'blue', 'difference', 'really', 'chinese', 'does', 'dhs', '39', 'using', 'try', 'haifu', 'compare', 'used', 'tg2', 'booster', 'old', 'layers', 'h8', 'h3n', 'player', 'way', 'skyline', 'vega', 'want', '999', 'degree', 'h2', 'whale', 'actually', 'super', 'cnt', 'boosting']\n"
     ]
    }
   ],
   "source": [
    "# to see the top 50 terms in cluster 0\n",
    "print(cluster_terms[0][:50])"
   ]
  },
  {
   "cell_type": "markdown",
   "metadata": {},
   "source": [
    "# PCA first then K-mean"
   ]
  },
  {
   "cell_type": "code",
   "execution_count": 53,
   "metadata": {},
   "outputs": [
    {
     "data": {
      "image/png": "[encoded data removed]",
      "text/plain": [
       "<Figure size 432x288 with 1 Axes>"
      ]
     },
     "metadata": {
      "needs_background": "light"
     },
     "output_type": "display_data"
    }
   ],
   "source": [
    "from sklearn.decomposition import PCA\n",
    "# Create a PCA instance: pca\n",
    "pca = PCA(n_components=20)\n",
    "principalComponents = pca.fit_transform(tf_idf_array)\n",
    "\n",
    "# Plot the explained variances\n",
    "features = range(pca.n_components_)\n",
    "plt.bar(features, pca.explained_variance_ratio_, color='black')\n",
    "plt.xlabel('PCA features')\n",
    "plt.ylabel('variance %')\n",
    "plt.xticks(features)\n",
    "# Save components to a DataFrame\n",
    "PCA_components = pd.DataFrame(principalComponents)\n",
    "\n",
    "# possibly 4/5 pca copmonents?"
   ]
  },
  {
   "cell_type": "code",
   "execution_count": 74,
   "metadata": {},
   "outputs": [
    {
     "data": {
      "text/plain": [
       "Text(0, 0.5, 'PCA 2')"
      ]
     },
     "execution_count": 74,
     "metadata": {},
     "output_type": "execute_result"
    },
    {
     "data": {
      "image/png": "[encoded data removed]",
      "text/plain": [
       "<Figure size 432x288 with 1 Axes>"
      ]
     },
     "metadata": {
      "needs_background": "light"
     },
     "output_type": "display_data"
    }
   ],
   "source": [
    "plt.scatter(PCA_components[0], PCA_components[1], alpha=.1, color='black')\n",
    "plt.xlabel('PCA 1')\n",
    "plt.ylabel('PCA 2')\n",
    "\n",
    "# looking at just the top 2 PCA since can only see 2 in a graph"
   ]
  },
  {
   "cell_type": "code",
   "execution_count": 75,
   "metadata": {},
   "outputs": [
    {
     "data": {
      "image/png": "[encoded data removed]",
      "text/plain": [
       "<Figure size 432x288 with 1 Axes>"
      ]
     },
     "metadata": {
      "needs_background": "light"
     },
     "output_type": "display_data"
    }
   ],
   "source": [
    "pca_n = 5 # only want the first 4 pca comp\n",
    "\n",
    "ks = range(1, 10)\n",
    "inertias = []\n",
    "for k in ks:\n",
    "    # Create a KMeans instance with k clusters: model\n",
    "    model = KMeans(n_clusters=k)\n",
    "    \n",
    "    # Fit model to samples\n",
    "    model.fit(PCA_components.iloc[:,:pca_n]) \n",
    "    \n",
    "    # Append the inertia to the list of inertias\n",
    "    inertias.append(model.inertia_)\n",
    "    \n",
    "plt.plot(ks, inertias, '-o', color='black')\n",
    "plt.xlabel('number of clusters, k')\n",
    "plt.ylabel('inertia')\n",
    "plt.xticks(ks)\n",
    "plt.show()\n",
    "\n",
    "# looks like an elbow of 6"
   ]
  },
  {
   "cell_type": "code",
   "execution_count": 76,
   "metadata": {},
   "outputs": [],
   "source": [
    "pca_n = 5\n",
    "k = 6\n",
    "\n",
    "Y_sklearn = sklearn_pca.fit_transform(PCA_components.iloc[:,:pca_n]) \n",
    "test_e = KMeans(n_clusters=k, init='k-means++', max_iter=100, n_init=1)\n",
    "\n",
    "fitted = test_e.fit(Y_sklearn)\n",
    "predicted_values = test_e.predict(Y_sklearn)\n"
   ]
  },
  {
   "cell_type": "code",
   "execution_count": 77,
   "metadata": {},
   "outputs": [
    {
     "data": {
      "text/plain": [
       "<matplotlib.collections.PathCollection at 0x7f03be9665d0>"
      ]
     },
     "execution_count": 77,
     "metadata": {},
     "output_type": "execute_result"
    },
    {
     "data": {
      "image/png": "[encoded data removed]",
      "text/plain": [
       "<Figure size 432x288 with 1 Axes>"
      ]
     },
     "metadata": {
      "needs_background": "light"
     },
     "output_type": "display_data"
    }
   ],
   "source": [
    "plt.scatter(Y_sklearn[:, 0], Y_sklearn[:, 1], c=predicted_values, s=50, cmap='viridis')"
   ]
  },
  {
   "cell_type": "code",
   "execution_count": null,
   "metadata": {},
   "outputs": [],
   "source": [
    "# but also by reducing the components, cannot see the words anymore"
   ]
  }
 ],
 "metadata": {
  "kernelspec": {
   "display_name": "Python 3",
   "language": "python",
   "name": "python3"
  },
  "language_info": {
   "codemirror_mode": {
    "name": "ipython",
    "version": 3
   },
   "file_extension": ".py",
   "mimetype": "text/x-python",
   "name": "python",
   "nbconvert_exporter": "python",
   "pygments_lexer": "ipython3",
   "version": "3.7.7"
  }
 },
 "nbformat": 4,
 "nbformat_minor": 4
}
