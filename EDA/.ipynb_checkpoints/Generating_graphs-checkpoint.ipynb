{
 "cells": [
  {
   "cell_type": "code",
   "execution_count": 75,
   "metadata": {},
   "outputs": [],
   "source": [
    "import pandas as pd\n",
    "import numpy as np"
   ]
  },
  {
   "cell_type": "code",
   "execution_count": 79,
   "metadata": {},
   "outputs": [
    {
     "data": {
      "text/html": [
       "<div>\n",
       "<style scoped>\n",
       "    .dataframe tbody tr th:only-of-type {\n",
       "        vertical-align: middle;\n",
       "    }\n",
       "\n",
       "    .dataframe tbody tr th {\n",
       "        vertical-align: top;\n",
       "    }\n",
       "\n",
       "    .dataframe thead th {\n",
       "        text-align: right;\n",
       "    }\n",
       "</style>\n",
       "<table border=\"1\" class=\"dataframe\">\n",
       "  <thead>\n",
       "    <tr style=\"text-align: right;\">\n",
       "      <th></th>\n",
       "      <th>id</th>\n",
       "      <th>thread_title</th>\n",
       "      <th>reply_split</th>\n",
       "      <th>classification</th>\n",
       "    </tr>\n",
       "  </thead>\n",
       "  <tbody>\n",
       "    <tr>\n",
       "      <th>0</th>\n",
       "      <td>5f6c219629a893d240caed63</td>\n",
       "      <td>chop vs spin rubber -- which characteristics d...</td>\n",
       "      <td>Going to a club may help...There, seems it's p...</td>\n",
       "      <td>irrelevant</td>\n",
       "    </tr>\n",
       "    <tr>\n",
       "      <th>1</th>\n",
       "      <td>5f6c219629a893d240caed63</td>\n",
       "      <td>chop vs spin rubber -- which characteristics d...</td>\n",
       "      <td>I'd like to make an emphasis on footwork and p...</td>\n",
       "      <td>irrelevant</td>\n",
       "    </tr>\n",
       "    <tr>\n",
       "      <th>2</th>\n",
       "      <td>5f6c219629a893d240caed63</td>\n",
       "      <td>chop vs spin rubber -- which characteristics d...</td>\n",
       "      <td>If they are ''good'' then you can use an ''att...</td>\n",
       "      <td>irrelevant</td>\n",
       "    </tr>\n",
       "    <tr>\n",
       "      <th>3</th>\n",
       "      <td>5f6c219629a893d240caed63</td>\n",
       "      <td>chop vs spin rubber -- which characteristics d...</td>\n",
       "      <td>Rubbers with less rebound are beneficial for c...</td>\n",
       "      <td>irrelevant</td>\n",
       "    </tr>\n",
       "    <tr>\n",
       "      <th>4</th>\n",
       "      <td>5f6c219629a893d240caed63</td>\n",
       "      <td>chop vs spin rubber -- which characteristics d...</td>\n",
       "      <td>Depends how you play and swing.</td>\n",
       "      <td>irrelevant</td>\n",
       "    </tr>\n",
       "  </tbody>\n",
       "</table>\n",
       "</div>"
      ],
      "text/plain": [
       "                         id  \\\n",
       "0  5f6c219629a893d240caed63   \n",
       "1  5f6c219629a893d240caed63   \n",
       "2  5f6c219629a893d240caed63   \n",
       "3  5f6c219629a893d240caed63   \n",
       "4  5f6c219629a893d240caed63   \n",
       "\n",
       "                                        thread_title  \\\n",
       "0  chop vs spin rubber -- which characteristics d...   \n",
       "1  chop vs spin rubber -- which characteristics d...   \n",
       "2  chop vs spin rubber -- which characteristics d...   \n",
       "3  chop vs spin rubber -- which characteristics d...   \n",
       "4  chop vs spin rubber -- which characteristics d...   \n",
       "\n",
       "                                         reply_split classification  \n",
       "0  Going to a club may help...There, seems it's p...     irrelevant  \n",
       "1  I'd like to make an emphasis on footwork and p...     irrelevant  \n",
       "2  If they are ''good'' then you can use an ''att...     irrelevant  \n",
       "3  Rubbers with less rebound are beneficial for c...     irrelevant  \n",
       "4                    Depends how you play and swing.     irrelevant  "
      ]
     },
     "execution_count": 79,
     "metadata": {},
     "output_type": "execute_result"
    }
   ],
   "source": [
    "list1 = pd.read_csv('../Comparison/final_eval_1.csv',index_col=0)\n",
    "list2 = pd.read_csv('../Comparison/Final_eval_2.csv',index_col=0)\n",
    "list3 = pd.read_csv('../Comparison/final_eval_3.csv',index_col=0)\n",
    "sentences_df = pd.concat([list1,list2,list3])\n",
    "sentences_df = sentences_df.dropna()\n",
    "\n",
    "sentences_df = sentences_df.drop(columns=['Unnamed: 0.1'])\n",
    "sentences_df.head()"
   ]
  },
  {
   "cell_type": "code",
   "execution_count": 80,
   "metadata": {},
   "outputs": [
    {
     "data": {
      "text/plain": [
       "array(['irrelevant', 'descriptive', 'comparative'], dtype=object)"
      ]
     },
     "execution_count": 80,
     "metadata": {},
     "output_type": "execute_result"
    }
   ],
   "source": [
    "sentences_df.classification.unique()"
   ]
  },
  {
   "cell_type": "code",
   "execution_count": 86,
   "metadata": {},
   "outputs": [
    {
     "data": {
      "text/plain": [
       "(29509, 4)"
      ]
     },
     "execution_count": 86,
     "metadata": {},
     "output_type": "execute_result"
    }
   ],
   "source": [
    "sentences_df.shape"
   ]
  },
  {
   "cell_type": "code",
   "execution_count": 81,
   "metadata": {},
   "outputs": [],
   "source": [
    "comp_sentences_df = sentences_df[sentences_df['classification']=='comparative']"
   ]
  },
  {
   "cell_type": "code",
   "execution_count": 82,
   "metadata": {},
   "outputs": [
    {
     "data": {
      "text/html": [
       "<div>\n",
       "<style scoped>\n",
       "    .dataframe tbody tr th:only-of-type {\n",
       "        vertical-align: middle;\n",
       "    }\n",
       "\n",
       "    .dataframe tbody tr th {\n",
       "        vertical-align: top;\n",
       "    }\n",
       "\n",
       "    .dataframe thead th {\n",
       "        text-align: right;\n",
       "    }\n",
       "</style>\n",
       "<table border=\"1\" class=\"dataframe\">\n",
       "  <thead>\n",
       "    <tr style=\"text-align: right;\">\n",
       "      <th></th>\n",
       "      <th>id</th>\n",
       "      <th>thread_title</th>\n",
       "      <th>reply_split</th>\n",
       "      <th>classification</th>\n",
       "    </tr>\n",
       "  </thead>\n",
       "  <tbody>\n",
       "    <tr>\n",
       "      <th>52</th>\n",
       "      <td>5f6c21e7035f29fdaf67ffa8</td>\n",
       "      <td>dignics 09c vs dignics 05 review</td>\n",
       "      <td>The Dignics plays better than the silver, thou...</td>\n",
       "      <td>comparative</td>\n",
       "    </tr>\n",
       "    <tr>\n",
       "      <th>70</th>\n",
       "      <td>5f6c21e8035f29fdaf67ffa9</td>\n",
       "      <td>DHS Hurricane 3 Neo 2.15 vs. 2.2</td>\n",
       "      <td>Ordinary H3 turned out to be too slow for me, ...</td>\n",
       "      <td>comparative</td>\n",
       "    </tr>\n",
       "    <tr>\n",
       "      <th>173</th>\n",
       "      <td>5f6c2215035f29fdaf67ffbe</td>\n",
       "      <td>Victas Vs&gt;401</td>\n",
       "      <td>Quite a bit faster and a little less spin.</td>\n",
       "      <td>comparative</td>\n",
       "    </tr>\n",
       "    <tr>\n",
       "      <th>180</th>\n",
       "      <td>5f6c2215035f29fdaf67ffbe</td>\n",
       "      <td>Victas Vs&gt;401</td>\n",
       "      <td>Speed is somewhat comparable to Neo H3, if I r...</td>\n",
       "      <td>comparative</td>\n",
       "    </tr>\n",
       "    <tr>\n",
       "      <th>181</th>\n",
       "      <td>5f6c2215035f29fdaf67ffbe</td>\n",
       "      <td>Victas Vs&gt;401</td>\n",
       "      <td>The 401 is a tiny bit more lively than the usu...</td>\n",
       "      <td>comparative</td>\n",
       "    </tr>\n",
       "  </tbody>\n",
       "</table>\n",
       "</div>"
      ],
      "text/plain": [
       "                           id                      thread_title  \\\n",
       "52   5f6c21e7035f29fdaf67ffa8  dignics 09c vs dignics 05 review   \n",
       "70   5f6c21e8035f29fdaf67ffa9  DHS Hurricane 3 Neo 2.15 vs. 2.2   \n",
       "173  5f6c2215035f29fdaf67ffbe                     Victas Vs>401   \n",
       "180  5f6c2215035f29fdaf67ffbe                     Victas Vs>401   \n",
       "181  5f6c2215035f29fdaf67ffbe                     Victas Vs>401   \n",
       "\n",
       "                                           reply_split classification  \n",
       "52   The Dignics plays better than the silver, thou...    comparative  \n",
       "70   Ordinary H3 turned out to be too slow for me, ...    comparative  \n",
       "173         Quite a bit faster and a little less spin.    comparative  \n",
       "180  Speed is somewhat comparable to Neo H3, if I r...    comparative  \n",
       "181  The 401 is a tiny bit more lively than the usu...    comparative  "
      ]
     },
     "execution_count": 82,
     "metadata": {},
     "output_type": "execute_result"
    }
   ],
   "source": [
    "comp_sentences_df.head()"
   ]
  },
  {
   "cell_type": "code",
   "execution_count": 87,
   "metadata": {},
   "outputs": [
    {
     "data": {
      "text/plain": [
       "(2943, 4)"
      ]
     },
     "execution_count": 87,
     "metadata": {},
     "output_type": "execute_result"
    }
   ],
   "source": [
    "comp_sentences_df.shape"
   ]
  },
  {
   "cell_type": "code",
   "execution_count": 83,
   "metadata": {},
   "outputs": [],
   "source": [
    "# https://pythonprogramming.net/part-of-speech-tagging-nltk-tutorial/"
   ]
  },
  {
   "cell_type": "markdown",
   "metadata": {},
   "source": [
    "- JJ\tadjective\t'big'\n",
    "- JJR\tadjective, comparative\t'bigger'\n",
    "- JJS\tadjective, superlative\t'biggest'\n",
    "\n",
    "\n",
    "- NNP\tproper noun, singular\t'Harrison'\n",
    "- NNPS\tproper noun, plural\t'Americans'\n",
    "\n",
    "- RB\tadverb\tvery, silently,\n",
    "- RBR\tadverb, comparative\tbetter\n",
    "- RBS\tadverb, superlative\tbest"
   ]
  },
  {
   "cell_type": "code",
   "execution_count": 96,
   "metadata": {},
   "outputs": [
    {
     "data": {
      "text/plain": [
       "Text(0, 0.5, 'words')"
      ]
     },
     "execution_count": 96,
     "metadata": {},
     "output_type": "execute_result"
    },
    {
     "data": {
      "image/png": "[encoded data removed]",
      "text/plain": [
       "<Figure size 432x288 with 1 Axes>"
      ]
     },
     "metadata": {
      "needs_background": "light"
     },
     "output_type": "display_data"
    }
   ],
   "source": [
    "import seaborn as sns\n",
    "\n",
    "df_col=comp_sentences_df['reply_split']\n",
    "\n",
    "def get_top_tagged(text,tagged):\n",
    "    adj=[]\n",
    "    pos=nltk.pos_tag(word_tokenize(text))\n",
    "    for word,tag in pos:\n",
    "        if tag==tagged:\n",
    "            adj.append(word)\n",
    "    return adj\n",
    "\n",
    "# NNP\tproper noun, singular\t'Harrison'\n",
    "words=df_col.apply(lambda x : get_top_tagged(x,'NNP'))\n",
    "words=[x for l in words for x in l]\n",
    "counter=Counter(words)\n",
    "\n",
    "x,y=list(map(list,zip(*counter.most_common(20))))\n",
    "\n",
    "#sns.barplot(x=y,y=x,ax=axes[i//2][i%2]).set_title(tagged)\n",
    "sns.barplot(x=y,y=x).set_title('Proper Nouns')\n",
    "plt.xlabel(\"counts\")\n",
    "plt.ylabel(\"words\")"
   ]
  },
  {
   "cell_type": "code",
   "execution_count": 97,
   "metadata": {},
   "outputs": [
    {
     "data": {
      "text/plain": [
       "Text(0, 0.5, 'words')"
      ]
     },
     "execution_count": 97,
     "metadata": {},
     "output_type": "execute_result"
    },
    {
     "data": {
      "image/png": "[encoded data removed]",
      "text/plain": [
       "<Figure size 432x288 with 1 Axes>"
      ]
     },
     "metadata": {
      "needs_background": "light"
     },
     "output_type": "display_data"
    }
   ],
   "source": [
    "\n",
    "def get_top_tagged2(text,tagged1,tagged2):\n",
    "    adj=[]\n",
    "    pos=nltk.pos_tag(word_tokenize(text))\n",
    "    for word,tag in pos:\n",
    "        if tag==tagged1 or tag==tagged2:\n",
    "            adj.append(word)\n",
    "    return adj\n",
    "\n",
    "\n",
    "comp_words=df_col.apply(lambda x : get_top_tagged2(x,'RBR','JJR'))\n",
    "comp_words=[x for l in comp_words for x in l]\n",
    "comp_counter=Counter(comp_words)\n",
    "\n",
    "x2,y2=list(map(list,zip(*comp_counter.most_common(20))))\n",
    "\n",
    "sns.barplot(x=y2,y=x2).set_title('Comparative Verbs')\n",
    "plt.xlabel(\"counts\")\n",
    "plt.ylabel(\"words\")"
   ]
  },
  {
   "cell_type": "code",
   "execution_count": 98,
   "metadata": {},
   "outputs": [],
   "source": [
    "import nltk\n",
    "from nltk.stem import PorterStemmer, WordNetLemmatizer\n",
    "from nltk.corpus import stopwords\n",
    "from nltk.tokenize import sent_tokenize, word_tokenize\n",
    "\n",
    "# from wordcloud import STOPWORDS\n",
    "def get_stopwords():\n",
    "    # stop = set(STOPWORDS)\n",
    "    stop = stopwords.words('english')\n",
    "    custom_words_sen = 'really, like, way, much , still, but, find, need, you, many, lot, always, say, could, well, even, the'\n",
    "\n",
    "    custom_words = custom_words_sen.split(', ')\n",
    "\n",
    "    custom_stop = stop + custom_words\n",
    "    return custom_stop"
   ]
  },
  {
   "cell_type": "code",
   "execution_count": 99,
   "metadata": {},
   "outputs": [],
   "source": [
    "def preprocess_news(df,lowercase=False):\n",
    "    corpus=[]\n",
    "    stem=PorterStemmer()\n",
    "    lem=WordNetLemmatizer()\n",
    "    stop = get_stopwords()\n",
    "    for threads in df:\n",
    "        if lowercase == True:\n",
    "            words=[str.lower(w) for w in word_tokenize(threads) if (w not in stop)]\n",
    "        else:\n",
    "            words=[w for w in word_tokenize(threads) if (w not in stop)]\n",
    "        words=[lem.lemmatize(w) for w in words if len(w)>2]\n",
    "        corpus.append(words)\n",
    "    return corpus\n",
    "\n",
    "corpus_lc = preprocess_news(comp_sentences_df['reply_split'],lowercase=True)"
   ]
  },
  {
   "cell_type": "code",
   "execution_count": 100,
   "metadata": {},
   "outputs": [
    {
     "ename": "TypeError",
     "evalue": "unhashable type: 'list'",
     "output_type": "error",
     "traceback": [
      "\u001b[0;31m---------------------------------------------------------------------------\u001b[0m",
      "\u001b[0;31mTypeError\u001b[0m                                 Traceback (most recent call last)",
      "\u001b[0;32m<ipython-input-100-8f35728c9c1e>\u001b[0m in \u001b[0;36m<module>\u001b[0;34m\u001b[0m\n\u001b[1;32m      4\u001b[0m \u001b[0;32mimport\u001b[0m \u001b[0mseaborn\u001b[0m \u001b[0;32mas\u001b[0m \u001b[0msns\u001b[0m\u001b[0;34m\u001b[0m\u001b[0;34m\u001b[0m\u001b[0m\n\u001b[1;32m      5\u001b[0m \u001b[0;34m\u001b[0m\u001b[0m\n\u001b[0;32m----> 6\u001b[0;31m \u001b[0mcounter\u001b[0m\u001b[0;34m=\u001b[0m\u001b[0mCounter\u001b[0m\u001b[0;34m(\u001b[0m\u001b[0mcorpus_lc\u001b[0m\u001b[0;34m)\u001b[0m\u001b[0;34m\u001b[0m\u001b[0;34m\u001b[0m\u001b[0m\n\u001b[0m\u001b[1;32m      7\u001b[0m \u001b[0mmost\u001b[0m\u001b[0;34m=\u001b[0m\u001b[0mcounter\u001b[0m\u001b[0;34m.\u001b[0m\u001b[0mmost_common\u001b[0m\u001b[0;34m(\u001b[0m\u001b[0;34m)\u001b[0m\u001b[0;34m\u001b[0m\u001b[0;34m\u001b[0m\u001b[0m\n\u001b[1;32m      8\u001b[0m \u001b[0;34m\u001b[0m\u001b[0m\n",
      "\u001b[0;32m~/anaconda3/envs/insight/lib/python3.7/collections/__init__.py\u001b[0m in \u001b[0;36m__init__\u001b[0;34m(*args, **kwds)\u001b[0m\n\u001b[1;32m    566\u001b[0m             \u001b[0;32mraise\u001b[0m \u001b[0mTypeError\u001b[0m\u001b[0;34m(\u001b[0m\u001b[0;34m'expected at most 1 arguments, got %d'\u001b[0m \u001b[0;34m%\u001b[0m \u001b[0mlen\u001b[0m\u001b[0;34m(\u001b[0m\u001b[0margs\u001b[0m\u001b[0;34m)\u001b[0m\u001b[0;34m)\u001b[0m\u001b[0;34m\u001b[0m\u001b[0;34m\u001b[0m\u001b[0m\n\u001b[1;32m    567\u001b[0m         \u001b[0msuper\u001b[0m\u001b[0;34m(\u001b[0m\u001b[0mCounter\u001b[0m\u001b[0;34m,\u001b[0m \u001b[0mself\u001b[0m\u001b[0;34m)\u001b[0m\u001b[0;34m.\u001b[0m\u001b[0m__init__\u001b[0m\u001b[0;34m(\u001b[0m\u001b[0;34m)\u001b[0m\u001b[0;34m\u001b[0m\u001b[0;34m\u001b[0m\u001b[0m\n\u001b[0;32m--> 568\u001b[0;31m         \u001b[0mself\u001b[0m\u001b[0;34m.\u001b[0m\u001b[0mupdate\u001b[0m\u001b[0;34m(\u001b[0m\u001b[0;34m*\u001b[0m\u001b[0margs\u001b[0m\u001b[0;34m,\u001b[0m \u001b[0;34m**\u001b[0m\u001b[0mkwds\u001b[0m\u001b[0;34m)\u001b[0m\u001b[0;34m\u001b[0m\u001b[0;34m\u001b[0m\u001b[0m\n\u001b[0m\u001b[1;32m    569\u001b[0m \u001b[0;34m\u001b[0m\u001b[0m\n\u001b[1;32m    570\u001b[0m     \u001b[0;32mdef\u001b[0m \u001b[0m__missing__\u001b[0m\u001b[0;34m(\u001b[0m\u001b[0mself\u001b[0m\u001b[0;34m,\u001b[0m \u001b[0mkey\u001b[0m\u001b[0;34m)\u001b[0m\u001b[0;34m:\u001b[0m\u001b[0;34m\u001b[0m\u001b[0;34m\u001b[0m\u001b[0m\n",
      "\u001b[0;32m~/anaconda3/envs/insight/lib/python3.7/collections/__init__.py\u001b[0m in \u001b[0;36mupdate\u001b[0;34m(*args, **kwds)\u001b[0m\n\u001b[1;32m    653\u001b[0m                     \u001b[0msuper\u001b[0m\u001b[0;34m(\u001b[0m\u001b[0mCounter\u001b[0m\u001b[0;34m,\u001b[0m \u001b[0mself\u001b[0m\u001b[0;34m)\u001b[0m\u001b[0;34m.\u001b[0m\u001b[0mupdate\u001b[0m\u001b[0;34m(\u001b[0m\u001b[0miterable\u001b[0m\u001b[0;34m)\u001b[0m \u001b[0;31m# fast path when counter is empty\u001b[0m\u001b[0;34m\u001b[0m\u001b[0;34m\u001b[0m\u001b[0m\n\u001b[1;32m    654\u001b[0m             \u001b[0;32melse\u001b[0m\u001b[0;34m:\u001b[0m\u001b[0;34m\u001b[0m\u001b[0;34m\u001b[0m\u001b[0m\n\u001b[0;32m--> 655\u001b[0;31m                 \u001b[0m_count_elements\u001b[0m\u001b[0;34m(\u001b[0m\u001b[0mself\u001b[0m\u001b[0;34m,\u001b[0m \u001b[0miterable\u001b[0m\u001b[0;34m)\u001b[0m\u001b[0;34m\u001b[0m\u001b[0;34m\u001b[0m\u001b[0m\n\u001b[0m\u001b[1;32m    656\u001b[0m         \u001b[0;32mif\u001b[0m \u001b[0mkwds\u001b[0m\u001b[0;34m:\u001b[0m\u001b[0;34m\u001b[0m\u001b[0;34m\u001b[0m\u001b[0m\n\u001b[1;32m    657\u001b[0m             \u001b[0mself\u001b[0m\u001b[0;34m.\u001b[0m\u001b[0mupdate\u001b[0m\u001b[0;34m(\u001b[0m\u001b[0mkwds\u001b[0m\u001b[0;34m)\u001b[0m\u001b[0;34m\u001b[0m\u001b[0;34m\u001b[0m\u001b[0m\n",
      "\u001b[0;31mTypeError\u001b[0m: unhashable type: 'list'"
     ]
    }
   ],
   "source": [
    "# looking at the top word that is NOT a stopword\n",
    "\n",
    "from collections import Counter\n",
    "import seaborn as sns\n",
    "\n",
    "counter=Counter(corpus_lc)\n",
    "most=counter.most_common()\n",
    "\n",
    "x, y= [], []\n",
    "for word,count in most[:100]:\n",
    "    if (word not in custom_stop):\n",
    "        x.append(word)\n",
    "        y.append(count)\n",
    "        \n",
    "plt.figure(figsize=(15,10))\n",
    "ax = sns.barplot(x=y,y=x)"
   ]
  },
  {
   "cell_type": "code",
   "execution_count": null,
   "metadata": {},
   "outputs": [],
   "source": []
  }
 ],
 "metadata": {
  "kernelspec": {
   "display_name": "Python 3",
   "language": "python",
   "name": "python3"
  },
  "language_info": {
   "codemirror_mode": {
    "name": "ipython",
    "version": 3
   },
   "file_extension": ".py",
   "mimetype": "text/x-python",
   "name": "python",
   "nbconvert_exporter": "python",
   "pygments_lexer": "ipython3",
   "version": "3.7.7"
  }
 },
 "nbformat": 4,
 "nbformat_minor": 4
}
