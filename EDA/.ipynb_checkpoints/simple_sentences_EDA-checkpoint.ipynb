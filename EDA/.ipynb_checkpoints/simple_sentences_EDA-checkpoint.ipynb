{
 "cells": [
  {
   "cell_type": "markdown",
   "metadata": {},
   "source": [
    "additional pacakge needed: wordcloud, gensim, seaborn(?), PIL"
   ]
  },
  {
   "cell_type": "markdown",
   "metadata": {},
   "source": [
    "# importing the dataframe"
   ]
  },
  {
   "cell_type": "code",
   "execution_count": 1,
   "metadata": {},
   "outputs": [],
   "source": [
    "import pandas as pd\n",
    "import numpy as np"
   ]
  },
  {
   "cell_type": "code",
   "execution_count": 2,
   "metadata": {},
   "outputs": [],
   "source": [
    "replies_df = pd.read_csv('./replies_df.csv')"
   ]
  },
  {
   "cell_type": "code",
   "execution_count": 3,
   "metadata": {},
   "outputs": [
    {
     "data": {
      "text/html": [
       "<div>\n",
       "<style scoped>\n",
       "    .dataframe tbody tr th:only-of-type {\n",
       "        vertical-align: middle;\n",
       "    }\n",
       "\n",
       "    .dataframe tbody tr th {\n",
       "        vertical-align: top;\n",
       "    }\n",
       "\n",
       "    .dataframe thead th {\n",
       "        text-align: right;\n",
       "    }\n",
       "</style>\n",
       "<table border=\"1\" class=\"dataframe\">\n",
       "  <thead>\n",
       "    <tr style=\"text-align: right;\">\n",
       "      <th></th>\n",
       "      <th>id</th>\n",
       "      <th>thread_title</th>\n",
       "      <th>reply</th>\n",
       "    </tr>\n",
       "  </thead>\n",
       "  <tbody>\n",
       "    <tr>\n",
       "      <th>0</th>\n",
       "      <td>5f686bc7b59794ca78c70902</td>\n",
       "      <td>Tenergy 05FX vs Tenergy 64FX</td>\n",
       "      <td>Hi stao, the response of the T64fx changes dep...</td>\n",
       "    </tr>\n",
       "    <tr>\n",
       "      <th>1</th>\n",
       "      <td>5f686bc8b59794ca78c70903</td>\n",
       "      <td>Butterfly Impartial XS vs 802-40 vs spinlord w...</td>\n",
       "      <td>I'm also interested.</td>\n",
       "    </tr>\n",
       "    <tr>\n",
       "      <th>2</th>\n",
       "      <td>5f686bc8b59794ca78c70903</td>\n",
       "      <td>Butterfly Impartial XS vs 802-40 vs spinlord w...</td>\n",
       "      <td>maybe TTD can start reviewing some sp rubbers?</td>\n",
       "    </tr>\n",
       "    <tr>\n",
       "      <th>3</th>\n",
       "      <td>5f686bc8b59794ca78c70903</td>\n",
       "      <td>Butterfly Impartial XS vs 802-40 vs spinlord w...</td>\n",
       "      <td>I do not know if tabletennisdaily can reiview ...</td>\n",
       "    </tr>\n",
       "    <tr>\n",
       "      <th>4</th>\n",
       "      <td>5f686bc8b59794ca78c70903</td>\n",
       "      <td>Butterfly Impartial XS vs 802-40 vs spinlord w...</td>\n",
       "      <td>I`ve used to play for several months with 802-...</td>\n",
       "    </tr>\n",
       "  </tbody>\n",
       "</table>\n",
       "</div>"
      ],
      "text/plain": [
       "                         id  \\\n",
       "0  5f686bc7b59794ca78c70902   \n",
       "1  5f686bc8b59794ca78c70903   \n",
       "2  5f686bc8b59794ca78c70903   \n",
       "3  5f686bc8b59794ca78c70903   \n",
       "4  5f686bc8b59794ca78c70903   \n",
       "\n",
       "                                        thread_title  \\\n",
       "0                       Tenergy 05FX vs Tenergy 64FX   \n",
       "1  Butterfly Impartial XS vs 802-40 vs spinlord w...   \n",
       "2  Butterfly Impartial XS vs 802-40 vs spinlord w...   \n",
       "3  Butterfly Impartial XS vs 802-40 vs spinlord w...   \n",
       "4  Butterfly Impartial XS vs 802-40 vs spinlord w...   \n",
       "\n",
       "                                               reply  \n",
       "0  Hi stao, the response of the T64fx changes dep...  \n",
       "1                               I'm also interested.  \n",
       "2     maybe TTD can start reviewing some sp rubbers?  \n",
       "3  I do not know if tabletennisdaily can reiview ...  \n",
       "4  I`ve used to play for several months with 802-...  "
      ]
     },
     "execution_count": 3,
     "metadata": {},
     "output_type": "execute_result"
    }
   ],
   "source": [
    "replies_df.head()"
   ]
  },
  {
   "cell_type": "code",
   "execution_count": 4,
   "metadata": {},
   "outputs": [
    {
     "data": {
      "text/plain": [
       "id               0\n",
       "thread_title     0\n",
       "reply           13\n",
       "dtype: int64"
      ]
     },
     "execution_count": 4,
     "metadata": {},
     "output_type": "execute_result"
    }
   ],
   "source": [
    "replies_df.isnull().sum()"
   ]
  },
  {
   "cell_type": "code",
   "execution_count": 5,
   "metadata": {},
   "outputs": [],
   "source": [
    "replies_df = replies_df.dropna()"
   ]
  },
  {
   "cell_type": "code",
   "execution_count": 6,
   "metadata": {},
   "outputs": [
    {
     "data": {
      "text/html": [
       "<div>\n",
       "<style scoped>\n",
       "    .dataframe tbody tr th:only-of-type {\n",
       "        vertical-align: middle;\n",
       "    }\n",
       "\n",
       "    .dataframe tbody tr th {\n",
       "        vertical-align: top;\n",
       "    }\n",
       "\n",
       "    .dataframe thead th {\n",
       "        text-align: right;\n",
       "    }\n",
       "</style>\n",
       "<table border=\"1\" class=\"dataframe\">\n",
       "  <thead>\n",
       "    <tr style=\"text-align: right;\">\n",
       "      <th></th>\n",
       "      <th>id</th>\n",
       "      <th>thread_title</th>\n",
       "      <th>reply</th>\n",
       "    </tr>\n",
       "  </thead>\n",
       "  <tbody>\n",
       "    <tr>\n",
       "      <th>0</th>\n",
       "      <td>5f686bc7b59794ca78c70902</td>\n",
       "      <td>Tenergy 05FX vs Tenergy 64FX</td>\n",
       "      <td>Hi stao, the response of the T64fx changes dep...</td>\n",
       "    </tr>\n",
       "    <tr>\n",
       "      <th>1</th>\n",
       "      <td>5f686bc8b59794ca78c70903</td>\n",
       "      <td>Butterfly Impartial XS vs 802-40 vs spinlord w...</td>\n",
       "      <td>I'm also interested.</td>\n",
       "    </tr>\n",
       "    <tr>\n",
       "      <th>2</th>\n",
       "      <td>5f686bc8b59794ca78c70903</td>\n",
       "      <td>Butterfly Impartial XS vs 802-40 vs spinlord w...</td>\n",
       "      <td>maybe TTD can start reviewing some sp rubbers?</td>\n",
       "    </tr>\n",
       "    <tr>\n",
       "      <th>3</th>\n",
       "      <td>5f686bc8b59794ca78c70903</td>\n",
       "      <td>Butterfly Impartial XS vs 802-40 vs spinlord w...</td>\n",
       "      <td>I do not know if tabletennisdaily can reiview ...</td>\n",
       "    </tr>\n",
       "    <tr>\n",
       "      <th>4</th>\n",
       "      <td>5f686bc8b59794ca78c70903</td>\n",
       "      <td>Butterfly Impartial XS vs 802-40 vs spinlord w...</td>\n",
       "      <td>I`ve used to play for several months with 802-...</td>\n",
       "    </tr>\n",
       "  </tbody>\n",
       "</table>\n",
       "</div>"
      ],
      "text/plain": [
       "                         id  \\\n",
       "0  5f686bc7b59794ca78c70902   \n",
       "1  5f686bc8b59794ca78c70903   \n",
       "2  5f686bc8b59794ca78c70903   \n",
       "3  5f686bc8b59794ca78c70903   \n",
       "4  5f686bc8b59794ca78c70903   \n",
       "\n",
       "                                        thread_title  \\\n",
       "0                       Tenergy 05FX vs Tenergy 64FX   \n",
       "1  Butterfly Impartial XS vs 802-40 vs spinlord w...   \n",
       "2  Butterfly Impartial XS vs 802-40 vs spinlord w...   \n",
       "3  Butterfly Impartial XS vs 802-40 vs spinlord w...   \n",
       "4  Butterfly Impartial XS vs 802-40 vs spinlord w...   \n",
       "\n",
       "                                               reply  \n",
       "0  Hi stao, the response of the T64fx changes dep...  \n",
       "1                               I'm also interested.  \n",
       "2     maybe TTD can start reviewing some sp rubbers?  \n",
       "3  I do not know if tabletennisdaily can reiview ...  \n",
       "4  I`ve used to play for several months with 802-...  "
      ]
     },
     "execution_count": 6,
     "metadata": {},
     "output_type": "execute_result"
    }
   ],
   "source": [
    "replies_df.head()"
   ]
  },
  {
   "cell_type": "code",
   "execution_count": 7,
   "metadata": {},
   "outputs": [],
   "source": [
    "replies_df.to_csv('./replies_df.csv')"
   ]
  },
  {
   "cell_type": "markdown",
   "metadata": {},
   "source": [
    "# counting and most frequency word / bigram / trigram"
   ]
  },
  {
   "cell_type": "code",
   "execution_count": 1,
   "metadata": {},
   "outputs": [],
   "source": [
    "# code modified from this blog:\n",
    "# https://neptune.ai/blog/exploratory-data-analysis-natural-language-processing-tools?utm_source=medium&utm_medium=crosspost&utm_campaign=blog-exploratory-data-analysis-natural-language-processing-tools"
   ]
  },
  {
   "cell_type": "code",
   "execution_count": 7,
   "metadata": {},
   "outputs": [
    {
     "data": {
      "text/plain": [
       "<matplotlib.axes._subplots.AxesSubplot at 0x7f0fd905fe90>"
      ]
     },
     "execution_count": 7,
     "metadata": {},
     "output_type": "execute_result"
    },
    {
     "data": {
      "image/png": "[encoded data removed]",
      "text/plain": [
       "<Figure size 432x288 with 1 Axes>"
      ]
     },
     "metadata": {
      "needs_background": "light"
     },
     "output_type": "display_data"
    }
   ],
   "source": [
    "# how long are each reply(message)\n",
    "replies_df['reply'].str.len().hist(bins=50)"
   ]
  },
  {
   "cell_type": "code",
   "execution_count": 8,
   "metadata": {},
   "outputs": [
    {
     "data": {
      "text/plain": [
       "0       [Hi, stao,, the, response, of, the, T64fx, cha...\n",
       "1                                [I'm, also, interested.]\n",
       "2       [maybe, TTD, can, start, reviewing, some, sp, ...\n",
       "3       [I, do, not, know, if, tabletennisdaily, can, ...\n",
       "4       [I`ve, used, to, play, for, several, months, w...\n",
       "                              ...                        \n",
       "1817    [I'm, pretty, sure, the, Chinese, players, fav...\n",
       "1818    [I, think, the, tenergy, rubber, is, over-rate...\n",
       "1819    [try, haifu, whale, and, shark., they, are, li...\n",
       "1820    [Thanks, for, your, reply!, I've, used, haifu,...\n",
       "1821    [Non-tacky, rubbers, are, better, for, RPB, us...\n",
       "Name: reply, Length: 1809, dtype: object"
      ]
     },
     "execution_count": 8,
     "metadata": {},
     "output_type": "execute_result"
    }
   ],
   "source": [
    "replies_df['reply'].str.split()"
   ]
  },
  {
   "cell_type": "code",
   "execution_count": 9,
   "metadata": {},
   "outputs": [
    {
     "data": {
      "text/plain": [
       "['Hi',\n",
       " 'stao,',\n",
       " 'the',\n",
       " 'response',\n",
       " 'of',\n",
       " 'the',\n",
       " 'T64fx',\n",
       " 'changes',\n",
       " 'depending',\n",
       " 'on',\n",
       " 'the',\n",
       " 'the',\n",
       " 'blade',\n",
       " \"you're\",\n",
       " 'using.',\n",
       " 'Usually',\n",
       " 'I',\n",
       " 'have',\n",
       " 'a',\n",
       " 'Primorac',\n",
       " 'Carbon',\n",
       " 'and',\n",
       " \"I'm\",\n",
       " 'offensive',\n",
       " 'player',\n",
       " 'with',\n",
       " 'agressive',\n",
       " 'top',\n",
       " 'spin.',\n",
       " 'I',\n",
       " 'used',\n",
       " 'T05fx',\n",
       " 'before',\n",
       " 'and',\n",
       " 'I',\n",
       " 'really',\n",
       " 'appreciate',\n",
       " 'the',\n",
       " 'general',\n",
       " 'feeling',\n",
       " 'of',\n",
       " 'the',\n",
       " 'T64fx,',\n",
       " 'which',\n",
       " 'is',\n",
       " 'more',\n",
       " 'softer',\n",
       " 'but',\n",
       " 'faster',\n",
       " 'than',\n",
       " '05fx.',\n",
       " 'On',\n",
       " 'the',\n",
       " 'other',\n",
       " 'hand',\n",
       " 'less',\n",
       " 'spin',\n",
       " 'too.',\n",
       " 'Very',\n",
       " 'good',\n",
       " 'for',\n",
       " 'block.',\n",
       " 'For',\n",
       " 'my',\n",
       " 'style',\n",
       " 'I',\n",
       " 'really',\n",
       " 'prefer',\n",
       " 'T64fx',\n",
       " 'than',\n",
       " 'T05fx',\n",
       " '(',\n",
       " 'always',\n",
       " '2.1',\n",
       " 'for',\n",
       " 'me).I',\n",
       " 'bought',\n",
       " 'recently',\n",
       " 'the',\n",
       " 'complete',\n",
       " 'Garaydia',\n",
       " 'family',\n",
       " 'to',\n",
       " 'see',\n",
       " 'if',\n",
       " 'from',\n",
       " 'the',\n",
       " 'blade',\n",
       " 'I',\n",
       " 'had',\n",
       " 'a',\n",
       " 'possibility',\n",
       " 'to',\n",
       " 'improve',\n",
       " 'my',\n",
       " 'skills',\n",
       " 'and',\n",
       " 'I',\n",
       " 'would',\n",
       " 'say',\n",
       " 'no.With',\n",
       " 'the',\n",
       " 'ALC',\n",
       " 'it',\n",
       " 'is',\n",
       " 'too',\n",
       " 'soft',\n",
       " 'and',\n",
       " 'slow',\n",
       " 'for',\n",
       " 'me,',\n",
       " 'with',\n",
       " 'the',\n",
       " 'T5000',\n",
       " 'too',\n",
       " 'fast',\n",
       " 'and',\n",
       " 'the',\n",
       " 'ZLC',\n",
       " 'has',\n",
       " 'a',\n",
       " 'softer',\n",
       " 'touch',\n",
       " 'and',\n",
       " 'could',\n",
       " 'be',\n",
       " 'an',\n",
       " 'alternative.',\n",
       " \"I'm\",\n",
       " 'truly',\n",
       " 'amazed',\n",
       " 'about',\n",
       " 'the',\n",
       " 'huge',\n",
       " 'difference',\n",
       " 'between',\n",
       " 'those',\n",
       " '3',\n",
       " 'blades.To',\n",
       " 'finish',\n",
       " \"I'm\",\n",
       " 'currently',\n",
       " 'glueing',\n",
       " 'a',\n",
       " 'Dignics',\n",
       " '05',\n",
       " 'on',\n",
       " 'my',\n",
       " 'Primorac',\n",
       " 'carbon',\n",
       " 'to',\n",
       " 'test',\n",
       " 'as',\n",
       " 'the',\n",
       " 'season',\n",
       " 'ended.',\n",
       " 'after',\n",
       " 'a',\n",
       " 'training',\n",
       " \"I'll\",\n",
       " 'see',\n",
       " 'if',\n",
       " 'it',\n",
       " 'fits',\n",
       " 'for',\n",
       " 'me',\n",
       " 'or',\n",
       " 'if',\n",
       " 'I',\n",
       " 'have',\n",
       " 'to',\n",
       " 'test',\n",
       " 'it',\n",
       " 'with',\n",
       " 'the',\n",
       " 'garaydia',\n",
       " 'T5000',\n",
       " 'or',\n",
       " 'Garaydia',\n",
       " 'ZLC',\n",
       " 'as',\n",
       " \"I'm\",\n",
       " 'seeking',\n",
       " 'more',\n",
       " 'spin...']"
      ]
     },
     "execution_count": 9,
     "metadata": {},
     "output_type": "execute_result"
    }
   ],
   "source": [
    "# showing what it would look like if we split the sentences into ind word for each row\n",
    "\n",
    "replies_df['reply'][0].split()"
   ]
  },
  {
   "cell_type": "code",
   "execution_count": 10,
   "metadata": {},
   "outputs": [
    {
     "data": {
      "text/plain": [
       "<matplotlib.axes._subplots.AxesSubplot at 0x7f0fd8cfd890>"
      ]
     },
     "execution_count": 10,
     "metadata": {},
     "output_type": "execute_result"
    },
    {
     "data": {
      "image/png": "[encoded data removed]",
      "text/plain": [
       "<Figure size 432x288 with 1 Axes>"
      ]
     },
     "metadata": {
      "needs_background": "light"
     },
     "output_type": "display_data"
    }
   ],
   "source": [
    "replies_df['reply'].str.split().map(lambda x: np.mean(len(str(x)))).hist(bins=50)\n",
    "\n",
    "\n",
    "# want to count how many words there are on average for each message\n",
    "# but is this right?"
   ]
  },
  {
   "cell_type": "code",
   "execution_count": 13,
   "metadata": {},
   "outputs": [
    {
     "name": "stdout",
     "output_type": "stream",
     "text": [
      "['i', 'me', 'my', 'myself', 'we', 'our', 'ours', 'ourselves', 'you', \"you're\", \"you've\", \"you'll\", \"you'd\", 'your', 'yours', 'yourself', 'yourselves', 'he', 'him', 'his', 'himself', 'she', \"she's\", 'her', 'hers', 'herself', 'it', \"it's\", 'its', 'itself', 'they', 'them', 'their', 'theirs', 'themselves', 'what', 'which', 'who', 'whom', 'this', 'that', \"that'll\", 'these', 'those', 'am', 'is', 'are', 'was', 'were', 'be', 'been', 'being', 'have', 'has', 'had', 'having', 'do', 'does', 'did', 'doing', 'a', 'an', 'the', 'and', 'but', 'if', 'or', 'because', 'as', 'until', 'while', 'of', 'at', 'by', 'for', 'with', 'about', 'against', 'between', 'into', 'through', 'during', 'before', 'after', 'above', 'below', 'to', 'from', 'up', 'down', 'in', 'out', 'on', 'off', 'over', 'under', 'again', 'further', 'then', 'once', 'here', 'there', 'when', 'where', 'why', 'how', 'all', 'any', 'both', 'each', 'few', 'more', 'most', 'other', 'some', 'such', 'no', 'nor', 'not', 'only', 'own', 'same', 'so', 'than', 'too', 'very', 's', 't', 'can', 'will', 'just', 'don', \"don't\", 'should', \"should've\", 'now', 'd', 'll', 'm', 'o', 're', 've', 'y', 'ain', 'aren', \"aren't\", 'couldn', \"couldn't\", 'didn', \"didn't\", 'doesn', \"doesn't\", 'hadn', \"hadn't\", 'hasn', \"hasn't\", 'haven', \"haven't\", 'isn', \"isn't\", 'ma', 'mightn', \"mightn't\", 'mustn', \"mustn't\", 'needn', \"needn't\", 'shan', \"shan't\", 'shouldn', \"shouldn't\", 'wasn', \"wasn't\", 'weren', \"weren't\", 'won', \"won't\", 'wouldn', \"wouldn't\"]\n"
     ]
    }
   ],
   "source": [
    "import nltk\n",
    "from nltk.corpus import stopwords\n",
    "stop = stopwords.words('english')\n",
    "print(stop)\n",
    "\n",
    "# a list of all the stop words"
   ]
  },
  {
   "cell_type": "code",
   "execution_count": 14,
   "metadata": {},
   "outputs": [
    {
     "name": "stdout",
     "output_type": "stream",
     "text": [
      "[['Hi', 'stao,', 'the', 'response', 'of', 'the', 'T64fx', 'changes', 'depending', 'on', 'the', 'the', 'blade', \"you're\", 'using.', 'Usually', 'I', 'have', 'a', 'Primorac', 'Carbon', 'and', \"I'm\", 'offensive', 'player', 'with', 'agressive', 'top', 'spin.', 'I', 'used', 'T05fx', 'before', 'and', 'I', 'really', 'appreciate', 'the', 'general', 'feeling', 'of', 'the', 'T64fx,', 'which', 'is', 'more', 'softer', 'but', 'faster', 'than', '05fx.', 'On', 'the', 'other', 'hand', 'less', 'spin', 'too.', 'Very', 'good', 'for', 'block.', 'For', 'my', 'style', 'I', 'really', 'prefer', 'T64fx', 'than', 'T05fx', '(', 'always', '2.1', 'for', 'me).I', 'bought', 'recently', 'the', 'complete', 'Garaydia', 'family', 'to', 'see', 'if', 'from', 'the', 'blade', 'I', 'had', 'a', 'possibility', 'to', 'improve', 'my', 'skills', 'and', 'I', 'would', 'say', 'no.With', 'the', 'ALC', 'it', 'is', 'too', 'soft', 'and', 'slow', 'for', 'me,', 'with', 'the', 'T5000', 'too', 'fast', 'and', 'the', 'ZLC', 'has', 'a', 'softer', 'touch', 'and', 'could', 'be', 'an', 'alternative.', \"I'm\", 'truly', 'amazed', 'about', 'the', 'huge', 'difference', 'between', 'those', '3', 'blades.To', 'finish', \"I'm\", 'currently', 'glueing', 'a', 'Dignics', '05', 'on', 'my', 'Primorac', 'carbon', 'to', 'test', 'as', 'the', 'season', 'ended.', 'after', 'a', 'training', \"I'll\", 'see', 'if', 'it', 'fits', 'for', 'me', 'or', 'if', 'I', 'have', 'to', 'test', 'it', 'with', 'the', 'garaydia', 'T5000', 'or', 'Garaydia', 'ZLC', 'as', \"I'm\", 'seeking', 'more', 'spin...']]\n"
     ]
    }
   ],
   "source": [
    "threads = replies_df['reply'].str.split()\n",
    "threads = threads.values.tolist()\n",
    "\n",
    "print(threads[:1])"
   ]
  },
  {
   "cell_type": "code",
   "execution_count": 15,
   "metadata": {},
   "outputs": [
    {
     "name": "stdout",
     "output_type": "stream",
     "text": [
      "['hi', 'stao,', 'the', 'response', 'of']\n"
     ]
    }
   ],
   "source": [
    "corpus=[]\n",
    "\n",
    "# let's actually make all word lowercase\n",
    "\n",
    "for thread in threads:\n",
    "    for word in thread:\n",
    "        corpus.append(str.lower(word)) # make lowercase\n",
    "\n",
    "print(corpus[:5])"
   ]
  },
  {
   "cell_type": "code",
   "execution_count": 16,
   "metadata": {},
   "outputs": [],
   "source": [
    "from collections import defaultdict\n",
    "dic=defaultdict(int)\n",
    "for word in corpus:\n",
    "    if word in stop:\n",
    "        dic[word]+=1"
   ]
  },
  {
   "cell_type": "code",
   "execution_count": 17,
   "metadata": {},
   "outputs": [
    {
     "data": {
      "text/plain": [
       "defaultdict(int,\n",
       "            {'the': 3890,\n",
       "             'of': 1289,\n",
       "             'on': 946,\n",
       "             \"you're\": 44,\n",
       "             'i': 2473,\n",
       "             'have': 673,\n",
       "             'a': 2111,\n",
       "             'and': 2338,\n",
       "             'with': 1122,\n",
       "             'before': 46,\n",
       "             'which': 166,\n",
       "             'is': 1936,\n",
       "             'more': 613,\n",
       "             'but': 903,\n",
       "             'than': 405,\n",
       "             'other': 118,\n",
       "             'very': 319,\n",
       "             'for': 1250,\n",
       "             'my': 751,\n",
       "             'to': 2165,\n",
       "             'if': 545,\n",
       "             'from': 398,\n",
       "             'had': 98,\n",
       "             'it': 1424,\n",
       "             'too': 157,\n",
       "             'has': 279,\n",
       "             'be': 525,\n",
       "             'an': 162,\n",
       "             'about': 305,\n",
       "             'between': 70,\n",
       "             'those': 58,\n",
       "             'as': 563,\n",
       "             'after': 104,\n",
       "             'me': 194,\n",
       "             'or': 466,\n",
       "             'can': 396,\n",
       "             'some': 200,\n",
       "             'do': 272,\n",
       "             'not': 580,\n",
       "             'they': 280,\n",
       "             'that': 948,\n",
       "             'how': 179,\n",
       "             'all': 228,\n",
       "             'them': 111,\n",
       "             'are': 641,\n",
       "             'so': 456,\n",
       "             'you': 1496,\n",
       "             'there': 173,\n",
       "             'most': 99,\n",
       "             'will': 347,\n",
       "             'at': 225,\n",
       "             'your': 409,\n",
       "             'both': 202,\n",
       "             'were': 53,\n",
       "             'in': 762,\n",
       "             'this': 332,\n",
       "             'now': 93,\n",
       "             'then': 171,\n",
       "             'same': 140,\n",
       "             \"don't\": 184,\n",
       "             'once': 34,\n",
       "             'by': 104,\n",
       "             'yourself': 10,\n",
       "             'these': 80,\n",
       "             'just': 318,\n",
       "             'what': 296,\n",
       "             'he': 109,\n",
       "             \"won't\": 26,\n",
       "             'each': 21,\n",
       "             'am': 118,\n",
       "             'been': 69,\n",
       "             'should': 132,\n",
       "             'out': 178,\n",
       "             'up': 94,\n",
       "             'off': 67,\n",
       "             'here': 48,\n",
       "             'was': 277,\n",
       "             \"doesn't\": 46,\n",
       "             'only': 158,\n",
       "             'does': 83,\n",
       "             'into': 55,\n",
       "             \"it's\": 204,\n",
       "             'when': 258,\n",
       "             'any': 134,\n",
       "             \"didn't\": 37,\n",
       "             'being': 45,\n",
       "             'why': 98,\n",
       "             'because': 178,\n",
       "             'own': 15,\n",
       "             'no': 130,\n",
       "             'such': 26,\n",
       "             'where': 56,\n",
       "             'his': 42,\n",
       "             'we': 39,\n",
       "             'until': 22,\n",
       "             'over': 72,\n",
       "             'did': 65,\n",
       "             'having': 34,\n",
       "             'against': 19,\n",
       "             'its': 160,\n",
       "             'above': 20,\n",
       "             'while': 56,\n",
       "             'further': 15,\n",
       "             'who': 85,\n",
       "             \"wouldn't\": 16,\n",
       "             'few': 66,\n",
       "             'yours': 2,\n",
       "             'again': 17,\n",
       "             \"haven't\": 38,\n",
       "             \"isn't\": 33,\n",
       "             'm': 62,\n",
       "             's': 20,\n",
       "             'through': 23,\n",
       "             'below': 7,\n",
       "             'down': 25,\n",
       "             'their': 56,\n",
       "             'doing': 25,\n",
       "             'myself': 15,\n",
       "             'him': 15,\n",
       "             'himself': 2,\n",
       "             'itself': 6,\n",
       "             \"aren't\": 18,\n",
       "             'our': 16,\n",
       "             'during': 13,\n",
       "             'nor': 6,\n",
       "             \"couldn't\": 6,\n",
       "             \"you've\": 10,\n",
       "             \"you'd\": 1,\n",
       "             \"you'll\": 19,\n",
       "             \"wasn't\": 4,\n",
       "             \"shouldn't\": 6,\n",
       "             'ma': 10,\n",
       "             \"weren't\": 3,\n",
       "             'under': 17,\n",
       "             'd': 7,\n",
       "             'themselves': 4,\n",
       "             't': 2,\n",
       "             \"hadn't\": 1,\n",
       "             \"should've\": 1,\n",
       "             'won': 3,\n",
       "             'y': 1,\n",
       "             'she': 1,\n",
       "             're': 2,\n",
       "             \"she's\": 1})"
      ]
     },
     "execution_count": 17,
     "metadata": {},
     "output_type": "execute_result"
    }
   ],
   "source": [
    "dic"
   ]
  },
  {
   "cell_type": "code",
   "execution_count": 18,
   "metadata": {},
   "outputs": [
    {
     "data": {
      "text/plain": [
       "<BarContainer object of 10 artists>"
      ]
     },
     "execution_count": 18,
     "metadata": {},
     "output_type": "execute_result"
    },
    {
     "data": {
      "image/png": "[encoded data removed]",
      "text/plain": [
       "<Figure size 432x288 with 1 Axes>"
      ]
     },
     "metadata": {
      "needs_background": "light"
     },
     "output_type": "display_data"
    }
   ],
   "source": [
    "# looking at the top stop words\n",
    "\n",
    "import matplotlib.pyplot as plt\n",
    "\n",
    "top=sorted(dic.items(), key=lambda x:x[1],reverse=True)[:10] \n",
    "x,y=zip(*top)\n",
    "plt.bar(x,y)"
   ]
  },
  {
   "cell_type": "code",
   "execution_count": 19,
   "metadata": {},
   "outputs": [],
   "source": [
    "# looking at the top word that is NOT a stopword\n",
    "\n",
    "from collections import Counter\n",
    "import seaborn as sns\n",
    "\n",
    "counter=Counter(corpus)\n",
    "most=counter.most_common()\n",
    "\n",
    "x, y= [], []\n",
    "for word,count in most[:100]:\n",
    "    if (word not in stop):\n",
    "        x.append(word)\n",
    "        y.append(count)"
   ]
  },
  {
   "cell_type": "code",
   "execution_count": 20,
   "metadata": {},
   "outputs": [
    {
     "data": {
      "image/png": "[encoded data removed]",
      "text/plain": [
       "<Figure size 1080x720 with 1 Axes>"
      ]
     },
     "metadata": {
      "needs_background": "light"
     },
     "output_type": "display_data"
    }
   ],
   "source": [
    "plt.figure(figsize=(15,10))\n",
    "ax = sns.barplot(x=y,y=x)"
   ]
  },
  {
   "cell_type": "code",
   "execution_count": 21,
   "metadata": {},
   "outputs": [],
   "source": [
    "from sklearn.feature_extraction.text import CountVectorizer\n",
    "\n",
    "def get_top_ngram(corpus=replies_df['reply'], n=None):\n",
    "    vec = CountVectorizer(ngram_range=(n, n)).fit(corpus)\n",
    "    bag_of_words = vec.transform(corpus)\n",
    "    sum_words = bag_of_words.sum(axis=0) \n",
    "    words_freq = [(word, sum_words[0, idx]) \n",
    "                  for word, idx in vec.vocabulary_.items()]\n",
    "    words_freq =sorted(words_freq, key = lambda x: x[1], reverse=True)\n",
    "    return words_freq[:50]"
   ]
  },
  {
   "cell_type": "code",
   "execution_count": 22,
   "metadata": {},
   "outputs": [
    {
     "data": {
      "text/plain": [
       "<matplotlib.axes._subplots.AxesSubplot at 0x7f65f5f28210>"
      ]
     },
     "execution_count": 22,
     "metadata": {},
     "output_type": "execute_result"
    },
    {
     "data": {
      "image/png": "[encoded data removed]",
      "text/plain": [
       "<Figure size 432x288 with 1 Axes>"
      ]
     },
     "metadata": {
      "needs_background": "light"
     },
     "output_type": "display_data"
    }
   ],
   "source": [
    "# looking at top bigram\n",
    "\n",
    "top_n_bigrams=get_top_ngram(replies_df['reply'],2)[:20]\n",
    "x,y=map(list,zip(*top_n_bigrams))\n",
    "sns.barplot(x=y,y=x)"
   ]
  },
  {
   "cell_type": "code",
   "execution_count": 23,
   "metadata": {},
   "outputs": [
    {
     "data": {
      "text/plain": [
       "<matplotlib.axes._subplots.AxesSubplot at 0x7f65f5fe8a90>"
      ]
     },
     "execution_count": 23,
     "metadata": {},
     "output_type": "execute_result"
    },
    {
     "data": {
      "image/png": "[encoded data removed]",
      "text/plain": [
       "<Figure size 432x288 with 1 Axes>"
      ]
     },
     "metadata": {
      "needs_background": "light"
     },
     "output_type": "display_data"
    }
   ],
   "source": [
    "# looking at top trigram\n",
    "\n",
    "top_tri_grams=get_top_ngram(replies_df['reply'],3)[:20]\n",
    "x,y=map(list,zip(*top_tri_grams))\n",
    "sns.barplot(x=y,y=x)"
   ]
  },
  {
   "cell_type": "markdown",
   "metadata": {},
   "source": [
    "# LDA"
   ]
  },
  {
   "cell_type": "code",
   "execution_count": 34,
   "metadata": {},
   "outputs": [],
   "source": [
    "import nltk\n",
    "from nltk.stem import PorterStemmer, WordNetLemmatizer\n",
    "from nltk.tokenize import sent_tokenize, word_tokenize\n",
    "# from wordcloud import STOPWORDS\n",
    "def get_stopwords():\n",
    "    # stop = set(STOPWORDS)\n",
    "    stop = stopwords.words('english')\n",
    "    custom_words_sen = 'really, like, way, much , still, but, find, need, you, many, lot, always, say, could, well, even, the'\n",
    "\n",
    "    custom_words = custom_words_sen.split(', ')\n",
    "\n",
    "    custom_stop = stop + custom_words\n",
    "    return custom_stop"
   ]
  },
  {
   "cell_type": "code",
   "execution_count": 37,
   "metadata": {},
   "outputs": [],
   "source": [
    "def preprocess_news(df,lowercase=False):\n",
    "    corpus=[]\n",
    "    stem=PorterStemmer()\n",
    "    lem=WordNetLemmatizer()\n",
    "    stop = get_stopwords()\n",
    "    for threads in replies_df['reply']:\n",
    "        if lowercase == True:\n",
    "            words=[str.lower(w) for w in word_tokenize(threads) if (w not in stop)]\n",
    "        else:\n",
    "            words=[w for w in word_tokenize(threads) if (w not in stop)]\n",
    "        words=[lem.lemmatize(w) for w in words if len(w)>2]\n",
    "        corpus.append(words)\n",
    "    return corpus\n",
    "\n",
    "corpus=preprocess_news(replies_df)"
   ]
  },
  {
   "cell_type": "code",
   "execution_count": 38,
   "metadata": {},
   "outputs": [
    {
     "data": {
      "text/plain": [
       "[['stao',\n",
       "  'response',\n",
       "  'T64fx',\n",
       "  'change',\n",
       "  'depending',\n",
       "  'blade',\n",
       "  \"'re\",\n",
       "  'using',\n",
       "  'Usually',\n",
       "  'Primorac',\n",
       "  'Carbon',\n",
       "  'offensive',\n",
       "  'player',\n",
       "  'agressive',\n",
       "  'top',\n",
       "  'spin',\n",
       "  'used',\n",
       "  'T05fx',\n",
       "  'appreciate',\n",
       "  'general',\n",
       "  'feeling',\n",
       "  'T64fx',\n",
       "  'softer',\n",
       "  'faster',\n",
       "  '05fx',\n",
       "  'hand',\n",
       "  'le',\n",
       "  'spin',\n",
       "  'Very',\n",
       "  'good',\n",
       "  'block',\n",
       "  'For',\n",
       "  'style',\n",
       "  'prefer',\n",
       "  'T64fx',\n",
       "  'T05fx',\n",
       "  '2.1',\n",
       "  'bought',\n",
       "  'recently',\n",
       "  'complete',\n",
       "  'Garaydia',\n",
       "  'family',\n",
       "  'see',\n",
       "  'blade',\n",
       "  'possibility',\n",
       "  'improve',\n",
       "  'skill',\n",
       "  'would',\n",
       "  'no.With',\n",
       "  'ALC',\n",
       "  'soft',\n",
       "  'slow',\n",
       "  'T5000',\n",
       "  'fast',\n",
       "  'ZLC',\n",
       "  'softer',\n",
       "  'touch',\n",
       "  'alternative',\n",
       "  'truly',\n",
       "  'amazed',\n",
       "  'huge',\n",
       "  'difference',\n",
       "  'blades.To',\n",
       "  'finish',\n",
       "  'currently',\n",
       "  'glueing',\n",
       "  'Dignics',\n",
       "  'Primorac',\n",
       "  'carbon',\n",
       "  'test',\n",
       "  'season',\n",
       "  'ended',\n",
       "  'training',\n",
       "  \"'ll\",\n",
       "  'see',\n",
       "  'fit',\n",
       "  'test',\n",
       "  'garaydia',\n",
       "  'T5000',\n",
       "  'Garaydia',\n",
       "  'ZLC',\n",
       "  'seeking',\n",
       "  'spin',\n",
       "  '...']]"
      ]
     },
     "execution_count": 38,
     "metadata": {},
     "output_type": "execute_result"
    }
   ],
   "source": [
    "corpus[:1]"
   ]
  },
  {
   "cell_type": "code",
   "execution_count": 27,
   "metadata": {
    "scrolled": true
   },
   "outputs": [],
   "source": [
    "import gensim\n",
    "dic=gensim.corpora.Dictionary(corpus)\n",
    "bow_corpus = [dic.doc2bow(doc) for doc in corpus]"
   ]
  },
  {
   "cell_type": "code",
   "execution_count": 28,
   "metadata": {},
   "outputs": [
    {
     "data": {
      "text/plain": [
       "[(0,\n",
       "  '0.016*\"rubber\" + 0.010*\"would\" + 0.009*\"like\" + 0.008*\"Xiom\" + 0.008*\"Vega\" + 0.007*\"Pro\" + 0.006*\"blade\" + 0.006*\"Omega\" + 0.006*\"get\" + 0.005*\"one\"'),\n",
       " (1,\n",
       "  '0.029*\"rubber\" + 0.014*\"n\\'t\" + 0.011*\"like\" + 0.008*\"blade\" + 0.007*\"good\" + 0.007*\"using\" + 0.007*\"use\" + 0.007*\"Tenergy\" + 0.007*\"would\" + 0.006*\"spin\"'),\n",
       " (2,\n",
       "  '0.025*\"rubber\" + 0.015*\"like\" + 0.010*\"good\" + 0.008*\"spin\" + 0.007*\"ball\" + 0.007*\"really\" + 0.006*\"better\" + 0.006*\"play\" + 0.006*\"would\" + 0.006*\"sponge\"'),\n",
       " (3,\n",
       "  '0.036*\"rubber\" + 0.009*\"spin\" + 0.009*\"sponge\" + 0.007*\"ball\" + 0.007*\"play\" + 0.007*\"good\" + 0.006*\"n\\'t\" + 0.006*\"much\" + 0.006*\"better\" + 0.006*\"use\"')]"
      ]
     },
     "execution_count": 28,
     "metadata": {},
     "output_type": "execute_result"
    }
   ],
   "source": [
    "lda_model = gensim.models.LdaMulticore(bow_corpus, \n",
    "                                   num_topics = 4, \n",
    "                                   id2word = dic,                                    \n",
    "                                   passes = 10,\n",
    "                                   workers = 2)\n",
    "lda_model.show_topics()"
   ]
  },
  {
   "cell_type": "markdown",
   "metadata": {},
   "source": [
    "- not sure how helpful LDA is"
   ]
  },
  {
   "cell_type": "markdown",
   "metadata": {},
   "source": [
    "# Wordcloud"
   ]
  },
  {
   "cell_type": "code",
   "execution_count": 33,
   "metadata": {},
   "outputs": [],
   "source": [
    "from wordcloud import WordCloud"
   ]
  },
  {
   "cell_type": "code",
   "execution_count": null,
   "metadata": {},
   "outputs": [],
   "source": [
    "# see LDA session for the preprocess_news function - basically some stemming and lemmitization\n",
    "\n",
    "corpus_normal =preprocess_news(replies_df, lowercase = False)\n",
    "corpus_lowercase =preprocess_news(replies_df, lowercase = True)"
   ]
  },
  {
   "cell_type": "code",
   "execution_count": null,
   "metadata": {},
   "outputs": [],
   "source": [
    "from PIL import Image\n",
    "import numpy as np"
   ]
  },
  {
   "cell_type": "code",
   "execution_count": null,
   "metadata": {},
   "outputs": [],
   "source": [
    "# https://towardsdatascience.com/create-word-cloud-into-any-shape-you-want-using-python-d0b88834bc32\n",
    "# code modified from blog above for customizing wordcloud\n",
    "\n",
    "mask = np.array(Image.open('./imgs/ping_pong_paddle.jpg'))\n",
    "\n",
    "\n",
    "def show_wordcloud_custom_shape(data,n_max_words=100,img_mask = []):\n",
    "    if len(img_mask) == 0:\n",
    "        wordcloud = WordCloud(\n",
    "            background_color='white',\n",
    "            stopwords=stop, #stopwords = set(STOPWORDS)\n",
    "            max_words=n_max_words,\n",
    "            max_font_size=30,\n",
    "            scale=3,\n",
    "            random_state=1)\n",
    "    else:\n",
    "        wordcloud = WordCloud(\n",
    "            background_color='white',\n",
    "            stopwords=stop,\n",
    "            max_words=n_max_words,\n",
    "            max_font_size=30,\n",
    "            scale=3,\n",
    "            random_state=1,mask=img_mask,\n",
    "            width=mask.shape[1],\n",
    "            height=mask.shape[0])\n",
    "   \n",
    "    wordcloud=wordcloud.generate(str(data))\n",
    "\n",
    "    fig = plt.figure(1, figsize=(12, 12))\n",
    "    plt.axis('off')\n",
    "\n",
    "    plt.imshow(wordcloud)\n",
    "    plt.show()\n",
    "    \n"
   ]
  },
  {
   "cell_type": "code",
   "execution_count": null,
   "metadata": {},
   "outputs": [],
   "source": [
    "show_wordcloud_custom_shape(corpus_lowercase,500,mask)"
   ]
  },
  {
   "cell_type": "code",
   "execution_count": null,
   "metadata": {},
   "outputs": [],
   "source": [
    "show_wordcloud_custom_shape(corpus_lowercase,500)"
   ]
  },
  {
   "cell_type": "code",
   "execution_count": null,
   "metadata": {},
   "outputs": [],
   "source": [
    "print(stop)"
   ]
  },
  {
   "cell_type": "code",
   "execution_count": null,
   "metadata": {},
   "outputs": [],
   "source": [
    "mask = np.array(Image.open('./imgs/ping_pong_paddle_2.jpg'))\n",
    "\n",
    "\n",
    "# red color scheme\n",
    "\n",
    "def similar_color_func(word=None, font_size=None,\n",
    "                       position=None, orientation=None,\n",
    "                       font_path=None, random_state=None):\n",
    "    h = 0 # 0 - 360\n",
    "    s = 100 # 0 - 100\n",
    "    l = random_state.randint(30, 80) # 0 - 100\n",
    "    return \"hsl({}, {}%, {}%)\".format(h, s, l)\n",
    "\n",
    "data = corpus_lowercase\n",
    "n_max_words = 300\n",
    "img_mask = mask\n",
    "\n",
    "wordcloud = WordCloud(\n",
    "            background_color='white',\n",
    "            stopwords=custom_stop,\n",
    "            max_words=n_max_words,\n",
    "            max_font_size=120,\n",
    "            scale=5,\n",
    "            random_state=1,\n",
    "            mask=img_mask,\n",
    "            width=mask.shape[1],\n",
    "            height=mask.shape[0],\n",
    "            color_func=similar_color_func)\n",
    "   \n",
    "wordcloud=wordcloud.generate(str(data))\n",
    "\n",
    "fig = plt.figure(1, figsize=(12, 12))\n",
    "plt.axis('off')\n",
    "\n",
    "plt.imshow(wordcloud)\n",
    "plt.show()"
   ]
  },
  {
   "cell_type": "code",
   "execution_count": null,
   "metadata": {},
   "outputs": [],
   "source": [
    "# black color scheme\n",
    "\n",
    "def similar_color_func(word=None, font_size=None,\n",
    "                       position=None, orientation=None,\n",
    "                       font_path=None, random_state=None):\n",
    "    h = 0 # 0 - 360\n",
    "    s = 0 # 0 - 100\n",
    "    l = random_state.randint(30, 80) # 0 - 100\n",
    "    return \"hsl({}, {}%, {}%)\".format(h, s, l)\n",
    "\n",
    "data = corpus_lowercase\n",
    "n_max_words = 300\n",
    "img_mask = mask\n",
    "\n",
    "wordcloud = WordCloud(\n",
    "            background_color='white',\n",
    "            stopwords=custom_stop,\n",
    "            max_words=n_max_words,\n",
    "            max_font_size=120,\n",
    "            scale=5,\n",
    "            random_state=1,\n",
    "            mask=img_mask,\n",
    "            width=mask.shape[1],\n",
    "            height=mask.shape[0],\n",
    "            color_func=similar_color_func)\n",
    "   \n",
    "wordcloud=wordcloud.generate(str(data))\n",
    "\n",
    "fig = plt.figure(1, figsize=(12, 12))\n",
    "plt.axis('off')\n",
    "\n",
    "plt.imshow(wordcloud)\n",
    "plt.show()"
   ]
  },
  {
   "cell_type": "code",
   "execution_count": null,
   "metadata": {},
   "outputs": [],
   "source": []
  }
 ],
 "metadata": {
  "kernelspec": {
   "display_name": "Python 3",
   "language": "python",
   "name": "python3"
  },
  "language_info": {
   "codemirror_mode": {
    "name": "ipython",
    "version": 3
   },
   "file_extension": ".py",
   "mimetype": "text/x-python",
   "name": "python",
   "nbconvert_exporter": "python",
   "pygments_lexer": "ipython3",
   "version": "3.7.7"
  }
 },
 "nbformat": 4,
 "nbformat_minor": 4
}
