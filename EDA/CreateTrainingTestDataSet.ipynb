{
 "cells": [
  {
   "cell_type": "code",
   "execution_count": 50,
   "metadata": {},
   "outputs": [
    {
     "data": {
      "text/html": [
       "<div>\n",
       "<style scoped>\n",
       "    .dataframe tbody tr th:only-of-type {\n",
       "        vertical-align: middle;\n",
       "    }\n",
       "\n",
       "    .dataframe tbody tr th {\n",
       "        vertical-align: top;\n",
       "    }\n",
       "\n",
       "    .dataframe thead th {\n",
       "        text-align: right;\n",
       "    }\n",
       "</style>\n",
       "<table border=\"1\" class=\"dataframe\">\n",
       "  <thead>\n",
       "    <tr style=\"text-align: right;\">\n",
       "      <th></th>\n",
       "      <th>id</th>\n",
       "      <th>thread_title</th>\n",
       "      <th>reply_split</th>\n",
       "      <th>classification</th>\n",
       "    </tr>\n",
       "  </thead>\n",
       "  <tbody>\n",
       "    <tr>\n",
       "      <th>0</th>\n",
       "      <td>5f686bc7b59794ca78c70902</td>\n",
       "      <td>Tenergy 05FX vs Tenergy 64FX</td>\n",
       "      <td>Hi stao, the response of the T64fx changes dep...</td>\n",
       "      <td>0</td>\n",
       "    </tr>\n",
       "    <tr>\n",
       "      <th>1</th>\n",
       "      <td>5f686bc7b59794ca78c70902</td>\n",
       "      <td>Tenergy 05FX vs Tenergy 64FX</td>\n",
       "      <td>Usually I have a Primorac Carbon and I'm offen...</td>\n",
       "      <td>0</td>\n",
       "    </tr>\n",
       "    <tr>\n",
       "      <th>2</th>\n",
       "      <td>5f686bc7b59794ca78c70902</td>\n",
       "      <td>Tenergy 05FX vs Tenergy 64FX</td>\n",
       "      <td>I used T05fx before and I really appreciate th...</td>\n",
       "      <td>1</td>\n",
       "    </tr>\n",
       "    <tr>\n",
       "      <th>3</th>\n",
       "      <td>5f686bc7b59794ca78c70902</td>\n",
       "      <td>Tenergy 05FX vs Tenergy 64FX</td>\n",
       "      <td>On the other hand less spin too.</td>\n",
       "      <td>2</td>\n",
       "    </tr>\n",
       "    <tr>\n",
       "      <th>4</th>\n",
       "      <td>5f686bc7b59794ca78c70902</td>\n",
       "      <td>Tenergy 05FX vs Tenergy 64FX</td>\n",
       "      <td>Very good for block.</td>\n",
       "      <td>4</td>\n",
       "    </tr>\n",
       "  </tbody>\n",
       "</table>\n",
       "</div>"
      ],
      "text/plain": [
       "                         id                  thread_title  \\\n",
       "0  5f686bc7b59794ca78c70902  Tenergy 05FX vs Tenergy 64FX   \n",
       "1  5f686bc7b59794ca78c70902  Tenergy 05FX vs Tenergy 64FX   \n",
       "2  5f686bc7b59794ca78c70902  Tenergy 05FX vs Tenergy 64FX   \n",
       "3  5f686bc7b59794ca78c70902  Tenergy 05FX vs Tenergy 64FX   \n",
       "4  5f686bc7b59794ca78c70902  Tenergy 05FX vs Tenergy 64FX   \n",
       "\n",
       "                                         reply_split  classification  \n",
       "0  Hi stao, the response of the T64fx changes dep...               0  \n",
       "1  Usually I have a Primorac Carbon and I'm offen...               0  \n",
       "2  I used T05fx before and I really appreciate th...               1  \n",
       "3                   On the other hand less spin too.               2  \n",
       "4                               Very good for block.               4  "
      ]
     },
     "execution_count": 50,
     "metadata": {},
     "output_type": "execute_result"
    }
   ],
   "source": [
    "import pandas as pd\n",
    "\n",
    "df1 = pd.read_csv('labels0.csv',index_col=0)\n",
    "df2 = pd.read_csv('and_or_labels0.csv',index_col=0)\n",
    "\n",
    "df = pd.concat([df1,df2])\n",
    "df.head()"
   ]
  },
  {
   "cell_type": "code",
   "execution_count": 58,
   "metadata": {},
   "outputs": [],
   "source": [
    "df[df.classification==-2] = -1\n",
    "df[df.classification==5] = -1"
   ]
  },
  {
   "cell_type": "code",
   "execution_count": 59,
   "metadata": {},
   "outputs": [
    {
     "data": {
      "text/html": [
       "<div>\n",
       "<style scoped>\n",
       "    .dataframe tbody tr th:only-of-type {\n",
       "        vertical-align: middle;\n",
       "    }\n",
       "\n",
       "    .dataframe tbody tr th {\n",
       "        vertical-align: top;\n",
       "    }\n",
       "\n",
       "    .dataframe thead th {\n",
       "        text-align: right;\n",
       "    }\n",
       "</style>\n",
       "<table border=\"1\" class=\"dataframe\">\n",
       "  <thead>\n",
       "    <tr style=\"text-align: right;\">\n",
       "      <th></th>\n",
       "      <th>id</th>\n",
       "      <th>thread_title</th>\n",
       "      <th>reply_split</th>\n",
       "      <th>classification</th>\n",
       "    </tr>\n",
       "  </thead>\n",
       "  <tbody>\n",
       "    <tr>\n",
       "      <th>0</th>\n",
       "      <td>5f686bc7b59794ca78c70902</td>\n",
       "      <td>Tenergy 05FX vs Tenergy 64FX</td>\n",
       "      <td>Hi stao, the response of the T64fx changes dep...</td>\n",
       "      <td>0</td>\n",
       "    </tr>\n",
       "    <tr>\n",
       "      <th>1</th>\n",
       "      <td>5f686bc7b59794ca78c70902</td>\n",
       "      <td>Tenergy 05FX vs Tenergy 64FX</td>\n",
       "      <td>Usually I have a Primorac Carbon and I'm offen...</td>\n",
       "      <td>0</td>\n",
       "    </tr>\n",
       "    <tr>\n",
       "      <th>2</th>\n",
       "      <td>5f686bc7b59794ca78c70902</td>\n",
       "      <td>Tenergy 05FX vs Tenergy 64FX</td>\n",
       "      <td>I used T05fx before and I really appreciate th...</td>\n",
       "      <td>1</td>\n",
       "    </tr>\n",
       "    <tr>\n",
       "      <th>3</th>\n",
       "      <td>5f686bc7b59794ca78c70902</td>\n",
       "      <td>Tenergy 05FX vs Tenergy 64FX</td>\n",
       "      <td>On the other hand less spin too.</td>\n",
       "      <td>2</td>\n",
       "    </tr>\n",
       "    <tr>\n",
       "      <th>4</th>\n",
       "      <td>5f686bc7b59794ca78c70902</td>\n",
       "      <td>Tenergy 05FX vs Tenergy 64FX</td>\n",
       "      <td>Very good for block.</td>\n",
       "      <td>4</td>\n",
       "    </tr>\n",
       "  </tbody>\n",
       "</table>\n",
       "</div>"
      ],
      "text/plain": [
       "                         id                  thread_title  \\\n",
       "0  5f686bc7b59794ca78c70902  Tenergy 05FX vs Tenergy 64FX   \n",
       "1  5f686bc7b59794ca78c70902  Tenergy 05FX vs Tenergy 64FX   \n",
       "2  5f686bc7b59794ca78c70902  Tenergy 05FX vs Tenergy 64FX   \n",
       "3  5f686bc7b59794ca78c70902  Tenergy 05FX vs Tenergy 64FX   \n",
       "4  5f686bc7b59794ca78c70902  Tenergy 05FX vs Tenergy 64FX   \n",
       "\n",
       "                                         reply_split  classification  \n",
       "0  Hi stao, the response of the T64fx changes dep...               0  \n",
       "1  Usually I have a Primorac Carbon and I'm offen...               0  \n",
       "2  I used T05fx before and I really appreciate th...               1  \n",
       "3                   On the other hand less spin too.               2  \n",
       "4                               Very good for block.               4  "
      ]
     },
     "execution_count": 59,
     "metadata": {},
     "output_type": "execute_result"
    }
   ],
   "source": [
    "df_labelled = df[df.classification != -1]\n",
    "df_labelled.head()"
   ]
  },
  {
   "cell_type": "code",
   "execution_count": 80,
   "metadata": {},
   "outputs": [],
   "source": [
    "from sklearn.model_selection import train_test_split\n",
    "\n",
    "x_train, x_test, y_train, y_test = train_test_split(df_labelled.reply_split, df_labelled.classification, test_size=0.2, stratify=df_labelled.classification)"
   ]
  },
  {
   "cell_type": "code",
   "execution_count": 81,
   "metadata": {},
   "outputs": [],
   "source": [
    "df_train = pd.DataFrame()\n",
    "df_train['reply_split'] = x_train\n",
    "df_train['classification'] = y_train\n",
    "\n",
    "df_test = pd.DataFrame()\n",
    "df_test['reply_split'] = x_test\n",
    "df_test['classification'] = y_test"
   ]
  },
  {
   "cell_type": "code",
   "execution_count": 83,
   "metadata": {},
   "outputs": [
    {
     "name": "stdout",
     "output_type": "stream",
     "text": [
      "Counter({0: 1624, 3: 171, 2: 156, 1: 132, 4: 97})\n",
      "Counter({0: 407, 3: 43, 2: 39, 1: 33, 4: 24})\n"
     ]
    }
   ],
   "source": [
    "from collections import Counter\n",
    "print(Counter(y_train))\n",
    "print(Counter(y_test))"
   ]
  },
  {
   "cell_type": "code",
   "execution_count": 84,
   "metadata": {},
   "outputs": [],
   "source": [
    "df_train.to_csv('roberta_training.csv')\n",
    "df_test.to_csv('roberta_testing.csv')"
   ]
  },
  {
   "cell_type": "code",
   "execution_count": null,
   "metadata": {},
   "outputs": [],
   "source": []
  }
 ],
 "metadata": {
  "kernelspec": {
   "display_name": "Python 3",
   "language": "python",
   "name": "python3"
  },
  "language_info": {
   "codemirror_mode": {
    "name": "ipython",
    "version": 3
   },
   "file_extension": ".py",
   "mimetype": "text/x-python",
   "name": "python",
   "nbconvert_exporter": "python",
   "pygments_lexer": "ipython3",
   "version": "3.6.7"
  }
 },
 "nbformat": 4,
 "nbformat_minor": 2
}
