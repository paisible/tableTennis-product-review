{
 "cells": [
  {
   "cell_type": "markdown",
   "metadata": {},
   "source": [
    "### How to generate wordclouds for different brands using different modules"
   ]
  },
  {
   "cell_type": "code",
   "execution_count": 1,
   "metadata": {},
   "outputs": [],
   "source": [
    "%load_ext autoreload\n",
    "%autoreload 2"
   ]
  },
  {
   "cell_type": "code",
   "execution_count": 2,
   "metadata": {},
   "outputs": [],
   "source": [
    "import sys\n",
    "sys.path.append('../')\n",
    "from common import connectMongo\n",
    "from common import getData\n",
    "from viz import createWordcloud\n"
   ]
  },
  {
   "cell_type": "code",
   "execution_count": 3,
   "metadata": {},
   "outputs": [],
   "source": [
    "conn = connectMongo.connect_mongo('forums','ooakForum')\n",
    "import re \n",
    "\n",
    "patterns = {'Tenergy 05':\"[tT]energy[-\\s]?05\\s?[^Ff]?[^Xx]?\",\n",
    "            'Baracuda':\"Baracuda\",\n",
    "           }\n",
    "regex_or = re.compile(patterns['Tenergy 05'], re.IGNORECASE)\n",
    "regex_or_result = conn.find({\"title\":regex_or},{\"title\":1,\"replies.clean_text\":1})\n"
   ]
  },
  {
   "cell_type": "markdown",
   "metadata": {},
   "source": [
    "## Tenergy 05"
   ]
  },
  {
   "cell_type": "code",
   "execution_count": 4,
   "metadata": {},
   "outputs": [],
   "source": [
    "regex_or = re.compile(patterns['Tenergy 05'], re.IGNORECASE)\n",
    "regex_or_result = conn.find({\"title\":regex_or},{\"title\":1,\"replies.clean_text\":1})\n",
    "tmp = getData.generate_df_from_result(regex_or_result)\n",
    "df_s = tmp.copy()\n",
    "df_s['reply_split'] = df_s.reply.apply(getData.tokenize_sent)  # df_s.reply.apply(tokenize_sent)\n",
    "df_s = df_s.explode('reply_split')\n",
    "df_s = df_s.drop('reply', axis=1)\n",
    "df_s = df_s.loc[df_s['reply_split'].notnull(),:]"
   ]
  },
  {
   "cell_type": "code",
   "execution_count": 5,
   "metadata": {},
   "outputs": [],
   "source": [
    "df_s.reset_index(inplace=True)\n",
    "searchfor = ['[tT]energy]', '[tT]05']\n",
    "df1 = df_s[df_s.reply_split.str.contains('|'.join(searchfor))]"
   ]
  },
  {
   "cell_type": "markdown",
   "metadata": {},
   "source": [
    "## Baracuda"
   ]
  },
  {
   "cell_type": "code",
   "execution_count": 6,
   "metadata": {},
   "outputs": [],
   "source": [
    "regex_or = re.compile(patterns['Baracuda'], re.IGNORECASE)\n",
    "regex_or_result = conn.find({\"title\":regex_or},{\"title\":1,\"replies.clean_text\":1})\n",
    "tmp = getData.generate_df_from_result(regex_or_result)\n",
    "df_s = tmp.copy()\n",
    "df_s['reply_split'] = df_s.reply.apply(getData.tokenize_sent)\n",
    "df_s = df_s.explode('reply_split')\n",
    "df_s = df_s.drop('reply', axis=1)\n",
    "df_s_tmp = df_s.loc[df_s['reply_split'].notnull(),:]\n",
    "df_s_tmp.reset_index(inplace=True)\n",
    "searchfor = ['[bB]aracuda']\n",
    "df2 = df_s_tmp[df_s_tmp.reply_split.str.contains('|'.join(searchfor))]"
   ]
  },
  {
   "cell_type": "markdown",
   "metadata": {},
   "source": [
    "## Preprocess"
   ]
  },
  {
   "cell_type": "code",
   "execution_count": 7,
   "metadata": {},
   "outputs": [],
   "source": [
    "from common import cleanData\n",
    "data_col = 'reply_split'\n",
    "clean_df1 = cleanData.preprocess_news(df1,data_col,lowercase=True)\n",
    "clean_df2 = cleanData.preprocess_news(df2,data_col,lowercase=True)\n",
    "\n",
    "clean_df1 = cleanData.remove_dash(clean_df1)\n",
    "clean_df2 = cleanData.remove_dash(clean_df2)\n",
    "\n",
    "string_df1 = ' '.join(clean_df1)    \n",
    "string_df2 = ' '.join(clean_df2)    \n"
   ]
  },
  {
   "cell_type": "code",
   "execution_count": 8,
   "metadata": {},
   "outputs": [
    {
     "name": "stdout",
     "output_type": "stream",
     "text": [
      "180\n"
     ]
    }
   ],
   "source": [
    "stop_words = cleanData.get_stopwords_list()\n",
    "t05_stopwords = stop_words\n",
    "t05_stopwords.extend(['T05FX','T05','rubber','t05fx','t05',\"t05fx'\",\"t05 '\",                     \n",
    "'t05','nt','would','much','t05fx','play','get','feel','...','one',\n",
    "                      'use','tenergy','used','the','tried','using','think','t64','ball','spin','speed','playing','played','player','good','better','new'])\n",
    "print(len(t05_stopwords))\n",
    "\n"
   ]
  },
  {
   "cell_type": "code",
   "execution_count": 9,
   "metadata": {},
   "outputs": [
    {
     "name": "stdout",
     "output_type": "stream",
     "text": [
      "214\n"
     ]
    }
   ],
   "source": [
    "baracuda_stopwords = stop_words\n",
    "baracuda_stopwords.extend(['T05FX','T05','rubber','t05fx','t05',\"t05fx'\",\"t05 '\",                     \n",
    "'t05','nt','would','much','t05fx','play','get','feel','...','one','quite','also',\n",
    "                      'use','tenergy','used','the','tried','using','think','baracuda','spin','speed','playing','played','player','good','better'])\n",
    "print(len(baracuda_stopwords))"
   ]
  },
  {
   "cell_type": "code",
   "execution_count": 10,
   "metadata": {},
   "outputs": [],
   "source": [
    "import matplotlib.pyplot as plt"
   ]
  },
  {
   "cell_type": "code",
   "execution_count": 14,
   "metadata": {},
   "outputs": [],
   "source": [
    "## Tenergy 05 Red Wordcloud\n",
    "createWordcloud.produce_wordcloud_graphics(string_df1,t05_stopwords,'../../output/wordcloud/Butterfly-Tenergy-05.png',color='red')"
   ]
  },
  {
   "cell_type": "code",
   "execution_count": 15,
   "metadata": {},
   "outputs": [],
   "source": [
    "## Baracuda Black Wordcloud\n",
    "createWordcloud.produce_wordcloud_graphics(string_df2,baracuda_stopwords,'../../output/wordcloud/Baracuda.png',color='black')"
   ]
  }
 ],
 "metadata": {
  "kernelspec": {
   "display_name": "Python 3",
   "language": "python",
   "name": "python3"
  },
  "language_info": {
   "codemirror_mode": {
    "name": "ipython",
    "version": 3
   },
   "file_extension": ".py",
   "mimetype": "text/x-python",
   "name": "python",
   "nbconvert_exporter": "python",
   "pygments_lexer": "ipython3",
   "version": "3.7.7"
  }
 },
 "nbformat": 4,
 "nbformat_minor": 4
}
