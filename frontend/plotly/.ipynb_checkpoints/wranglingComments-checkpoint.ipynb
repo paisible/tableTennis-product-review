{
 "cells": [
  {
   "cell_type": "markdown",
   "metadata": {},
   "source": [
    "## Wrangling comments"
   ]
  },
  {
   "cell_type": "code",
   "execution_count": 4,
   "metadata": {},
   "outputs": [],
   "source": [
    "import connectDb as c\n",
    "import pandas as pd"
   ]
  },
  {
   "cell_type": "code",
   "execution_count": 5,
   "metadata": {},
   "outputs": [],
   "source": [
    "entity1 = 'Hurricane 3'\n",
    "entity2 = 'Tenergy 05'\n",
    "df = c.retrieve_comparative_comments(entity1,entity2)"
   ]
  },
  {
   "cell_type": "code",
   "execution_count": 6,
   "metadata": {},
   "outputs": [
    {
     "data": {
      "text/html": [
       "<div>\n",
       "<style scoped>\n",
       "    .dataframe tbody tr th:only-of-type {\n",
       "        vertical-align: middle;\n",
       "    }\n",
       "\n",
       "    .dataframe tbody tr th {\n",
       "        vertical-align: top;\n",
       "    }\n",
       "\n",
       "    .dataframe thead th {\n",
       "        text-align: right;\n",
       "    }\n",
       "</style>\n",
       "<table border=\"1\" class=\"dataframe\">\n",
       "  <thead>\n",
       "    <tr style=\"text-align: right;\">\n",
       "      <th></th>\n",
       "      <th>COMMENT_ID</th>\n",
       "      <th>COMMENT_TEXT</th>\n",
       "      <th>ENTITY1</th>\n",
       "      <th>ENTITY2</th>\n",
       "      <th>ASPECT</th>\n",
       "      <th>DIRECTION</th>\n",
       "    </tr>\n",
       "  </thead>\n",
       "  <tbody>\n",
       "    <tr>\n",
       "      <th>0</th>\n",
       "      <td>1</td>\n",
       "      <td>You were the shadow to my light,Did you feel us</td>\n",
       "      <td>Hurricane 3</td>\n",
       "      <td>Tenergy 05</td>\n",
       "      <td>overall</td>\n",
       "      <td>l</td>\n",
       "    </tr>\n",
       "    <tr>\n",
       "      <th>1</th>\n",
       "      <td>2</td>\n",
       "      <td>Another start, You fade away</td>\n",
       "      <td>Hurricane 3</td>\n",
       "      <td>Tenergy 05</td>\n",
       "      <td>control</td>\n",
       "      <td>e</td>\n",
       "    </tr>\n",
       "    <tr>\n",
       "      <th>2</th>\n",
       "      <td>3</td>\n",
       "      <td>Afraid our aim is out of sight, Wanna Ses Us, ...</td>\n",
       "      <td>Hurricane 3</td>\n",
       "      <td>Tenergy 05</td>\n",
       "      <td>spin</td>\n",
       "      <td>g</td>\n",
       "    </tr>\n",
       "    <tr>\n",
       "      <th>3</th>\n",
       "      <td>11</td>\n",
       "      <td>You were the shadow to my light,Did you feel us</td>\n",
       "      <td>Hurricane 3</td>\n",
       "      <td>Tenergy 05</td>\n",
       "      <td>overall</td>\n",
       "      <td>e</td>\n",
       "    </tr>\n",
       "    <tr>\n",
       "      <th>4</th>\n",
       "      <td>12</td>\n",
       "      <td>Another start, You fade away</td>\n",
       "      <td>Hurricane 3</td>\n",
       "      <td>Tenergy 05</td>\n",
       "      <td>control</td>\n",
       "      <td>l</td>\n",
       "    </tr>\n",
       "  </tbody>\n",
       "</table>\n",
       "</div>"
      ],
      "text/plain": [
       "   COMMENT_ID                                       COMMENT_TEXT      ENTITY1  \\\n",
       "0           1    You were the shadow to my light,Did you feel us  Hurricane 3   \n",
       "1           2                       Another start, You fade away  Hurricane 3   \n",
       "2           3  Afraid our aim is out of sight, Wanna Ses Us, ...  Hurricane 3   \n",
       "3          11    You were the shadow to my light,Did you feel us  Hurricane 3   \n",
       "4          12                       Another start, You fade away  Hurricane 3   \n",
       "\n",
       "      ENTITY2   ASPECT DIRECTION  \n",
       "0  Tenergy 05  overall         l  \n",
       "1  Tenergy 05  control         e  \n",
       "2  Tenergy 05     spin         g  \n",
       "3  Tenergy 05  overall         e  \n",
       "4  Tenergy 05  control         l  "
      ]
     },
     "execution_count": 6,
     "metadata": {},
     "output_type": "execute_result"
    }
   ],
   "source": [
    "df.head()"
   ]
  },
  {
   "cell_type": "code",
   "execution_count": 15,
   "metadata": {},
   "outputs": [
    {
     "data": {
      "text/html": [
       "<div>\n",
       "<style scoped>\n",
       "    .dataframe tbody tr th:only-of-type {\n",
       "        vertical-align: middle;\n",
       "    }\n",
       "\n",
       "    .dataframe tbody tr th {\n",
       "        vertical-align: top;\n",
       "    }\n",
       "\n",
       "    .dataframe thead th {\n",
       "        text-align: right;\n",
       "    }\n",
       "</style>\n",
       "<table border=\"1\" class=\"dataframe\">\n",
       "  <thead>\n",
       "    <tr style=\"text-align: right;\">\n",
       "      <th></th>\n",
       "      <th>ASPECT</th>\n",
       "      <th>DIRECTION</th>\n",
       "      <th>COMMENT_ID</th>\n",
       "      <th>SUBGROUP_PCT</th>\n",
       "    </tr>\n",
       "  </thead>\n",
       "  <tbody>\n",
       "    <tr>\n",
       "      <th>0</th>\n",
       "      <td>control</td>\n",
       "      <td>e</td>\n",
       "      <td>1</td>\n",
       "      <td>50.0</td>\n",
       "    </tr>\n",
       "    <tr>\n",
       "      <th>1</th>\n",
       "      <td>control</td>\n",
       "      <td>l</td>\n",
       "      <td>1</td>\n",
       "      <td>50.0</td>\n",
       "    </tr>\n",
       "    <tr>\n",
       "      <th>2</th>\n",
       "      <td>overall</td>\n",
       "      <td>e</td>\n",
       "      <td>1</td>\n",
       "      <td>50.0</td>\n",
       "    </tr>\n",
       "    <tr>\n",
       "      <th>3</th>\n",
       "      <td>overall</td>\n",
       "      <td>l</td>\n",
       "      <td>1</td>\n",
       "      <td>50.0</td>\n",
       "    </tr>\n",
       "    <tr>\n",
       "      <th>4</th>\n",
       "      <td>spin</td>\n",
       "      <td>g</td>\n",
       "      <td>2</td>\n",
       "      <td>100.0</td>\n",
       "    </tr>\n",
       "  </tbody>\n",
       "</table>\n",
       "</div>"
      ],
      "text/plain": [
       "    ASPECT DIRECTION  COMMENT_ID  SUBGROUP_PCT\n",
       "0  control         e           1          50.0\n",
       "1  control         l           1          50.0\n",
       "2  overall         e           1          50.0\n",
       "3  overall         l           1          50.0\n",
       "4     spin         g           2         100.0"
      ]
     },
     "execution_count": 15,
     "metadata": {},
     "output_type": "execute_result"
    }
   ],
   "source": [
    "tallying = df.groupby(['ASPECT','DIRECTION'])['COMMENT_ID'].count().reset_index()\n",
    "tallying['SUBGROUP_PCT'] = tallying.COMMENT_ID / tallying.groupby('ASPECT')['COMMENT_ID'].transform('sum') *100\n",
    "tallying"
   ]
  },
  {
   "cell_type": "code",
   "execution_count": 25,
   "metadata": {},
   "outputs": [],
   "source": [
    "## Summarize percentage\n",
    "tallying_pivot_df = tallying.pivot(index='ASPECT', columns='DIRECTION', values='SUBGROUP_PCT')\n",
    "tallying_pivot_df.fillna(0,inplace=True)\n",
    "\n",
    "## Rename using mapping \n",
    "col_conversion = dict(e='Equal %',g='{} %'.format(entity1),l='{} %'.format(entity2))\n",
    "tallying_pivot_df.rename(columns=col_conversion,inplace=True)"
   ]
  },
  {
   "cell_type": "code",
   "execution_count": 27,
   "metadata": {},
   "outputs": [
    {
     "data": {
      "text/html": [
       "<div>\n",
       "<style scoped>\n",
       "    .dataframe tbody tr th:only-of-type {\n",
       "        vertical-align: middle;\n",
       "    }\n",
       "\n",
       "    .dataframe tbody tr th {\n",
       "        vertical-align: top;\n",
       "    }\n",
       "\n",
       "    .dataframe thead th {\n",
       "        text-align: right;\n",
       "    }\n",
       "</style>\n",
       "<table border=\"1\" class=\"dataframe\">\n",
       "  <thead>\n",
       "    <tr style=\"text-align: right;\">\n",
       "      <th>DIRECTION</th>\n",
       "      <th>ASPECT</th>\n",
       "      <th>Equal %</th>\n",
       "      <th>Hurricane 3 %</th>\n",
       "      <th>Tenergy 05 %</th>\n",
       "    </tr>\n",
       "  </thead>\n",
       "  <tbody>\n",
       "    <tr>\n",
       "      <th>0</th>\n",
       "      <td>control</td>\n",
       "      <td>50.0</td>\n",
       "      <td>0.0</td>\n",
       "      <td>50.0</td>\n",
       "    </tr>\n",
       "    <tr>\n",
       "      <th>1</th>\n",
       "      <td>overall</td>\n",
       "      <td>50.0</td>\n",
       "      <td>0.0</td>\n",
       "      <td>50.0</td>\n",
       "    </tr>\n",
       "    <tr>\n",
       "      <th>2</th>\n",
       "      <td>spin</td>\n",
       "      <td>0.0</td>\n",
       "      <td>100.0</td>\n",
       "      <td>0.0</td>\n",
       "    </tr>\n",
       "  </tbody>\n",
       "</table>\n",
       "</div>"
      ],
      "text/plain": [
       "DIRECTION   ASPECT  Equal %  Hurricane 3 %  Tenergy 05 %\n",
       "0          control     50.0            0.0          50.0\n",
       "1          overall     50.0            0.0          50.0\n",
       "2             spin      0.0          100.0           0.0"
      ]
     },
     "execution_count": 27,
     "metadata": {},
     "output_type": "execute_result"
    }
   ],
   "source": [
    "tallying_pivot_df.reset_index()"
   ]
  },
  {
   "cell_type": "markdown",
   "metadata": {},
   "source": [
    "## Checking Plotly graphics output"
   ]
  },
  {
   "cell_type": "code",
   "execution_count": 29,
   "metadata": {},
   "outputs": [],
   "source": [
    "%matplotlib inline \n",
    "import createBarChart as cbc\n",
    "import matplotlib.pyplot as plt\n",
    "\n",
    "entity1 = 'Hurricane 3'  ## Rubber A\n",
    "entity2 = 'Tenergy 05'  ## Rubber B\n",
    "df = c.retrieve_comparative_comments(entity1,entity2)\n",
    "tally_df = cbc.transform_df_barchart(entity1,entity2,df)"
   ]
  },
  {
   "cell_type": "code",
   "execution_count": 30,
   "metadata": {},
   "outputs": [
    {
     "data": {
      "text/html": [
       "<div>\n",
       "<style scoped>\n",
       "    .dataframe tbody tr th:only-of-type {\n",
       "        vertical-align: middle;\n",
       "    }\n",
       "\n",
       "    .dataframe tbody tr th {\n",
       "        vertical-align: top;\n",
       "    }\n",
       "\n",
       "    .dataframe thead th {\n",
       "        text-align: right;\n",
       "    }\n",
       "</style>\n",
       "<table border=\"1\" class=\"dataframe\">\n",
       "  <thead>\n",
       "    <tr style=\"text-align: right;\">\n",
       "      <th>DIRECTION</th>\n",
       "      <th>ASPECT</th>\n",
       "      <th>Equal %</th>\n",
       "      <th>Hurricane 3 %</th>\n",
       "      <th>Tenergy 05 %</th>\n",
       "    </tr>\n",
       "  </thead>\n",
       "  <tbody>\n",
       "    <tr>\n",
       "      <th>0</th>\n",
       "      <td>control</td>\n",
       "      <td>50.0</td>\n",
       "      <td>0.0</td>\n",
       "      <td>50.0</td>\n",
       "    </tr>\n",
       "    <tr>\n",
       "      <th>1</th>\n",
       "      <td>overall</td>\n",
       "      <td>50.0</td>\n",
       "      <td>0.0</td>\n",
       "      <td>50.0</td>\n",
       "    </tr>\n",
       "    <tr>\n",
       "      <th>2</th>\n",
       "      <td>spin</td>\n",
       "      <td>0.0</td>\n",
       "      <td>100.0</td>\n",
       "      <td>0.0</td>\n",
       "    </tr>\n",
       "  </tbody>\n",
       "</table>\n",
       "</div>"
      ],
      "text/plain": [
       "DIRECTION   ASPECT  Equal %  Hurricane 3 %  Tenergy 05 %\n",
       "0          control     50.0            0.0          50.0\n",
       "1          overall     50.0            0.0          50.0\n",
       "2             spin      0.0          100.0           0.0"
      ]
     },
     "execution_count": 30,
     "metadata": {},
     "output_type": "execute_result"
    }
   ],
   "source": [
    "tally_df"
   ]
  },
  {
   "cell_type": "code",
   "execution_count": null,
   "metadata": {},
   "outputs": [],
   "source": [
    "fig = cbc.create_chart(tally_df,entity1,entity2)\n",
    "fig.show()"
   ]
  }
 ],
 "metadata": {
  "kernelspec": {
   "display_name": "Python 3",
   "language": "python",
   "name": "python3"
  },
  "language_info": {
   "codemirror_mode": {
    "name": "ipython",
    "version": 3
   },
   "file_extension": ".py",
   "mimetype": "text/x-python",
   "name": "python",
   "nbconvert_exporter": "python",
   "pygments_lexer": "ipython3",
   "version": "3.7.9"
  }
 },
 "nbformat": 4,
 "nbformat_minor": 4
}
